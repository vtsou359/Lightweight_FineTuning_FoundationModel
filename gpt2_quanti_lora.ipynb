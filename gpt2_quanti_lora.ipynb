{
 "cells": [
  {
   "metadata": {},
   "cell_type": "markdown",
   "source": [
    "## Fine-Tuning Quantised GPT-2 (4bit) using Lora\n",
    "\n",
    "### PEFT Method:\n",
    "The project implements the PEFT (Parameter-Efficient Fine-Tuning) method to fine-tune a Quantised GPT-2 model using LoRA (Low-Rank Adaptation) for sequence classification tasks.\n",
    "\n",
    "### Model:\n",
    "The model used is the GPT-2 model (Quantised), which is a transformer-based language model pretrained on a large corpus of text data.\n",
    "\n",
    "### Evaluation Approach:\n",
    "The evaluation approach involves computing evaluation metrics like accuracy, precision, recall, and F1 score on the foundation and fine-tuned Quantised GPT-2 model for the given sequence classification task. Then both models are compared.\n",
    "\n",
    "### Fine-Tuning Dataset:\n",
    "The dataset used for fine-tuning the model contains consumer complaints of National Bank of America with corresponding labels for classification (Mortgage, Credit/Prepaid Cards). The dataset is preprocessed, tokenized, and split into training and testing sets for fine-tuning the model."
   ],
   "id": "ab1b51ff62410a34"
  },
  {
   "metadata": {},
   "cell_type": "markdown",
   "source": "#### Imports",
   "id": "808c669ff0af2b0c"
  },
  {
   "cell_type": "code",
   "id": "3afc9c71868e81e1",
   "metadata": {
    "ExecuteTime": {
     "end_time": "2025-01-29T19:57:53.061673Z",
     "start_time": "2025-01-29T19:57:28.197166Z"
    }
   },
   "source": [
    "from datasets import load_dataset, ClassLabel\n",
    "from transformers import (AutoTokenizer,\n",
    "                          AutoModelForSequenceClassification,\n",
    "                          DataCollatorWithPadding,\n",
    "                          Trainer,\n",
    "                          TrainingArguments,\n",
    "                          BitsAndBytesConfig\n",
    ")\n",
    "from peft import (LoraConfig,\n",
    "                  TaskType,\n",
    "                  PeftModel,\n",
    "                  get_peft_model,\n",
    "                  prepare_model_for_kbit_training,\n",
    "                  )\n",
    "from sklearn.metrics import (\n",
    "\taccuracy_score,\n",
    "\tprecision_score,\n",
    "\trecall_score,\n",
    "\tf1_score,\n",
    "\tconfusion_matrix,\n",
    "\tConfusionMatrixDisplay\n",
    ")\n",
    "import pandas as pd\n",
    "import matplotlib.pyplot as plt\n",
    "from pathlib import Path\n",
    "import numpy as np\n",
    "import seaborn as sns\n",
    "sns.set_theme(style=\"white\")\n",
    "\n",
    "#model name id in hugging face\n",
    "mdl_tok_name = \"gpt2\""
   ],
   "outputs": [],
   "execution_count": 1
  },
  {
   "metadata": {},
   "cell_type": "markdown",
   "source": "#### Test Nvidia CUDA in torch",
   "id": "a3852959fe21ee20"
  },
  {
   "metadata": {
    "ExecuteTime": {
     "end_time": "2025-01-29T19:57:53.202983Z",
     "start_time": "2025-01-29T19:57:53.078684Z"
    }
   },
   "cell_type": "code",
   "source": [
    "# Importing required function\n",
    "import torch\n",
    "\n",
    "# Check if CUDA is available\n",
    "if torch.cuda.is_available():\n",
    "\tprint(torch.cuda.is_available())\n",
    "\tprint(torch.cuda.device_count())\n",
    "\tprint(torch.cuda.get_device_name(0))\n",
    "\ttorch.cuda.empty_cache()\n",
    "\ttorch.device('cuda')\n",
    "else:\n",
    "\tprint(\"CUDA is not available on this system. Please ensure that a CUDA-capable device is properly configured.\")\n"
   ],
   "id": "32b559eb5a5b08f1",
   "outputs": [
    {
     "name": "stdout",
     "output_type": "stream",
     "text": [
      "True\n",
      "1\n",
      "NVIDIA GeForce RTX 4070 Ti\n"
     ]
    }
   ],
   "execution_count": 2
  },
  {
   "metadata": {},
   "cell_type": "markdown",
   "source": "#### Defining Evaluation Metrics as a function",
   "id": "cf120beb5d67c4be"
  },
  {
   "metadata": {
    "ExecuteTime": {
     "end_time": "2025-01-29T19:57:53.628890Z",
     "start_time": "2025-01-29T19:57:53.622062Z"
    }
   },
   "cell_type": "code",
   "source": [
    "def compute_metrics(eval_pred):\n",
    "\t\"\"\"\n",
    "\tCompute evaluation metrics from the given predictions and labels.\n",
    "\n",
    "\tThis function accepts an evaluation prediction object containing prediction\n",
    "\tscores and true labels, calculates the relevant classification metrics, and\n",
    "\treturns a dictionary containing these metrics. Metrics computed include\n",
    "\taccuracy, precision, recall, and F1 score.\n",
    "\n",
    "\t:param eval_pred: A tuple containing the predictions and true labels. The\n",
    "\t    predictions are expected as a 2D array where each row contains the\n",
    "\t    probabilistic scores for each class, and true labels are expected as\n",
    "\t    a 1D array of ground truth class indices.\n",
    "\t:return: A dictionary containing the evaluation metrics, with the following\n",
    "\t    keys: \"accuracy\", \"precision\", \"recall\", and \"f1\".\n",
    "\t:rtype: dict\n",
    "\t\"\"\"\n",
    "\t# Unpack predictions and labels\n",
    "\tpredictions, labels = eval_pred\n",
    "\t# Get the predicted class (argmax selects the class with the highest score)\n",
    "\tpredictions = np.argmax(predictions, axis = 1)\n",
    "\t# Compute metrics\n",
    "\taccuracy = accuracy_score(y_true = labels, y_pred = predictions)\n",
    "\tprecision = precision_score(y_true =labels, y_pred =predictions)\n",
    "\trecall = recall_score(y_true = labels, y_pred = predictions)\n",
    "\tf1 = f1_score(y_true = labels, y_pred = predictions)\n",
    "\t# Return all metrics\n",
    "\treturn {\"accuracy\": accuracy, \"precision\": precision, \"recall\": recall, \"f1\": f1}"
   ],
   "id": "70c1a899c9f1b258",
   "outputs": [],
   "execution_count": 3
  },
  {
   "metadata": {},
   "cell_type": "markdown",
   "source": "#### Creating a confusion matrix visualisation function",
   "id": "419966502e852532"
  },
  {
   "metadata": {
    "ExecuteTime": {
     "end_time": "2025-01-29T19:57:53.646414Z",
     "start_time": "2025-01-29T19:57:53.639643Z"
    }
   },
   "cell_type": "code",
   "source": [
    "def create_confusion_matrix(data, cl_classes, trainer_ ,title_text = 'Confusion Matrix - Validation Set'):\n",
    " \"\"\"\n",
    "\t    Constructs and displays a confusion matrix to evaluate the performance of\n",
    "\t    a classifier on a given dataset, highlighting the relationship between true\n",
    "\t    labels and predicted classifications. The confusion matrix provides insights\n",
    "\t    into label-wise classification accuracy and errors.\n",
    "\n",
    "\t    :param data: A dataset containing the validation data and their corresponding\n",
    "\t        labels in a structure suitable for evaluation.\n",
    "\t    :type data: Any\n",
    "\t    :param cl_classes: A list of possible classification labels (classes) corresponding\n",
    "\t        to the data. Each item in the list represents a unique label of the classification\n",
    "\t        task.\n",
    "\t    :type cl_classes: list\n",
    "\t    :param trainer_: An object or function used to generate predictions for the given\n",
    "\t        dataset. It must support the required interface or methods to provide predictions\n",
    "\t        or probabilities for the data.\n",
    "\t    :type trainer_: Any\n",
    "\t    :param title_text: A title for the confusion matrix visualization, used to label\n",
    "\t        the plot for clarity. Defaults to 'Confusion Matrix - Validation Set'.\n",
    "\t    :type title_text: str\n",
    "\t    :return: The generated confusion matrix after the evaluation of the data for\n",
    "\t        comparison with true labels. The matrix format assigns rows to true labels\n",
    "\t        and columns to predicted labels.\n",
    "\t    :rtype: Any\n",
    " \"\"\"\n",
    " results = trainer_.predict(data)\n",
    " # Create confusion matrix\n",
    " y_true = results.label_ids\n",
    " y_pred = results.predictions.argmax(axis=1)\n",
    " cm = confusion_matrix(y_true, y_pred, labels=[0, 1])\n",
    " # Display the confusion matrix\n",
    " disp = ConfusionMatrixDisplay(confusion_matrix=cm,display_labels=cl_classes)\n",
    " disp.plot(cmap=plt.cm.Blues)\n",
    " plt.title(title_text, pad= 12)\n",
    " plt.show()\n",
    " return None"
   ],
   "id": "9e8135c656772a18",
   "outputs": [],
   "execution_count": 4
  },
  {
   "metadata": {},
   "cell_type": "markdown",
   "source": "#### Loading the filtered dataset",
   "id": "d044bb1571cbc875"
  },
  {
   "metadata": {
    "collapsed": true,
    "ExecuteTime": {
     "end_time": "2025-01-29T19:57:54.477951Z",
     "start_time": "2025-01-29T19:57:53.706469Z"
    }
   },
   "cell_type": "code",
   "source": [
    "# Define the file path to the dataset\n",
    "file_path = Path(\"data/filtered_dataset.csv\")\n",
    "\n",
    "# Load the dataset using Hugging Face's `load_dataset`\n",
    "dataset = load_dataset('csv', data_files = str(file_path))\n",
    "\n",
    "# Inspect the unique values in the 'labels' column\n",
    "product_classes = dataset[\"train\"].unique(\"Product\")\n",
    "\n",
    "# Convert the 'Product' column to a ClassLabel feature\n",
    "product_label = ClassLabel(names=product_classes)\n",
    "dataset = dataset.cast_column(\"Product\", product_label)\n",
    "\n",
    "# Rename the columns: \"Product\" to \"labels\", and \"Consumer complaint narrative\" to \"complaint\"\n",
    "dataset = dataset.rename_column(\"Product\", \"labels\")\n",
    "dataset = dataset.rename_column(\"Consumer complaint narrative\", \"complaint\")\n",
    "\n",
    "# Extract the features (columns) we want\n",
    "dataset = \\\n",
    "    dataset[\"train\"].select_columns(\n",
    "        [\"complaint\", \"labels\"]\n",
    "    ).train_test_split(\n",
    "        test_size=0.2,\n",
    "        shuffle=True,\n",
    "        seed=23,\n",
    "        stratify_by_column=\"labels\"\n",
    "    )\n",
    "splits = [\"train\", \"test\"]\n",
    "\n",
    "# View the resulting dataset\n",
    "print(dataset)"
   ],
   "id": "initial_id",
   "outputs": [
    {
     "name": "stdout",
     "output_type": "stream",
     "text": [
      "DatasetDict({\n",
      "    train: Dataset({\n",
      "        features: ['complaint', 'labels'],\n",
      "        num_rows: 1600\n",
      "    })\n",
      "    test: Dataset({\n",
      "        features: ['complaint', 'labels'],\n",
      "        num_rows: 400\n",
      "    })\n",
      "})\n"
     ]
    }
   ],
   "execution_count": 5
  },
  {
   "metadata": {},
   "cell_type": "markdown",
   "source": [
    "#### Inspecting the labels\n",
    "\n",
    "Credit card or Prepaid Card is labeled as 0 and  Mortgage is labeled as 1"
   ],
   "id": "5515a2b1ef507acb"
  },
  {
   "metadata": {
    "ExecuteTime": {
     "end_time": "2025-01-29T19:57:54.510269Z",
     "start_time": "2025-01-29T19:57:54.501799Z"
    }
   },
   "cell_type": "code",
   "source": "product_label",
   "id": "b9040be5e710a56f",
   "outputs": [
    {
     "data": {
      "text/plain": [
       "ClassLabel(names=['Mortgage', 'Credit card or prepaid card'], id=None)"
      ]
     },
     "execution_count": 6,
     "metadata": {},
     "output_type": "execute_result"
    }
   ],
   "execution_count": 6
  },
  {
   "metadata": {},
   "cell_type": "markdown",
   "source": [
    "#### Preprocess dataset\n",
    "\n",
    "Tokenizing 'Consumer complaint narrative' feature values"
   ],
   "id": "d33a3db87bf72169"
  },
  {
   "metadata": {
    "ExecuteTime": {
     "end_time": "2025-01-29T19:59:15.195009Z",
     "start_time": "2025-01-29T19:57:54.564965Z"
    }
   },
   "cell_type": "code",
   "source": [
    "tokenizer = AutoTokenizer.from_pretrained(mdl_tok_name)\n",
    "tokenizer.pad_token = tokenizer.eos_token\n",
    "\n",
    "# Let's use a lambda function to tokenize all the examples\n",
    "tokenized_dataset = {}\n",
    "for split in splits:\n",
    "    tokenized_dataset[split] = dataset[split].map(\n",
    "        lambda x: tokenizer(x[\"complaint\"],\n",
    "                            truncation=True,\n",
    "                            padding=True,\n",
    "                            return_tensors = \"pt\"\n",
    "                            ),\n",
    "\t    batched=True,\n",
    "\n",
    "    )\n",
    "\n",
    "# Inspect the available columns in the dataset\n",
    "tokenized_dataset[\"train\"]"
   ],
   "id": "4de95d07c818cebd",
   "outputs": [
    {
     "data": {
      "text/plain": [
       "Dataset({\n",
       "    features: ['complaint', 'labels', 'input_ids', 'attention_mask'],\n",
       "    num_rows: 1600\n",
       "})"
      ]
     },
     "execution_count": 7,
     "metadata": {},
     "output_type": "execute_result"
    }
   ],
   "execution_count": 7
  },
  {
   "metadata": {},
   "cell_type": "markdown",
   "source": "#### Quantisation configuration",
   "id": "cd0e9bf3047d3e57"
  },
  {
   "metadata": {
    "ExecuteTime": {
     "end_time": "2025-01-29T19:59:15.264257Z",
     "start_time": "2025-01-29T19:59:15.258068Z"
    }
   },
   "cell_type": "code",
   "source": [
    "# Define 4-bit configuration\n",
    "bnb_config = BitsAndBytesConfig(\n",
    "\tload_in_4bit = True,  # Enabling 4-bit quantization\n",
    "\tbnb_4bit_use_double_quant = True,  # Using double quantization for better accuracy\n",
    "\tbnb_4bit_quant_type = \"nf4\",  # Using NormalFloat4 for higher precision (than fp4)\n",
    "\tbnb_4bit_compute_dtype = torch.bfloat16\n",
    ")\n"
   ],
   "id": "be74bfb3368cbbf6",
   "outputs": [],
   "execution_count": 8
  },
  {
   "metadata": {},
   "cell_type": "markdown",
   "source": "#### Loading Model with quantisation configuration",
   "id": "7edce09ded4bded4"
  },
  {
   "metadata": {
    "ExecuteTime": {
     "end_time": "2025-01-29T19:59:20.948693Z",
     "start_time": "2025-01-29T19:59:15.402514Z"
    }
   },
   "cell_type": "code",
   "source": [
    "model_4b = AutoModelForSequenceClassification.from_pretrained(\n",
    "    mdl_tok_name,\n",
    "    num_labels = 2,\n",
    "    id2label = {0: \"Mortgage\", 1: \"Credit card or prepaid card\"},\n",
    "    label2id = {\"Credit card or prepaid card\": 1, \"Mortgage\": 0},\n",
    "\tdevice_map = \"auto\", # Automatically move to GPU\n",
    "\tquantization_config = bnb_config,  # Passing the bitsandbytes config\n",
    "\ttorch_dtype=\"auto\"\n",
    ")\n",
    "\n",
    "# Update the model config with the pad token ID\n",
    "model_4b.config.pad_token_id = tokenizer.pad_token_id\n",
    "\n",
    "# Saving the model\n",
    "model_4b.save_pretrained(\"./vtsoumpris/fnc-gpt2-q4\")\n",
    "\n",
    "print(model_4b)"
   ],
   "id": "382a8fe8d3b4e8d0",
   "outputs": [
    {
     "name": "stderr",
     "output_type": "stream",
     "text": [
      "Some weights of GPT2ForSequenceClassification were not initialized from the model checkpoint at gpt2 and are newly initialized: ['score.weight']\n",
      "You should probably TRAIN this model on a down-stream task to be able to use it for predictions and inference.\n"
     ]
    },
    {
     "name": "stdout",
     "output_type": "stream",
     "text": [
      "GPT2ForSequenceClassification(\n",
      "  (transformer): GPT2Model(\n",
      "    (wte): Embedding(50257, 768)\n",
      "    (wpe): Embedding(1024, 768)\n",
      "    (drop): Dropout(p=0.1, inplace=False)\n",
      "    (h): ModuleList(\n",
      "      (0-11): 12 x GPT2Block(\n",
      "        (ln_1): LayerNorm((768,), eps=1e-05, elementwise_affine=True)\n",
      "        (attn): GPT2Attention(\n",
      "          (c_attn): Linear4bit(in_features=768, out_features=2304, bias=True)\n",
      "          (c_proj): Linear4bit(in_features=768, out_features=768, bias=True)\n",
      "          (attn_dropout): Dropout(p=0.1, inplace=False)\n",
      "          (resid_dropout): Dropout(p=0.1, inplace=False)\n",
      "        )\n",
      "        (ln_2): LayerNorm((768,), eps=1e-05, elementwise_affine=True)\n",
      "        (mlp): GPT2MLP(\n",
      "          (c_fc): Linear4bit(in_features=768, out_features=3072, bias=True)\n",
      "          (c_proj): Linear4bit(in_features=3072, out_features=768, bias=True)\n",
      "          (act): NewGELUActivation()\n",
      "          (dropout): Dropout(p=0.1, inplace=False)\n",
      "        )\n",
      "      )\n",
      "    )\n",
      "    (ln_f): LayerNorm((768,), eps=1e-05, elementwise_affine=True)\n",
      "  )\n",
      "  (score): Linear(in_features=768, out_features=2, bias=False)\n",
      ")\n"
     ]
    }
   ],
   "execution_count": 9
  },
  {
   "metadata": {},
   "cell_type": "markdown",
   "source": "##### Preparing model for kbit training",
   "id": "267eb06a7d297988"
  },
  {
   "metadata": {
    "ExecuteTime": {
     "end_time": "2025-01-29T19:59:20.977298Z",
     "start_time": "2025-01-29T19:59:20.970706Z"
    }
   },
   "cell_type": "code",
   "source": [
    "model_4b.gradient_checkpointing_enable()\n",
    "model_4b = prepare_model_for_kbit_training(model_4b)"
   ],
   "id": "e48fe4c42816d0f6",
   "outputs": [],
   "execution_count": 10
  },
  {
   "metadata": {},
   "cell_type": "markdown",
   "source": "#### Lora Configuration for gpt-2 model\n",
   "id": "780a69ac1b88f5a3"
  },
  {
   "metadata": {
    "ExecuteTime": {
     "end_time": "2025-01-29T19:59:21.016583Z",
     "start_time": "2025-01-29T19:59:21.011685Z"
    }
   },
   "cell_type": "code",
   "source": [
    "lora_config = \\\n",
    "\tLoraConfig(\n",
    "\t\tr = 6,  # Low-rank dimension\n",
    "\t\ttarget_modules = [\"c_attn\", \"c_proj\", \"c_fc\"],\n",
    "\t\ttask_type = TaskType.SEQ_CLS,  # Task type: Sequence Classification\n",
    "\t\tlora_alpha = 32,  # Scaling factor: 32, should consider to increase for larger models\n",
    "\t\tlora_dropout = 0.1,  # Dropout, increase slightly if facing overfitting,\n",
    "\t\tbias = \"none\"\n",
    "\t)"
   ],
   "id": "8fdfeb02484293c4",
   "outputs": [],
   "execution_count": 11
  },
  {
   "metadata": {},
   "cell_type": "markdown",
   "source": "#### Loading foundation model as PEFT model (with Lora adapter)",
   "id": "5ab5a28f57985e24"
  },
  {
   "metadata": {
    "ExecuteTime": {
     "end_time": "2025-01-29T19:59:21.118914Z",
     "start_time": "2025-01-29T19:59:21.040366Z"
    }
   },
   "cell_type": "code",
   "source": [
    "peft_model = get_peft_model(model_4b, lora_config)\n",
    "peft_model.print_trainable_parameters()"
   ],
   "id": "92bbb4de048aa7a8",
   "outputs": [
    {
     "name": "stdout",
     "output_type": "stream",
     "text": [
      "trainable params: 886,272 || all params: 125,327,616 || trainable%: 0.7072\n"
     ]
    }
   ],
   "execution_count": 12
  },
  {
   "metadata": {},
   "cell_type": "markdown",
   "source": [
    "#### Define Trainer to fine-tune the foundation model\n",
    "\n",
    "The HuggingFace Trainer class handles the training and eval loop for PyTorch.\n",
    "\n",
    "You can find more at this [link](https://huggingface.co/docs/transformers/main_classes/trainer)."
   ],
   "id": "fb730de6ffb08b74"
  },
  {
   "metadata": {
    "ExecuteTime": {
     "end_time": "2025-01-29T19:59:21.313Z",
     "start_time": "2025-01-29T19:59:21.128931Z"
    }
   },
   "cell_type": "code",
   "source": [
    "trainer = Trainer(\n",
    "    model= peft_model,\n",
    "    args=TrainingArguments(\n",
    "        output_dir= \"./data/creditc_mortg\",\n",
    "        # Learning rate\n",
    "        learning_rate= 2e-5,\n",
    "        # Train/Validate batch size\n",
    "        per_device_train_batch_size= 8, # 8: Batch size to avoid memory crashes\n",
    "        per_device_eval_batch_size= 8, # 8: Same for evaluation\n",
    "        # Evaluate and save the model after each epoch\n",
    "        eval_strategy= \"epoch\", # Evaluate at the end of each epoch\n",
    "        save_strategy= \"epoch\", # Save model checkpoint every epoch\n",
    "\t    # Epochs and weight decay\n",
    "        num_train_epochs= 10,\n",
    "        weight_decay= 0.01,  # Standard weight decay\n",
    "\t    # Resource management\n",
    "\t\tgradient_accumulation_steps= 4,  # Simulate larger batches with accumulation\n",
    "\t    #\n",
    "        load_best_model_at_end= True,\n",
    "\t    use_cpu= False, # Ensure GPU usage\n",
    "\t    seed = 42,\n",
    "\t    data_seed = 42,\n",
    "\t    # Enable logging for losses\n",
    "\t    logging_dir= \".data/logs/gpt2_q4_lora_logs\", #dir to save logs\n",
    "        logging_strategy = \"epoch\", #log at regular intervals\n",
    "\t    log_level = 'error'\n",
    "    ),\n",
    "    train_dataset= tokenized_dataset[\"train\"],\n",
    "    eval_dataset= tokenized_dataset[\"test\"],\n",
    "    tokenizer= tokenizer,\n",
    "    data_collator= DataCollatorWithPadding(tokenizer=tokenizer),\n",
    "    compute_metrics= compute_metrics,\n",
    ")"
   ],
   "id": "92839e841ad89c62",
   "outputs": [
    {
     "name": "stderr",
     "output_type": "stream",
     "text": [
      "C:\\Users\\vtsoumpris\\AppData\\Local\\Temp\\ipykernel_12560\\2970903001.py:1: FutureWarning: `tokenizer` is deprecated and will be removed in version 5.0.0 for `Trainer.__init__`. Use `processing_class` instead.\n",
      "  trainer = Trainer(\n"
     ]
    }
   ],
   "execution_count": 13
  },
  {
   "metadata": {},
   "cell_type": "markdown",
   "source": "#### Start fine-tuning",
   "id": "57b08c612fd471de"
  },
  {
   "metadata": {
    "ExecuteTime": {
     "end_time": "2025-01-27T22:16:19.979401Z",
     "start_time": "2025-01-27T21:48:52.563165Z"
    }
   },
   "cell_type": "code",
   "source": [
    "import warnings\n",
    "# Suppress all UserWarnings\n",
    "warnings.filterwarnings(\"ignore\", category = UserWarning)\n",
    "\n",
    "trainer.train()"
   ],
   "id": "e3182054a5155275",
   "outputs": [
    {
     "data": {
      "text/plain": [
       "<IPython.core.display.HTML object>"
      ],
      "text/html": [
       "\n",
       "    <div>\n",
       "      \n",
       "      <progress value='500' max='500' style='width:300px; height:20px; vertical-align: middle;'></progress>\n",
       "      [500/500 27:20, Epoch 10/10]\n",
       "    </div>\n",
       "    <table border=\"1\" class=\"dataframe\">\n",
       "  <thead>\n",
       " <tr style=\"text-align: left;\">\n",
       "      <th>Epoch</th>\n",
       "      <th>Training Loss</th>\n",
       "      <th>Validation Loss</th>\n",
       "      <th>Accuracy</th>\n",
       "      <th>Precision</th>\n",
       "      <th>Recall</th>\n",
       "      <th>F1</th>\n",
       "    </tr>\n",
       "  </thead>\n",
       "  <tbody>\n",
       "    <tr>\n",
       "      <td>1</td>\n",
       "      <td>1.275300</td>\n",
       "      <td>0.766183</td>\n",
       "      <td>0.500000</td>\n",
       "      <td>0.500000</td>\n",
       "      <td>0.300000</td>\n",
       "      <td>0.375000</td>\n",
       "    </tr>\n",
       "    <tr>\n",
       "      <td>2</td>\n",
       "      <td>0.807700</td>\n",
       "      <td>0.695666</td>\n",
       "      <td>0.555000</td>\n",
       "      <td>0.555556</td>\n",
       "      <td>0.550000</td>\n",
       "      <td>0.552764</td>\n",
       "    </tr>\n",
       "    <tr>\n",
       "      <td>3</td>\n",
       "      <td>0.728600</td>\n",
       "      <td>0.662285</td>\n",
       "      <td>0.617500</td>\n",
       "      <td>0.621762</td>\n",
       "      <td>0.600000</td>\n",
       "      <td>0.610687</td>\n",
       "    </tr>\n",
       "    <tr>\n",
       "      <td>4</td>\n",
       "      <td>0.678700</td>\n",
       "      <td>0.628544</td>\n",
       "      <td>0.655000</td>\n",
       "      <td>0.691358</td>\n",
       "      <td>0.560000</td>\n",
       "      <td>0.618785</td>\n",
       "    </tr>\n",
       "    <tr>\n",
       "      <td>5</td>\n",
       "      <td>0.628600</td>\n",
       "      <td>0.578574</td>\n",
       "      <td>0.712500</td>\n",
       "      <td>0.722513</td>\n",
       "      <td>0.690000</td>\n",
       "      <td>0.705882</td>\n",
       "    </tr>\n",
       "    <tr>\n",
       "      <td>6</td>\n",
       "      <td>0.556100</td>\n",
       "      <td>0.525877</td>\n",
       "      <td>0.752500</td>\n",
       "      <td>0.791908</td>\n",
       "      <td>0.685000</td>\n",
       "      <td>0.734584</td>\n",
       "    </tr>\n",
       "    <tr>\n",
       "      <td>7</td>\n",
       "      <td>0.481400</td>\n",
       "      <td>0.475596</td>\n",
       "      <td>0.797500</td>\n",
       "      <td>0.856287</td>\n",
       "      <td>0.715000</td>\n",
       "      <td>0.779292</td>\n",
       "    </tr>\n",
       "    <tr>\n",
       "      <td>8</td>\n",
       "      <td>0.417600</td>\n",
       "      <td>0.408745</td>\n",
       "      <td>0.827500</td>\n",
       "      <td>0.857923</td>\n",
       "      <td>0.785000</td>\n",
       "      <td>0.819843</td>\n",
       "    </tr>\n",
       "    <tr>\n",
       "      <td>9</td>\n",
       "      <td>0.383000</td>\n",
       "      <td>0.380845</td>\n",
       "      <td>0.847500</td>\n",
       "      <td>0.888268</td>\n",
       "      <td>0.795000</td>\n",
       "      <td>0.839050</td>\n",
       "    </tr>\n",
       "    <tr>\n",
       "      <td>10</td>\n",
       "      <td>0.367100</td>\n",
       "      <td>0.368166</td>\n",
       "      <td>0.852500</td>\n",
       "      <td>0.893855</td>\n",
       "      <td>0.800000</td>\n",
       "      <td>0.844327</td>\n",
       "    </tr>\n",
       "  </tbody>\n",
       "</table><p>"
      ]
     },
     "metadata": {},
     "output_type": "display_data"
    },
    {
     "data": {
      "text/plain": [
       "TrainOutput(global_step=500, training_loss=0.6324154472351075, metrics={'train_runtime': 1647.2146, 'train_samples_per_second': 9.713, 'train_steps_per_second': 0.304, 'total_flos': 8448620101632000.0, 'train_loss': 0.6324154472351075, 'epoch': 10.0})"
      ]
     },
     "execution_count": 14,
     "metadata": {},
     "output_type": "execute_result"
    }
   ],
   "execution_count": 14
  },
  {
   "metadata": {},
   "cell_type": "markdown",
   "source": "#### Final fine-tuned model evaluation metrics",
   "id": "316e5a584b9b71a5"
  },
  {
   "metadata": {
    "ExecuteTime": {
     "end_time": "2025-01-27T22:16:31.145370Z",
     "start_time": "2025-01-27T22:16:20.033491Z"
    }
   },
   "cell_type": "code",
   "source": "trainer.evaluate()",
   "id": "39e8497ae9c42335",
   "outputs": [
    {
     "data": {
      "text/plain": [
       "<IPython.core.display.HTML object>"
      ],
      "text/html": []
     },
     "metadata": {},
     "output_type": "display_data"
    },
    {
     "data": {
      "text/plain": [
       "{'eval_loss': 0.3681662678718567,\n",
       " 'eval_accuracy': 0.8525,\n",
       " 'eval_precision': 0.8938547486033519,\n",
       " 'eval_recall': 0.8,\n",
       " 'eval_f1': 0.8443271767810027,\n",
       " 'eval_runtime': 11.099,\n",
       " 'eval_samples_per_second': 36.039,\n",
       " 'eval_steps_per_second': 4.505,\n",
       " 'epoch': 10.0}"
      ]
     },
     "execution_count": 15,
     "metadata": {},
     "output_type": "execute_result"
    }
   ],
   "execution_count": 15
  },
  {
   "metadata": {},
   "cell_type": "markdown",
   "source": "#### Saving the model for later use",
   "id": "2c266b74491ac154"
  },
  {
   "metadata": {
    "ExecuteTime": {
     "end_time": "2025-01-27T22:16:31.535188Z",
     "start_time": "2025-01-27T22:16:31.178378Z"
    }
   },
   "cell_type": "code",
   "source": "peft_model.save_pretrained(\"./vtsoumpris/fnc-gpt2-q4lora\")",
   "id": "d2900e98d50d4751",
   "outputs": [],
   "execution_count": 16
  },
  {
   "metadata": {},
   "cell_type": "markdown",
   "source": "#### Printing some of the predictions and the real labels",
   "id": "3101e08f0c8bfd6d"
  },
  {
   "metadata": {
    "ExecuteTime": {
     "end_time": "2025-01-27T22:17:29.351278Z",
     "start_time": "2025-01-27T22:17:28.700953Z"
    }
   },
   "cell_type": "code",
   "source": [
    "# Make a dataframe with the predictions and the text and the labels\n",
    "items_for_manual_review = tokenized_dataset[\"test\"].select(\n",
    "    [0, 1, 22, 31, 43, 199, 150, 40]\n",
    ")\n",
    "\n",
    "results = trainer.predict(items_for_manual_review)\n",
    "df = pd.DataFrame(\n",
    "    {\n",
    "        \"complaint\": [item[\"complaint\"] for item in items_for_manual_review],\n",
    "        \"predictions\": results.predictions.argmax(axis=1),\n",
    "        \"labels\": results.label_ids,\n",
    "    }\n",
    ")\n",
    "# Show all the cell\n",
    "pd.set_option(\"display.max_colwidth\", None)\n",
    "df"
   ],
   "id": "909478a8b3b51301",
   "outputs": [
    {
     "data": {
      "text/plain": [
       "                                                                                                                                                                                                                                                                                                                                                                                                                                                                                                                                                                                                                                                                                                                                                                                                                                                                                                                                                                                                                                                                                                                                                                                                                                                                                                                                                                                                                                                                                                                                                                                                                                                                                                                                                                                                                                                                                                                                                                                                                                                                                                                                                                                                                                                                                                                                                                                                                                                                                                                                                                                                                                                                                                                                                                                                                                                                                                                                                                                                                                                                                                                                                                                                                                                                                                                                                                                                                                                                                                                                                                                                                                                                                                                                                                                                                                                                                                                                       complaint  \\\n",
       "0                                                                                                                                                                                                                                                                                                                                                                                                                                                                                                                                                                                                                                                                                                                                                                                                                                                                                                                                                                                                                                                                                                                                                                                                                                                                                                                                                                                                                                                                                                                                                                                                                                                                                                                                                                                                                                                                                                                                                                                                                                                                                                                                                                                                                                                                                                                                                                                                                                                                                                                                                                                                                                                                                                                                                                                                                                                                                                                                                                                                                                                                                                                                                                                                                                                                                                                                          I was offered a secured line of credit with Bank of America. I was asked to pay a deposit of {$200.00}, was told that after a few months, usually 6 months of good payment history, I would get an increase on my credit limit, and that after 12 months, I would get my deposit back. Neither of these promises took place, instead, Bank of America closed my credit line without any previous notice and has never returned my {$200.00} deposit and my payment history is/was excellent. The line of credit has been closed for a few months now and I have yet to received my {$200.00} deposit.   \n",
       "1  Bank of America started servicing my Mortgage in XXXX. I had a conventional loan. I received a permanent home modification in XXXX. My loan has always been in good standing and was never deliquent. I modified the loan to get a lower interest rate. Apparently Bank of America made some mistakes during this process of the modification and I had to do the Modification over again. In XXXX Bank of Americaa sold my loan to a Dept Collection Agency named XXXX. This company has unscrupolus business practices that has caused emotional and financial harm to me. In XXXX, XXXX, I began to make my contractual mortgage payments to XXXX as my new servicer in the amount of {$620.00}. XXXX immediately claimed I missed a payment to Bank of Americia on XXXX XXXX and begin to harrass me on my cell phone demanding that I pay them. I told them I had never missed a payment with Bank of America and why would they concern themselfs with my Morgage with Bank of America 2 year prior to them taking over my loan? XXXX claimed they paid Bank of America the missing funds on XXXX XXXX, XXXX and begin to charge me late fees and evenutlly cause my loan to go into Foreclosure. XXXX also increased my Mortgage amount from {$620.00} to {$790.00} stating I had a shortage in Escorws without properly notifying me of the large increase. When I paid the amount I was contracted to pay, XXXX put my mortgage payment in a suspense account stating they do not take partial payments. XXXX begain to add late fees, unauthorized inspection fees and demanded full payment and threatend to start legal procedures of foreclosure. I contacted XXXX representatives in XXXX week trying to resolve this proplem. XXXX did XXXX escrow analysis from XXXX XXXX to XXXX, XXXX and each time my escow shortage changed with each representative. I contacted Bank of America and aske them if they have any knowledge of a missed payment and they said no. I asked Bank of America to fax over my payment history which they did and there was no record of a missed payment. XXXX continued to harrass me as a collection agency does. I was confused about how my mortgage having been serviced by a professional and reputable company such as Bank of America could go from excellent payment history to Foreclosure in a matter of 4 months. I was so distraught I reached out to my brother for support that perhaps I was somehow making a mistake. He looked at my banking records from XXXX XXXX Bank and Bank of America 's record and he too found no missing payments and he wrote the CEO of the Company and filed a complaint that XXXX was falsesifying records to delibertly cause my loan to be in default, however, XXXX 's investigation found no errors and reported my loan deliquent to the credit bureau and I was disqulified from receiving my {$5000.00} inscentive payment for keeping my loan in good standing. After much grief dealing with a Criminal company, I reached out to the XXXX office to file a complaint against XXXX and discovered XXXX is not a bank at all they are a fly by night collection company. Bank of America has no documentation of XXXX ever sending them funds on XXXX XXXX and there is no missing payment. XXXX is running scams on their customers and there is plenty documentatiion as such. My loan should have never went to a collection agency and XXXX uses off shore agents to handle mortgages and unauthorized escrow agents who are not trained and who has made many mistakes on my account. In XXXX, XXXX blessed me to receive the hardest hit fund in the amount of {$20000.00} to be applied to the principal balance but Nationstar didnt apply the funds until XXXX, XXXX. I had made several extra payments to my principal balance but XXXX refused to apply these funds as I alocated .Why was my loan turned over to collection   \n",
       "2                                                                                                                                                                                                                                                                                                                                                                                                                                                                                                                                                                                                                                                                                                                                                                                                                                                                                                                                                                                                                                                                                                                                                                                                                                                                                                                                                                                                                                                                                                                                                                                                                                                                                                                                                                                                                                                                                                                                                                                                                                                                                                                                                                                                                                                                                                                                                                                                                                                                                                                                                                                                                                                                                                                                                                                                                                                                                                                                                                                  I was told I could not get modification ok.so I was read on XXXX XXXX XXXX web hardest hit funds programs and XXXX XXXX XXXX home equity assistance or and repayment plans of up to 12 months to help catch up on a past due payments and I was not told about this forbearance I can do that all so I did not no they had all these programs I only no about the modification program I found this on XXXX XXXX XXXX web I do n't need my payment to be reduce i can pay that and all so and extra {$500.00} a month to caught up I 'm out of work because I was XXXX by a lady and she was very XXXX and that why I 'm out of work these last four year I ben having not such good luck first I had XXXX XXXX and I beat that thank to XXXX and now XXXX XXXX XXXX XXXX and both of my XXXX XXXX XXXX XXXX XXXX XXXX XXXX and I have XXXX XXXX XXXX XXXX I did not ask for this. all I 'm ask for to be able to pay a full note and {$500.00} extra thank u   \n",
       "3                                                                                                                                                                                                                                                                                                                                                                                                                                                                                                                                                                                                                                                                                                                                                                                                                                                                                                                                                                                                                                                                                                                                                                                                                                                                                                                                                                                                                                                                                                                                                                                                                                                                                                                                                                                                                                                                                                                                                                                                                                                                                                                                                                                                                                                                                                                                                                                                                                                                                                                                                                                                                                                                                                                                                                                                                                                                                                                                                                                                                                                                                                                                                                                                                                                                                                                                                                                                                                                                        Date : XX/XX/2021 Amount : {$4500.00} I tried calling the issuer of the XXXX  Unemployment Card ( Bank of America XXXX about why they get my unemployment card closed which they have no positive responds. I tried sending out my unemployment money in the unemployment card to an authorized third party and the Bank of America got my card closed. After several callings and provision of all required information they still can not uplift the lock on my card.   \n",
       "4                                                                                                                                                                                                                                                                                                                                                                                                                                                                                                                                                                                                                                                                                                                                                                                                                                                                                                                                                                                                                                                                                                                                                                                                                                                                                                                                                                                                                                                                                                                                                                                                                                                                                                                                                                                                                                                                                                                                                                                                                                                                                                                                                                                                                                                                                                                                                                                                                                                                                                                                                                                                                                                                                                                                                                                 I have started refinance process with Bank of America in XX/XX/2017 whereas the sales agent promised me best rates and smooth process. As part of the process, they told me that they will carry out appraisal of my house and I need to pay upfront for it. I was not shared the amount that I need to pay for appraisal and was told that I will be refunded at the end when appraisal closes. I agreed to it as I didn't expect any issues in my loan process. During appraisal, an incorrect report came out which talks about an issue that I don't have in my home. I tried to explain to bank and appraisal company but they are not ready to correct the report resulting in my mortgage process going on hold. Bank has charged me for my appraisal fees but they didn't worked with appraisal company to correct the report even after I provided the reason for incorrectness of the report. My home ( in exactly same condition ) has gone through 3-4 appraisals before this appraisal but never such issue happened. I can provide more specifics when asked. \\n\\nI have also reached out to XXXX, CA to help me with issue in appraisal report.   \n",
       "5                                                                                                                                                                                                                                                                                                                                                                                                                                                                                                                                                                                                                                                                                                                                                                                                                                                                                                                                                                                                                                                                                                                                                                                                                                                                                                                                                                                                                                                                                                                                                                                                                                                                                                                                                                                                                                                                                                                                                                                                                                                                                                                                                                                                                                                                                                                                                                                                                  I have been working with XXXX for the past two years to get a home loan with Bank of America. My closing was schedule for XX/XX/XXXX. On XX/XX/XXXX my file to updated and showed, \" XXXX pending compliance and verbal verification of employment. '' Two days later, underwriting was suspended and additional conditions was placed on my file. All additional information was provided and closing was then extended to XX/XX/XXXX. My XXXX counselor and closing attorney has tried with no success since XX/XX/XXXX to contact someone in the underwriting department of BOA and no one is responding. I have already wired my closing funds to the attorney. Due to the explainable delay, I was forced to give up my apartment and place my belongings in storage.My son and I am now living in car just to achieve the American Dream. I have XXXX and my health is being seriously impacted by this as well. Moving my stuff to the storage unit cost me {$820.00}, which means I will be charged another {$820.00} to move my stuff from there. I was told by another agent that works with XXXX that she has clients that were cleared to closed since XX/XX/2019 and Bank of America still has no sent the paperwork to the closing attorney. \\nI would really hope that Bank of America is not intentionally stall the XXXX loans. I just want to close on this house and get on with my life. I am afraid that the seller might terminate the contact and walk away with my earnest money. PLEASE HELP ME!!!!!   \n",
       "6                                                                                                                                                                                                                                                                                                                                                                                                                                                                                                                                                                                                                                                                                                                                                                                                                                                                                                                                                                                                                                                                                                                                                                                                                                                                                                                                                                                                                                                                                                                                                                                                                                                                                                                                                                                                                                                                                                                                                                                                                                                                                                                                                                                                                                                                                                                                                                                                                                                                                                                                                                                                                                                                                                                                                                                                                                                                                                                                                                                                                                                                                                                                                                                                                                                                                                                                                                                                       This is a \" qualified written request '' under Sec tion 6 of  the Real Estate Settlement Procedures Act ( RESPA ).     I am writing you today as I disagree with the past due payments you are reporting on my credit reports. They do not line up with my records and I believe that my payments  may have  been misapplied. The particular lates referred to are : Late Payments Being Reported : 60 days past due as of  XXXX   XXXX  30 days past due as of  XXXX   XXXX ,  XXXX   XXXX ,  XXXX   XXXX ,  XXXX   XXXX ,  XXXX   XXXX   \n",
       "7                                                                                                                                                                                                                                                                                                                                                                                                                                                                                                                                                                                                                                                                                                                                                                                                                                                                                                                                                                                                                                                                                                                                                                                                                                                                                                                                                                                                                                                                                                                                                                                                                                                                                                                                                                                                                                                                                                                                                                                                                                                                                                                                                                                                                                                                                                                                                                                                                                                                                                                                                                                                                                                                                                                                                                                                                                                                                                                                                                                                                                                                                                                                                                                                                                                                                                              I am working with Bank of America on a home loan. The closing is scheduled for today ie XXXX XXXX, 2015. But even after repeated requests I was not provided the closing disclosure documents. They just sent it to me and its not what we had discussed initially. They pushed out my closing several times stating they had not received some documents from the closing attorney etc. I dont understand how they can be so lax in their approach. Why cant they track progress and raise a red flag if something is not happening on time..This has caused tremendous discomfort and heartache to my family and me. Pls help..   \n",
       "\n",
       "   predictions  labels  \n",
       "0            1       1  \n",
       "1            0       0  \n",
       "2            0       0  \n",
       "3            1       1  \n",
       "4            0       0  \n",
       "5            0       0  \n",
       "6            0       0  \n",
       "7            0       0  "
      ],
      "text/html": [
       "<div>\n",
       "<style scoped>\n",
       "    .dataframe tbody tr th:only-of-type {\n",
       "        vertical-align: middle;\n",
       "    }\n",
       "\n",
       "    .dataframe tbody tr th {\n",
       "        vertical-align: top;\n",
       "    }\n",
       "\n",
       "    .dataframe thead th {\n",
       "        text-align: right;\n",
       "    }\n",
       "</style>\n",
       "<table border=\"1\" class=\"dataframe\">\n",
       "  <thead>\n",
       "    <tr style=\"text-align: right;\">\n",
       "      <th></th>\n",
       "      <th>complaint</th>\n",
       "      <th>predictions</th>\n",
       "      <th>labels</th>\n",
       "    </tr>\n",
       "  </thead>\n",
       "  <tbody>\n",
       "    <tr>\n",
       "      <th>0</th>\n",
       "      <td>I was offered a secured line of credit with Bank of America. I was asked to pay a deposit of {$200.00}, was told that after a few months, usually 6 months of good payment history, I would get an increase on my credit limit, and that after 12 months, I would get my deposit back. Neither of these promises took place, instead, Bank of America closed my credit line without any previous notice and has never returned my {$200.00} deposit and my payment history is/was excellent. The line of credit has been closed for a few months now and I have yet to received my {$200.00} deposit.</td>\n",
       "      <td>1</td>\n",
       "      <td>1</td>\n",
       "    </tr>\n",
       "    <tr>\n",
       "      <th>1</th>\n",
       "      <td>Bank of America started servicing my Mortgage in XXXX. I had a conventional loan. I received a permanent home modification in XXXX. My loan has always been in good standing and was never deliquent. I modified the loan to get a lower interest rate. Apparently Bank of America made some mistakes during this process of the modification and I had to do the Modification over again. In XXXX Bank of Americaa sold my loan to a Dept Collection Agency named XXXX. This company has unscrupolus business practices that has caused emotional and financial harm to me. In XXXX, XXXX, I began to make my contractual mortgage payments to XXXX as my new servicer in the amount of {$620.00}. XXXX immediately claimed I missed a payment to Bank of Americia on XXXX XXXX and begin to harrass me on my cell phone demanding that I pay them. I told them I had never missed a payment with Bank of America and why would they concern themselfs with my Morgage with Bank of America 2 year prior to them taking over my loan? XXXX claimed they paid Bank of America the missing funds on XXXX XXXX, XXXX and begin to charge me late fees and evenutlly cause my loan to go into Foreclosure. XXXX also increased my Mortgage amount from {$620.00} to {$790.00} stating I had a shortage in Escorws without properly notifying me of the large increase. When I paid the amount I was contracted to pay, XXXX put my mortgage payment in a suspense account stating they do not take partial payments. XXXX begain to add late fees, unauthorized inspection fees and demanded full payment and threatend to start legal procedures of foreclosure. I contacted XXXX representatives in XXXX week trying to resolve this proplem. XXXX did XXXX escrow analysis from XXXX XXXX to XXXX, XXXX and each time my escow shortage changed with each representative. I contacted Bank of America and aske them if they have any knowledge of a missed payment and they said no. I asked Bank of America to fax over my payment history which they did and there was no record of a missed payment. XXXX continued to harrass me as a collection agency does. I was confused about how my mortgage having been serviced by a professional and reputable company such as Bank of America could go from excellent payment history to Foreclosure in a matter of 4 months. I was so distraught I reached out to my brother for support that perhaps I was somehow making a mistake. He looked at my banking records from XXXX XXXX Bank and Bank of America 's record and he too found no missing payments and he wrote the CEO of the Company and filed a complaint that XXXX was falsesifying records to delibertly cause my loan to be in default, however, XXXX 's investigation found no errors and reported my loan deliquent to the credit bureau and I was disqulified from receiving my {$5000.00} inscentive payment for keeping my loan in good standing. After much grief dealing with a Criminal company, I reached out to the XXXX office to file a complaint against XXXX and discovered XXXX is not a bank at all they are a fly by night collection company. Bank of America has no documentation of XXXX ever sending them funds on XXXX XXXX and there is no missing payment. XXXX is running scams on their customers and there is plenty documentatiion as such. My loan should have never went to a collection agency and XXXX uses off shore agents to handle mortgages and unauthorized escrow agents who are not trained and who has made many mistakes on my account. In XXXX, XXXX blessed me to receive the hardest hit fund in the amount of {$20000.00} to be applied to the principal balance but Nationstar didnt apply the funds until XXXX, XXXX. I had made several extra payments to my principal balance but XXXX refused to apply these funds as I alocated .Why was my loan turned over to collection</td>\n",
       "      <td>0</td>\n",
       "      <td>0</td>\n",
       "    </tr>\n",
       "    <tr>\n",
       "      <th>2</th>\n",
       "      <td>I was told I could not get modification ok.so I was read on XXXX XXXX XXXX web hardest hit funds programs and XXXX XXXX XXXX home equity assistance or and repayment plans of up to 12 months to help catch up on a past due payments and I was not told about this forbearance I can do that all so I did not no they had all these programs I only no about the modification program I found this on XXXX XXXX XXXX web I do n't need my payment to be reduce i can pay that and all so and extra {$500.00} a month to caught up I 'm out of work because I was XXXX by a lady and she was very XXXX and that why I 'm out of work these last four year I ben having not such good luck first I had XXXX XXXX and I beat that thank to XXXX and now XXXX XXXX XXXX XXXX and both of my XXXX XXXX XXXX XXXX XXXX XXXX XXXX and I have XXXX XXXX XXXX XXXX I did not ask for this. all I 'm ask for to be able to pay a full note and {$500.00} extra thank u</td>\n",
       "      <td>0</td>\n",
       "      <td>0</td>\n",
       "    </tr>\n",
       "    <tr>\n",
       "      <th>3</th>\n",
       "      <td>Date : XX/XX/2021 Amount : {$4500.00} I tried calling the issuer of the XXXX  Unemployment Card ( Bank of America XXXX about why they get my unemployment card closed which they have no positive responds. I tried sending out my unemployment money in the unemployment card to an authorized third party and the Bank of America got my card closed. After several callings and provision of all required information they still can not uplift the lock on my card.</td>\n",
       "      <td>1</td>\n",
       "      <td>1</td>\n",
       "    </tr>\n",
       "    <tr>\n",
       "      <th>4</th>\n",
       "      <td>I have started refinance process with Bank of America in XX/XX/2017 whereas the sales agent promised me best rates and smooth process. As part of the process, they told me that they will carry out appraisal of my house and I need to pay upfront for it. I was not shared the amount that I need to pay for appraisal and was told that I will be refunded at the end when appraisal closes. I agreed to it as I didn't expect any issues in my loan process. During appraisal, an incorrect report came out which talks about an issue that I don't have in my home. I tried to explain to bank and appraisal company but they are not ready to correct the report resulting in my mortgage process going on hold. Bank has charged me for my appraisal fees but they didn't worked with appraisal company to correct the report even after I provided the reason for incorrectness of the report. My home ( in exactly same condition ) has gone through 3-4 appraisals before this appraisal but never such issue happened. I can provide more specifics when asked. \\n\\nI have also reached out to XXXX, CA to help me with issue in appraisal report.</td>\n",
       "      <td>0</td>\n",
       "      <td>0</td>\n",
       "    </tr>\n",
       "    <tr>\n",
       "      <th>5</th>\n",
       "      <td>I have been working with XXXX for the past two years to get a home loan with Bank of America. My closing was schedule for XX/XX/XXXX. On XX/XX/XXXX my file to updated and showed, \" XXXX pending compliance and verbal verification of employment. '' Two days later, underwriting was suspended and additional conditions was placed on my file. All additional information was provided and closing was then extended to XX/XX/XXXX. My XXXX counselor and closing attorney has tried with no success since XX/XX/XXXX to contact someone in the underwriting department of BOA and no one is responding. I have already wired my closing funds to the attorney. Due to the explainable delay, I was forced to give up my apartment and place my belongings in storage.My son and I am now living in car just to achieve the American Dream. I have XXXX and my health is being seriously impacted by this as well. Moving my stuff to the storage unit cost me {$820.00}, which means I will be charged another {$820.00} to move my stuff from there. I was told by another agent that works with XXXX that she has clients that were cleared to closed since XX/XX/2019 and Bank of America still has no sent the paperwork to the closing attorney. \\nI would really hope that Bank of America is not intentionally stall the XXXX loans. I just want to close on this house and get on with my life. I am afraid that the seller might terminate the contact and walk away with my earnest money. PLEASE HELP ME!!!!!</td>\n",
       "      <td>0</td>\n",
       "      <td>0</td>\n",
       "    </tr>\n",
       "    <tr>\n",
       "      <th>6</th>\n",
       "      <td>This is a \" qualified written request '' under Sec tion 6 of  the Real Estate Settlement Procedures Act ( RESPA ).     I am writing you today as I disagree with the past due payments you are reporting on my credit reports. They do not line up with my records and I believe that my payments  may have  been misapplied. The particular lates referred to are : Late Payments Being Reported : 60 days past due as of  XXXX   XXXX  30 days past due as of  XXXX   XXXX ,  XXXX   XXXX ,  XXXX   XXXX ,  XXXX   XXXX ,  XXXX   XXXX</td>\n",
       "      <td>0</td>\n",
       "      <td>0</td>\n",
       "    </tr>\n",
       "    <tr>\n",
       "      <th>7</th>\n",
       "      <td>I am working with Bank of America on a home loan. The closing is scheduled for today ie XXXX XXXX, 2015. But even after repeated requests I was not provided the closing disclosure documents. They just sent it to me and its not what we had discussed initially. They pushed out my closing several times stating they had not received some documents from the closing attorney etc. I dont understand how they can be so lax in their approach. Why cant they track progress and raise a red flag if something is not happening on time..This has caused tremendous discomfort and heartache to my family and me. Pls help..</td>\n",
       "      <td>0</td>\n",
       "      <td>0</td>\n",
       "    </tr>\n",
       "  </tbody>\n",
       "</table>\n",
       "</div>"
      ]
     },
     "execution_count": 17,
     "metadata": {},
     "output_type": "execute_result"
    }
   ],
   "execution_count": 17
  },
  {
   "metadata": {},
   "cell_type": "markdown",
   "source": "#### Creating the confusion matrix of the fine-tuned model",
   "id": "7640b083b18837fa"
  },
  {
   "metadata": {
    "ExecuteTime": {
     "end_time": "2025-01-27T22:17:42.966980Z",
     "start_time": "2025-01-27T22:17:31.600855Z"
    }
   },
   "cell_type": "code",
   "source": [
    "create_confusion_matrix(data = tokenized_dataset[\"test\"],\n",
    "                        cl_classes= product_classes,\n",
    "                        trainer_ = trainer,\n",
    "                        title_text = 'Confusion Matrix (GPT-2 Quantised + Lora) - Validation Set')"
   ],
   "id": "a3d5665409a82154",
   "outputs": [
    {
     "data": {
      "text/plain": [
       "<IPython.core.display.HTML object>"
      ],
      "text/html": []
     },
     "metadata": {},
     "output_type": "display_data"
    },
    {
     "data": {
      "text/plain": [
       "<Figure size 640x480 with 2 Axes>"
      ],
      "image/png": "[encoded data removed]"
     },
     "metadata": {},
     "output_type": "display_data"
    }
   ],
   "execution_count": 18
  },
  {
   "metadata": {},
   "cell_type": "markdown",
   "source": "#### Loading the fine-tuned peft model and validating on the test data",
   "id": "38a2c100fed8a1c8"
  },
  {
   "metadata": {
    "ExecuteTime": {
     "end_time": "2025-01-29T20:18:19.481241Z",
     "start_time": "2025-01-29T20:16:58.706681Z"
    }
   },
   "cell_type": "code",
   "source": [
    "#Loading the model\n",
    "from peft import AutoPeftModelForSequenceClassification\n",
    "path = \"./vtsoumpris/fnc-gpt2-q4lora\"\n",
    "\n",
    "LoRA_model = AutoPeftModelForSequenceClassification.from_pretrained(path)\n",
    "#LoRA_model_2 = prepare_model_for_kbit_training(LoRA_model)"
   ],
   "id": "806f45c7e57a683c",
   "outputs": [
    {
     "name": "stderr",
     "output_type": "stream",
     "text": [
      "C:\\Users\\vtsoumpris\\PycharmProjects\\Lightweight_FineTuning_FoundationModel\\venv\\Lib\\site-packages\\peft\\tuners\\lora\\layer.py:1264: UserWarning: fan_in_fan_out is set to False but the target module is `Conv1D`. Setting fan_in_fan_out to True.\n",
      "  warnings.warn(\n"
     ]
    }
   ],
   "execution_count": 17
  },
  {
   "metadata": {
    "ExecuteTime": {
     "end_time": "2025-01-29T20:18:19.959739Z",
     "start_time": "2025-01-29T20:18:19.951682Z"
    }
   },
   "cell_type": "code",
   "source": "LoRA_model",
   "id": "91ca20c10a946c35",
   "outputs": [
    {
     "data": {
      "text/plain": [
       "PeftModelForSequenceClassification(\n",
       "  (base_model): LoraModel(\n",
       "    (model): GPT2ForSequenceClassification(\n",
       "      (transformer): GPT2Model(\n",
       "        (wte): Embedding(50257, 768)\n",
       "        (wpe): Embedding(1024, 768)\n",
       "        (drop): Dropout(p=0.1, inplace=False)\n",
       "        (h): ModuleList(\n",
       "          (0-11): 12 x GPT2Block(\n",
       "            (ln_1): LayerNorm((768,), eps=1e-05, elementwise_affine=True)\n",
       "            (attn): GPT2Attention(\n",
       "              (c_attn): lora.Linear(\n",
       "                (base_layer): Conv1D(nf=2304, nx=768)\n",
       "                (lora_dropout): ModuleDict(\n",
       "                  (default): Dropout(p=0.1, inplace=False)\n",
       "                )\n",
       "                (lora_A): ModuleDict(\n",
       "                  (default): Linear(in_features=768, out_features=6, bias=False)\n",
       "                )\n",
       "                (lora_B): ModuleDict(\n",
       "                  (default): Linear(in_features=6, out_features=2304, bias=False)\n",
       "                )\n",
       "                (lora_embedding_A): ParameterDict()\n",
       "                (lora_embedding_B): ParameterDict()\n",
       "                (lora_magnitude_vector): ModuleDict()\n",
       "              )\n",
       "              (c_proj): lora.Linear(\n",
       "                (base_layer): Conv1D(nf=768, nx=768)\n",
       "                (lora_dropout): ModuleDict(\n",
       "                  (default): Dropout(p=0.1, inplace=False)\n",
       "                )\n",
       "                (lora_A): ModuleDict(\n",
       "                  (default): Linear(in_features=768, out_features=6, bias=False)\n",
       "                )\n",
       "                (lora_B): ModuleDict(\n",
       "                  (default): Linear(in_features=6, out_features=768, bias=False)\n",
       "                )\n",
       "                (lora_embedding_A): ParameterDict()\n",
       "                (lora_embedding_B): ParameterDict()\n",
       "                (lora_magnitude_vector): ModuleDict()\n",
       "              )\n",
       "              (attn_dropout): Dropout(p=0.1, inplace=False)\n",
       "              (resid_dropout): Dropout(p=0.1, inplace=False)\n",
       "            )\n",
       "            (ln_2): LayerNorm((768,), eps=1e-05, elementwise_affine=True)\n",
       "            (mlp): GPT2MLP(\n",
       "              (c_fc): lora.Linear(\n",
       "                (base_layer): Conv1D(nf=3072, nx=768)\n",
       "                (lora_dropout): ModuleDict(\n",
       "                  (default): Dropout(p=0.1, inplace=False)\n",
       "                )\n",
       "                (lora_A): ModuleDict(\n",
       "                  (default): Linear(in_features=768, out_features=6, bias=False)\n",
       "                )\n",
       "                (lora_B): ModuleDict(\n",
       "                  (default): Linear(in_features=6, out_features=3072, bias=False)\n",
       "                )\n",
       "                (lora_embedding_A): ParameterDict()\n",
       "                (lora_embedding_B): ParameterDict()\n",
       "                (lora_magnitude_vector): ModuleDict()\n",
       "              )\n",
       "              (c_proj): lora.Linear(\n",
       "                (base_layer): Conv1D(nf=768, nx=3072)\n",
       "                (lora_dropout): ModuleDict(\n",
       "                  (default): Dropout(p=0.1, inplace=False)\n",
       "                )\n",
       "                (lora_A): ModuleDict(\n",
       "                  (default): Linear(in_features=3072, out_features=6, bias=False)\n",
       "                )\n",
       "                (lora_B): ModuleDict(\n",
       "                  (default): Linear(in_features=6, out_features=768, bias=False)\n",
       "                )\n",
       "                (lora_embedding_A): ParameterDict()\n",
       "                (lora_embedding_B): ParameterDict()\n",
       "                (lora_magnitude_vector): ModuleDict()\n",
       "              )\n",
       "              (act): NewGELUActivation()\n",
       "              (dropout): Dropout(p=0.1, inplace=False)\n",
       "            )\n",
       "          )\n",
       "        )\n",
       "        (ln_f): LayerNorm((768,), eps=1e-05, elementwise_affine=True)\n",
       "      )\n",
       "      (score): ModulesToSaveWrapper(\n",
       "        (original_module): Linear(in_features=768, out_features=2, bias=False)\n",
       "        (modules_to_save): ModuleDict(\n",
       "          (default): Linear(in_features=768, out_features=2, bias=False)\n",
       "        )\n",
       "      )\n",
       "    )\n",
       "  )\n",
       ")"
      ]
     },
     "execution_count": 19,
     "metadata": {},
     "output_type": "execute_result"
    }
   ],
   "execution_count": 19
  },
  {
   "metadata": {
    "ExecuteTime": {
     "end_time": "2025-01-29T20:18:20.065666Z",
     "start_time": "2025-01-29T20:18:20.050659Z"
    }
   },
   "cell_type": "code",
   "source": [
    "LoRA_model_2 = prepare_model_for_kbit_training(LoRA_model)\n",
    "LoRA_model_2"
   ],
   "id": "f09665b727bf47f3",
   "outputs": [
    {
     "data": {
      "text/plain": [
       "PeftModelForSequenceClassification(\n",
       "  (base_model): LoraModel(\n",
       "    (model): GPT2ForSequenceClassification(\n",
       "      (transformer): GPT2Model(\n",
       "        (wte): Embedding(50257, 768)\n",
       "        (wpe): Embedding(1024, 768)\n",
       "        (drop): Dropout(p=0.1, inplace=False)\n",
       "        (h): ModuleList(\n",
       "          (0-11): 12 x GPT2Block(\n",
       "            (ln_1): LayerNorm((768,), eps=1e-05, elementwise_affine=True)\n",
       "            (attn): GPT2Attention(\n",
       "              (c_attn): lora.Linear(\n",
       "                (base_layer): Conv1D(nf=2304, nx=768)\n",
       "                (lora_dropout): ModuleDict(\n",
       "                  (default): Dropout(p=0.1, inplace=False)\n",
       "                )\n",
       "                (lora_A): ModuleDict(\n",
       "                  (default): Linear(in_features=768, out_features=6, bias=False)\n",
       "                )\n",
       "                (lora_B): ModuleDict(\n",
       "                  (default): Linear(in_features=6, out_features=2304, bias=False)\n",
       "                )\n",
       "                (lora_embedding_A): ParameterDict()\n",
       "                (lora_embedding_B): ParameterDict()\n",
       "                (lora_magnitude_vector): ModuleDict()\n",
       "              )\n",
       "              (c_proj): lora.Linear(\n",
       "                (base_layer): Conv1D(nf=768, nx=768)\n",
       "                (lora_dropout): ModuleDict(\n",
       "                  (default): Dropout(p=0.1, inplace=False)\n",
       "                )\n",
       "                (lora_A): ModuleDict(\n",
       "                  (default): Linear(in_features=768, out_features=6, bias=False)\n",
       "                )\n",
       "                (lora_B): ModuleDict(\n",
       "                  (default): Linear(in_features=6, out_features=768, bias=False)\n",
       "                )\n",
       "                (lora_embedding_A): ParameterDict()\n",
       "                (lora_embedding_B): ParameterDict()\n",
       "                (lora_magnitude_vector): ModuleDict()\n",
       "              )\n",
       "              (attn_dropout): Dropout(p=0.1, inplace=False)\n",
       "              (resid_dropout): Dropout(p=0.1, inplace=False)\n",
       "            )\n",
       "            (ln_2): LayerNorm((768,), eps=1e-05, elementwise_affine=True)\n",
       "            (mlp): GPT2MLP(\n",
       "              (c_fc): lora.Linear(\n",
       "                (base_layer): Conv1D(nf=3072, nx=768)\n",
       "                (lora_dropout): ModuleDict(\n",
       "                  (default): Dropout(p=0.1, inplace=False)\n",
       "                )\n",
       "                (lora_A): ModuleDict(\n",
       "                  (default): Linear(in_features=768, out_features=6, bias=False)\n",
       "                )\n",
       "                (lora_B): ModuleDict(\n",
       "                  (default): Linear(in_features=6, out_features=3072, bias=False)\n",
       "                )\n",
       "                (lora_embedding_A): ParameterDict()\n",
       "                (lora_embedding_B): ParameterDict()\n",
       "                (lora_magnitude_vector): ModuleDict()\n",
       "              )\n",
       "              (c_proj): lora.Linear(\n",
       "                (base_layer): Conv1D(nf=768, nx=3072)\n",
       "                (lora_dropout): ModuleDict(\n",
       "                  (default): Dropout(p=0.1, inplace=False)\n",
       "                )\n",
       "                (lora_A): ModuleDict(\n",
       "                  (default): Linear(in_features=3072, out_features=6, bias=False)\n",
       "                )\n",
       "                (lora_B): ModuleDict(\n",
       "                  (default): Linear(in_features=6, out_features=768, bias=False)\n",
       "                )\n",
       "                (lora_embedding_A): ParameterDict()\n",
       "                (lora_embedding_B): ParameterDict()\n",
       "                (lora_magnitude_vector): ModuleDict()\n",
       "              )\n",
       "              (act): NewGELUActivation()\n",
       "              (dropout): Dropout(p=0.1, inplace=False)\n",
       "            )\n",
       "          )\n",
       "        )\n",
       "        (ln_f): LayerNorm((768,), eps=1e-05, elementwise_affine=True)\n",
       "      )\n",
       "      (score): ModulesToSaveWrapper(\n",
       "        (original_module): Linear(in_features=768, out_features=2, bias=False)\n",
       "        (modules_to_save): ModuleDict(\n",
       "          (default): Linear(in_features=768, out_features=2, bias=False)\n",
       "        )\n",
       "      )\n",
       "    )\n",
       "  )\n",
       ")"
      ]
     },
     "execution_count": 20,
     "metadata": {},
     "output_type": "execute_result"
    }
   ],
   "execution_count": 20
  },
  {
   "metadata": {
    "ExecuteTime": {
     "end_time": "2025-01-29T20:24:11.056631Z",
     "start_time": "2025-01-29T20:24:11.046398Z"
    }
   },
   "cell_type": "code",
   "source": [
    "# passing the LoRA_model as the new model parameter for the previously created trainer\n",
    "trainer.model = LoRA_model_2\n",
    "trainer.model.to(\"cuda\")\n",
    "# Update the model config with the pad token ID\n",
    "trainer.model.config.pad_token_id = tokenizer.pad_token_id"
   ],
   "id": "d7ad780332a86836",
   "outputs": [],
   "execution_count": 23
  },
  {
   "metadata": {
    "ExecuteTime": {
     "end_time": "2025-01-29T20:24:23.016068Z",
     "start_time": "2025-01-29T20:24:12.815666Z"
    }
   },
   "cell_type": "code",
   "source": [
    "results_ft = trainer.evaluate()\n",
    "results_ft"
   ],
   "id": "5e386544579eac12",
   "outputs": [
    {
     "data": {
      "text/plain": [
       "{'eval_loss': 0.43644875288009644,\n",
       " 'eval_model_preparation_time': 0.005,\n",
       " 'eval_accuracy': 0.765,\n",
       " 'eval_precision': 0.9206349206349206,\n",
       " 'eval_recall': 0.58,\n",
       " 'eval_f1': 0.7116564417177914,\n",
       " 'eval_runtime': 10.1838,\n",
       " 'eval_samples_per_second': 39.278,\n",
       " 'eval_steps_per_second': 4.91}"
      ]
     },
     "execution_count": 24,
     "metadata": {},
     "output_type": "execute_result"
    }
   ],
   "execution_count": 24
  },
  {
   "metadata": {},
   "cell_type": "markdown",
   "source": "#### Evaluation metrics of the gpt-2 foundation model (non quantized)",
   "id": "836bf2d4a1797dc8"
  },
  {
   "metadata": {
    "ExecuteTime": {
     "end_time": "2025-01-27T22:25:07.678174Z",
     "start_time": "2025-01-27T22:24:58.911578Z"
    }
   },
   "cell_type": "code",
   "source": [
    "initial_model = \\\n",
    "\tAutoModelForSequenceClassification.from_pretrained(\n",
    "\t\"gpt2\",\n",
    "    num_labels = 2,\n",
    "    id2label={0: \"Mortgage\", 1: \"Credit card or prepaid card\"},\n",
    "    label2id={\"Credit card or prepaid card\": 1, \"Mortgage\": 0}\n",
    ")\n",
    "initial_model.config.pad_token_id = tokenizer.pad_token_id\n",
    "\n",
    "# Initialize Trainer to use it for evaluation of foundation model\n",
    "initial_trainer = \\\n",
    "Trainer(\n",
    "\tmodel = initial_model,\n",
    "\tdata_collator = DataCollatorWithPadding(tokenizer=tokenizer),\n",
    "\ttokenizer = tokenizer,\n",
    "\teval_dataset = tokenized_dataset[\"test\"],\n",
    "\tcompute_metrics = compute_metrics\n",
    ")\n",
    "\n",
    "# using predict() method to validate the model on the tokenized_dataset[\"test\"] dataset\n",
    "val_predictions = initial_trainer.predict(tokenized_dataset[\"test\"])\n",
    "# shape check\n",
    "print(val_predictions.predictions.shape, val_predictions.label_ids.shape)\n",
    "# printing the metrics from prediction\n",
    "val_predictions.metrics"
   ],
   "id": "e4ebdcbc8d9559e6",
   "outputs": [
    {
     "name": "stderr",
     "output_type": "stream",
     "text": [
      "C:\\Users\\vtsoumpris\\AppData\\Local\\Temp\\ipykernel_22560\\1980473021.py:12: FutureWarning: `tokenizer` is deprecated and will be removed in version 5.0.0 for `Trainer.__init__`. Use `processing_class` instead.\n",
      "  Trainer(\n"
     ]
    },
    {
     "name": "stdout",
     "output_type": "stream",
     "text": [
      "(400, 2) (400,)\n"
     ]
    },
    {
     "data": {
      "text/plain": [
       "{'test_loss': 0.9144830107688904,\n",
       " 'test_model_preparation_time': 0.002,\n",
       " 'test_accuracy': 0.5025,\n",
       " 'test_precision': 0.6666666666666666,\n",
       " 'test_recall': 0.01,\n",
       " 'test_f1': 0.019704433497536946,\n",
       " 'test_runtime': 7.845,\n",
       " 'test_samples_per_second': 50.988,\n",
       " 'test_steps_per_second': 6.373}"
      ]
     },
     "execution_count": 30,
     "metadata": {},
     "output_type": "execute_result"
    }
   ],
   "execution_count": 30
  },
  {
   "metadata": {},
   "cell_type": "markdown",
   "source": "#### Creating a dataframe of the models' performance results",
   "id": "4bc08664fdd37cb1"
  },
  {
   "metadata": {
    "ExecuteTime": {
     "end_time": "2025-01-27T22:25:31.376577Z",
     "start_time": "2025-01-27T22:25:31.363903Z"
    }
   },
   "cell_type": "code",
   "source": [
    "df_results = pd.DataFrame()\n",
    "df_results[\"model\"] = [\"gpt2-q4-LoRA\", \"gpt2\"]\n",
    "df_results[\"val_loss\"] = [results_ft[\"eval_loss\"], val_predictions.metrics[\"test_loss\"]]\n",
    "df_results[\"accuracy\"] = [results_ft[\"eval_accuracy\"], val_predictions.metrics[\"test_accuracy\"]]\n",
    "df_results[\"precision\"] = [results_ft[\"eval_precision\"], val_predictions.metrics[\"test_precision\"]]\n",
    "df_results[\"recall\"] = [results_ft[\"eval_recall\"], val_predictions.metrics[\"test_recall\"]]\n",
    "df_results[\"f1\"] = [results_ft[\"eval_f1\"], val_predictions.metrics[\"test_f1\"]]"
   ],
   "id": "d42464443fca2c10",
   "outputs": [],
   "execution_count": 31
  },
  {
   "metadata": {},
   "cell_type": "markdown",
   "source": "#### Saving Results",
   "id": "704e9b8e4a62f1da"
  },
  {
   "metadata": {
    "ExecuteTime": {
     "end_time": "2025-01-27T22:25:33.208532Z",
     "start_time": "2025-01-27T22:25:33.197479Z"
    }
   },
   "cell_type": "code",
   "source": "df_results.to_csv(\"./metric_results/res_gpt2_q4_lora.csv\", index=False)",
   "id": "6538c1dfe62b88e7",
   "outputs": [],
   "execution_count": 32
  },
  {
   "metadata": {},
   "cell_type": "markdown",
   "source": "#### Comparing performance results (validation set)",
   "id": "a36f388f0b60a5a"
  },
  {
   "metadata": {
    "ExecuteTime": {
     "end_time": "2025-01-27T22:25:34.056074Z",
     "start_time": "2025-01-27T22:25:34.045267Z"
    }
   },
   "cell_type": "code",
   "source": "df_results",
   "id": "960cced335a97993",
   "outputs": [
    {
     "data": {
      "text/plain": [
       "          model  val_loss  accuracy  precision  recall        f1\n",
       "0  gpt2-q4-LoRA  0.436449    0.7650   0.920635    0.58  0.711656\n",
       "1          gpt2  0.914483    0.5025   0.666667    0.01  0.019704"
      ],
      "text/html": [
       "<div>\n",
       "<style scoped>\n",
       "    .dataframe tbody tr th:only-of-type {\n",
       "        vertical-align: middle;\n",
       "    }\n",
       "\n",
       "    .dataframe tbody tr th {\n",
       "        vertical-align: top;\n",
       "    }\n",
       "\n",
       "    .dataframe thead th {\n",
       "        text-align: right;\n",
       "    }\n",
       "</style>\n",
       "<table border=\"1\" class=\"dataframe\">\n",
       "  <thead>\n",
       "    <tr style=\"text-align: right;\">\n",
       "      <th></th>\n",
       "      <th>model</th>\n",
       "      <th>val_loss</th>\n",
       "      <th>accuracy</th>\n",
       "      <th>precision</th>\n",
       "      <th>recall</th>\n",
       "      <th>f1</th>\n",
       "    </tr>\n",
       "  </thead>\n",
       "  <tbody>\n",
       "    <tr>\n",
       "      <th>0</th>\n",
       "      <td>gpt2-q4-LoRA</td>\n",
       "      <td>0.436449</td>\n",
       "      <td>0.7650</td>\n",
       "      <td>0.920635</td>\n",
       "      <td>0.58</td>\n",
       "      <td>0.711656</td>\n",
       "    </tr>\n",
       "    <tr>\n",
       "      <th>1</th>\n",
       "      <td>gpt2</td>\n",
       "      <td>0.914483</td>\n",
       "      <td>0.5025</td>\n",
       "      <td>0.666667</td>\n",
       "      <td>0.01</td>\n",
       "      <td>0.019704</td>\n",
       "    </tr>\n",
       "  </tbody>\n",
       "</table>\n",
       "</div>"
      ]
     },
     "execution_count": 33,
     "metadata": {},
     "output_type": "execute_result"
    }
   ],
   "execution_count": 33
  },
  {
   "metadata": {
    "ExecuteTime": {
     "end_time": "2025-01-27T22:25:46.656524Z",
     "start_time": "2025-01-27T22:25:46.650500Z"
    }
   },
   "cell_type": "code",
   "source": "print(torch.cuda.memory_summary(device = None, abbreviated = False))",
   "id": "5a1eb7a39b72292f",
   "outputs": [
    {
     "name": "stdout",
     "output_type": "stream",
     "text": [
      "|===========================================================================|\n",
      "|                  PyTorch CUDA memory summary, device ID 0                 |\n",
      "|---------------------------------------------------------------------------|\n",
      "|            CUDA OOMs: 0            |        cudaMalloc retries: 0         |\n",
      "|===========================================================================|\n",
      "|        Metric         | Cur Usage  | Peak Usage | Tot Alloc  | Tot Freed  |\n",
      "|---------------------------------------------------------------------------|\n",
      "| Allocated memory      |   2593 MiB |   3996 MiB | 175138 GiB | 175135 GiB |\n",
      "|       from large pool |   2512 MiB |   3915 MiB | 174773 GiB | 174770 GiB |\n",
      "|       from small pool |     81 MiB |     94 MiB |    365 GiB |    365 GiB |\n",
      "|---------------------------------------------------------------------------|\n",
      "| Active memory         |   2593 MiB |   3996 MiB | 175138 GiB | 175135 GiB |\n",
      "|       from large pool |   2512 MiB |   3915 MiB | 174773 GiB | 174770 GiB |\n",
      "|       from small pool |     81 MiB |     94 MiB |    365 GiB |    365 GiB |\n",
      "|---------------------------------------------------------------------------|\n",
      "| Requested memory      |   2585 MiB |   3989 MiB | 175080 GiB | 175078 GiB |\n",
      "|       from large pool |   2504 MiB |   3907 MiB | 174715 GiB | 174713 GiB |\n",
      "|       from small pool |     81 MiB |     94 MiB |    365 GiB |    365 GiB |\n",
      "|---------------------------------------------------------------------------|\n",
      "| GPU reserved memory   |   4424 MiB |   4424 MiB |   4444 MiB |  20480 KiB |\n",
      "|       from large pool |   4328 MiB |   4328 MiB |   4348 MiB |  20480 KiB |\n",
      "|       from small pool |     96 MiB |     96 MiB |     96 MiB |      0 KiB |\n",
      "|---------------------------------------------------------------------------|\n",
      "| Non-releasable memory | 235684 KiB | 432163 KiB |  53277 GiB |  53277 GiB |\n",
      "|       from large pool | 233472 KiB | 430080 KiB |  52904 GiB |  52904 GiB |\n",
      "|       from small pool |   2212 KiB |   8399 KiB |    372 GiB |    372 GiB |\n",
      "|---------------------------------------------------------------------------|\n",
      "| Allocations           |    1389    |    1562    |    5463 K  |    5461 K  |\n",
      "|       from large pool |     191    |     241    |    3873 K  |    3873 K  |\n",
      "|       from small pool |    1198    |    1321    |    1589 K  |    1588 K  |\n",
      "|---------------------------------------------------------------------------|\n",
      "| Active allocs         |    1389    |    1562    |    5463 K  |    5461 K  |\n",
      "|       from large pool |     191    |     241    |    3873 K  |    3873 K  |\n",
      "|       from small pool |    1198    |    1321    |    1589 K  |    1588 K  |\n",
      "|---------------------------------------------------------------------------|\n",
      "| GPU reserved segments |      97    |      97    |      98    |       1    |\n",
      "|       from large pool |      49    |      49    |      50    |       1    |\n",
      "|       from small pool |      48    |      48    |      48    |       0    |\n",
      "|---------------------------------------------------------------------------|\n",
      "| Non-releasable allocs |      29    |      66    |    2075 K  |    2075 K  |\n",
      "|       from large pool |      19    |      30    |    1585 K  |    1585 K  |\n",
      "|       from small pool |      10    |      54    |     489 K  |     489 K  |\n",
      "|---------------------------------------------------------------------------|\n",
      "| Oversize allocations  |       0    |       0    |       0    |       0    |\n",
      "|---------------------------------------------------------------------------|\n",
      "| Oversize GPU segments |       0    |       0    |       0    |       0    |\n",
      "|===========================================================================|\n",
      "\n"
     ]
    }
   ],
   "execution_count": 34
  },
  {
   "metadata": {
    "ExecuteTime": {
     "end_time": "2025-01-27T21:05:42.178207Z",
     "start_time": "2025-01-27T21:05:42.174487Z"
    }
   },
   "cell_type": "code",
   "source": "",
   "id": "5bf3dd5cafb6755e",
   "outputs": [],
   "execution_count": null
  }
 ],
 "metadata": {
  "kernelspec": {
   "display_name": "Python 3",
   "language": "python",
   "name": "python3"
  },
  "language_info": {
   "codemirror_mode": {
    "name": "ipython",
    "version": 2
   },
   "file_extension": ".py",
   "mimetype": "text/x-python",
   "name": "python",
   "nbconvert_exporter": "python",
   "pygments_lexer": "ipython2",
   "version": "2.7.6"
  }
 },
 "nbformat": 4,
 "nbformat_minor": 5
}
