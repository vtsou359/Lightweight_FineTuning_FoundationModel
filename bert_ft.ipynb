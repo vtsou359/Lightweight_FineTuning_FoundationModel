{
 "cells": [
  {
   "metadata": {},
   "cell_type": "markdown",
   "source": "### Fine Tuning Bert",
   "id": "ab1b51ff62410a34"
  },
  {
   "cell_type": "code",
   "id": "3afc9c71868e81e1",
   "metadata": {
    "ExecuteTime": {
     "end_time": "2025-01-20T18:02:07.005264Z",
     "start_time": "2025-01-20T18:01:58.810872Z"
    }
   },
   "source": [
    "from datasets import load_dataset, ClassLabel\n",
    "from transformers import AutoTokenizer, AutoModelForSequenceClassification, DataCollatorWithPadding, Trainer, TrainingArguments\n",
    "from peft import LoraConfig, TaskType, PeftModel, get_peft_model\n",
    "from pathlib import Path\n",
    "import numpy as np\n",
    "from sklearn.metrics import accuracy_score, precision_score, recall_score, f1_score\n",
    "import pandas as pd\n",
    "\n",
    "mdl_tok_name = \"distilbert-base-uncased\""
   ],
   "outputs": [
    {
     "name": "stderr",
     "output_type": "stream",
     "text": [
      "C:\\Users\\vtsoumpris\\PycharmProjects\\Lightweight_FineTuning_FoundationModel\\venv\\Lib\\site-packages\\tqdm\\auto.py:21: TqdmWarning: IProgress not found. Please update jupyter and ipywidgets. See https://ipywidgets.readthedocs.io/en/stable/user_install.html\n",
      "  from .autonotebook import tqdm as notebook_tqdm\n"
     ]
    }
   ],
   "execution_count": 1
  },
  {
   "metadata": {},
   "cell_type": "markdown",
   "source": "#### Lora Configuration for Bert model",
   "id": "c097bfd4ea37c7b1"
  },
  {
   "metadata": {},
   "cell_type": "markdown",
   "source": [
    "1. **Target Modules is set to:**\n",
    "    - `q_lin` (query), `k_lin` (key), and `v_lin` (value): The fundamental layers in the attention mechanism crucial for capturing relationships in the inputs.\n",
    "    - `out_lin`: This layer outputs the processed attention values, making it an important target for parameter-efficient fine-tuning as well.\n",
    "\n",
    "By including all four (`q_lin`, `k_lin`, `v_lin`, and `out_lin`), I can ensure full coverage of attention-related parameters while keeping the number of learnable parameters minimal due to low-rank adaptation (`r=8`)."
   ],
   "id": "419966502e852532"
  },
  {
   "metadata": {
    "ExecuteTime": {
     "end_time": "2025-01-20T18:02:07.016678Z",
     "start_time": "2025-01-20T18:02:07.012271Z"
    }
   },
   "cell_type": "code",
   "source": [
    "lora_config = \\\n",
    "\tLoraConfig(\n",
    "\t\tr = 8,  # Low-rank dimension: Start with 8 for a compact model like DistilBERT\n",
    "\t\ttarget_modules = [\"q_lin\", \"k_lin\", \"v_lin\", \"out_lin\"],  # Correct target modules for attention layers in DistilBERT\n",
    "\t\ttask_type = TaskType.SEQ_CLS,  # Task type, e.g., Sequence Classification\n",
    "\t\tlora_alpha = 16,  # Scaling factor: smaller due to the lightweight architecture\n",
    "\t\tlora_dropout = 0.1  # Dropout, increase slightly to prevent overfitting on smaller models\n",
    "\t)"
   ],
   "id": "7ab2a33cef283a6",
   "outputs": [],
   "execution_count": 2
  },
  {
   "metadata": {},
   "cell_type": "markdown",
   "source": "#### Loading the filtered dataset",
   "id": "d044bb1571cbc875"
  },
  {
   "metadata": {
    "collapsed": true,
    "ExecuteTime": {
     "end_time": "2025-01-20T18:02:07.781800Z",
     "start_time": "2025-01-20T18:02:07.252692Z"
    }
   },
   "cell_type": "code",
   "source": [
    "# Define the file path to the dataset\n",
    "file_path = Path(\"data/filtered_dataset.csv\")\n",
    "\n",
    "# Load the dataset using Hugging Face's `load_dataset`\n",
    "dataset = load_dataset('csv', data_files = str(file_path))\n",
    "\n",
    "# Inspect the unique values in the 'labels' column\n",
    "product_classes = dataset[\"train\"].unique(\"Product\")\n",
    "\n",
    "# Convert the 'Product' column to a ClassLabel feature\n",
    "product_label = ClassLabel(names=product_classes)\n",
    "dataset = dataset.cast_column(\"Product\", product_label)\n",
    "\n",
    "# Rename the columns: \"Product\" to \"labels\", and \"Consumer complaint narrative\" to \"complaint\"\n",
    "dataset = dataset.rename_column(\"Product\", \"labels\")\n",
    "dataset = dataset.rename_column(\"Consumer complaint narrative\", \"complaint\")\n",
    "\n",
    "# Extract the features (columns) we want\n",
    "dataset = \\\n",
    "    dataset[\"train\"].select_columns(\n",
    "        [\"complaint\", \"labels\"]\n",
    "    ).train_test_split(\n",
    "        test_size=0.2,\n",
    "        shuffle=True,\n",
    "        seed=23,\n",
    "        stratify_by_column=\"labels\"\n",
    "    )\n",
    "\n",
    "splits = [\"train\", \"test\"]\n",
    "\n",
    "# View the resulting dataset\n",
    "print(dataset)"
   ],
   "id": "initial_id",
   "outputs": [
    {
     "name": "stdout",
     "output_type": "stream",
     "text": [
      "DatasetDict({\n",
      "    train: Dataset({\n",
      "        features: ['complaint', 'labels'],\n",
      "        num_rows: 800\n",
      "    })\n",
      "    test: Dataset({\n",
      "        features: ['complaint', 'labels'],\n",
      "        num_rows: 200\n",
      "    })\n",
      "})\n"
     ]
    }
   ],
   "execution_count": 3
  },
  {
   "metadata": {},
   "cell_type": "markdown",
   "source": [
    "#### Inspecting the labels\n",
    "\n",
    "Credit card is labeled as 0 and  Mortgage is labeled as 1"
   ],
   "id": "5515a2b1ef507acb"
  },
  {
   "metadata": {
    "ExecuteTime": {
     "end_time": "2025-01-20T18:02:07.799806Z",
     "start_time": "2025-01-20T18:02:07.791910Z"
    }
   },
   "cell_type": "code",
   "source": "product_label",
   "id": "b9040be5e710a56f",
   "outputs": [
    {
     "data": {
      "text/plain": [
       "ClassLabel(names=['Mortgage', 'Credit card or prepaid card'], id=None)"
      ]
     },
     "execution_count": 4,
     "metadata": {},
     "output_type": "execute_result"
    }
   ],
   "execution_count": 4
  },
  {
   "metadata": {},
   "cell_type": "markdown",
   "source": [
    "#### Preprocess dataset\n",
    "\n",
    "Tokenizing 'Consumer complaint narrative' feature values"
   ],
   "id": "d33a3db87bf72169"
  },
  {
   "metadata": {
    "ExecuteTime": {
     "end_time": "2025-01-20T18:02:08.531117Z",
     "start_time": "2025-01-20T18:02:07.843053Z"
    }
   },
   "cell_type": "code",
   "source": [
    "tokenizer = AutoTokenizer.from_pretrained(mdl_tok_name)\n",
    "\n",
    "# Let's use a lambda function to tokenize all the examples\n",
    "tokenized_dataset = {}\n",
    "for split in splits:\n",
    "    tokenized_dataset[split] = dataset[split].map(\n",
    "        lambda x: tokenizer(x[\"complaint\"],\n",
    "                            truncation=True,\n",
    "                            padding=True,\n",
    "                            return_tensors = \"pt\"\n",
    "                            ),\n",
    "\t    batched=True,\n",
    "\n",
    "    )\n",
    "\n",
    "\n",
    "# Inspect the available columns in the dataset\n",
    "tokenized_dataset[\"train\"]"
   ],
   "id": "4de95d07c818cebd",
   "outputs": [
    {
     "name": "stderr",
     "output_type": "stream",
     "text": [
      "Map: 100%|██████████| 200/200 [00:00<00:00, 1851.88 examples/s]\n"
     ]
    },
    {
     "data": {
      "text/plain": [
       "Dataset({\n",
       "    features: ['complaint', 'labels', 'input_ids', 'attention_mask'],\n",
       "    num_rows: 800\n",
       "})"
      ]
     },
     "execution_count": 5,
     "metadata": {},
     "output_type": "execute_result"
    }
   ],
   "execution_count": 5
  },
  {
   "metadata": {},
   "cell_type": "markdown",
   "source": "#### Loading Model",
   "id": "7edce09ded4bded4"
  },
  {
   "metadata": {
    "ExecuteTime": {
     "end_time": "2025-01-20T18:02:08.880105Z",
     "start_time": "2025-01-20T18:02:08.587574Z"
    }
   },
   "cell_type": "code",
   "source": [
    "model = AutoModelForSequenceClassification.from_pretrained(\n",
    "    mdl_tok_name,\n",
    "    num_labels=2,\n",
    "    id2label={0: \"Mortgage\", 1: \"Credit card or prepaid card\"},\n",
    "    label2id={\"Credit card or prepaid card\": 0, \"Mortgage\": 1},\n",
    ")\n",
    "print(model)"
   ],
   "id": "382a8fe8d3b4e8d0",
   "outputs": [
    {
     "name": "stderr",
     "output_type": "stream",
     "text": [
      "Some weights of DistilBertForSequenceClassification were not initialized from the model checkpoint at distilbert-base-uncased and are newly initialized: ['classifier.bias', 'classifier.weight', 'pre_classifier.bias', 'pre_classifier.weight']\n",
      "You should probably TRAIN this model on a down-stream task to be able to use it for predictions and inference.\n"
     ]
    },
    {
     "name": "stdout",
     "output_type": "stream",
     "text": [
      "DistilBertForSequenceClassification(\n",
      "  (distilbert): DistilBertModel(\n",
      "    (embeddings): Embeddings(\n",
      "      (word_embeddings): Embedding(30522, 768, padding_idx=0)\n",
      "      (position_embeddings): Embedding(512, 768)\n",
      "      (LayerNorm): LayerNorm((768,), eps=1e-12, elementwise_affine=True)\n",
      "      (dropout): Dropout(p=0.1, inplace=False)\n",
      "    )\n",
      "    (transformer): Transformer(\n",
      "      (layer): ModuleList(\n",
      "        (0-5): 6 x TransformerBlock(\n",
      "          (attention): DistilBertSdpaAttention(\n",
      "            (dropout): Dropout(p=0.1, inplace=False)\n",
      "            (q_lin): Linear(in_features=768, out_features=768, bias=True)\n",
      "            (k_lin): Linear(in_features=768, out_features=768, bias=True)\n",
      "            (v_lin): Linear(in_features=768, out_features=768, bias=True)\n",
      "            (out_lin): Linear(in_features=768, out_features=768, bias=True)\n",
      "          )\n",
      "          (sa_layer_norm): LayerNorm((768,), eps=1e-12, elementwise_affine=True)\n",
      "          (ffn): FFN(\n",
      "            (dropout): Dropout(p=0.1, inplace=False)\n",
      "            (lin1): Linear(in_features=768, out_features=3072, bias=True)\n",
      "            (lin2): Linear(in_features=3072, out_features=768, bias=True)\n",
      "            (activation): GELUActivation()\n",
      "          )\n",
      "          (output_layer_norm): LayerNorm((768,), eps=1e-12, elementwise_affine=True)\n",
      "        )\n",
      "      )\n",
      "    )\n",
      "  )\n",
      "  (pre_classifier): Linear(in_features=768, out_features=768, bias=True)\n",
      "  (classifier): Linear(in_features=768, out_features=2, bias=True)\n",
      "  (dropout): Dropout(p=0.2, inplace=False)\n",
      ")\n"
     ]
    }
   ],
   "execution_count": 6
  },
  {
   "metadata": {
    "ExecuteTime": {
     "end_time": "2025-01-20T18:02:08.929179Z",
     "start_time": "2025-01-20T18:02:08.923919Z"
    }
   },
   "cell_type": "code",
   "source": [
    "# If you added new tokens, resize the model's embeddings accordingly\n",
    "#model.resize_token_embeddings(len(tokenizer))"
   ],
   "id": "a25fe247758321e1",
   "outputs": [],
   "execution_count": 7
  },
  {
   "metadata": {
    "ExecuteTime": {
     "end_time": "2025-01-20T18:02:09.074802Z",
     "start_time": "2025-01-20T18:02:09.023190Z"
    }
   },
   "cell_type": "code",
   "source": [
    "peft_model = get_peft_model(model, lora_config)\n",
    "peft_model.print_trainable_parameters()"
   ],
   "id": "92bbb4de048aa7a8",
   "outputs": [
    {
     "name": "stdout",
     "output_type": "stream",
     "text": [
      "trainable params: 887,042 || all params: 67,842,052 || trainable%: 1.3075\n"
     ]
    }
   ],
   "execution_count": 8
  },
  {
   "metadata": {},
   "cell_type": "markdown",
   "source": "#### Defining Evaluation Metrics as a function",
   "id": "3c751fe02b91ed22"
  },
  {
   "metadata": {
    "ExecuteTime": {
     "end_time": "2025-01-20T18:02:09.142443Z",
     "start_time": "2025-01-20T18:02:09.135968Z"
    }
   },
   "cell_type": "code",
   "source": [
    "def compute_metrics(eval_pred):\n",
    "\t# Unpack predictions and labels\n",
    "\tpredictions, labels = eval_pred\n",
    "\t# Get the predicted class (argmax selects the class with the highest score)\n",
    "\tpredictions = np.argmax(predictions, axis = 1)\n",
    "\t# Compute metrics\n",
    "\taccuracy = accuracy_score(y_true = labels, y_pred = predictions)\n",
    "\tprecision = precision_score(y_true =labels, y_pred =predictions)\n",
    "\trecall = recall_score(y_true = labels, y_pred = predictions)\n",
    "\tf1 = f1_score(y_true = labels, y_pred = predictions)\n",
    "\t# Return all metrics\n",
    "\treturn {\"accuracy\": accuracy, \"precision\": precision, \"recall\": recall, \"f1\": f1}\n"
   ],
   "id": "a78ec1a63874f292",
   "outputs": [],
   "execution_count": 9
  },
  {
   "metadata": {},
   "cell_type": "markdown",
   "source": [
    "#### Define Trainer to fine-tuning the foundation model\n",
    "\n",
    "The HuggingFace Trainer class handles the training and eval loop for PyTorch for us.\n",
    "\n",
    "You can find more at this [link](https://huggingface.co/docs/transformers/main_classes/trainer)."
   ],
   "id": "fb730de6ffb08b74"
  },
  {
   "metadata": {
    "ExecuteTime": {
     "end_time": "2025-01-20T18:02:09.246262Z",
     "start_time": "2025-01-20T18:02:09.187828Z"
    }
   },
   "cell_type": "code",
   "source": [
    "trainer = Trainer(\n",
    "    model=model,\n",
    "    args=TrainingArguments(\n",
    "        output_dir= \"./data/creditc_mortg\",\n",
    "        # Learning rate\n",
    "        learning_rate= 2e-5,  #2e-5\n",
    "        # Train/Validate batch size\n",
    "        per_device_train_batch_size= 4,  #16 # Reduce batch size to avoid memory crashes\n",
    "        per_device_eval_batch_size= 4, #16 # Same for evaluation\n",
    "        # Evaluate and save the model after each epoch\n",
    "        eval_strategy= \"epoch\", # Evaluate at the end of each epoch\n",
    "        save_strategy= \"epoch\", # Save model checkpoint every epoch\n",
    "\t    # Epochs and weight decay\n",
    "        num_train_epochs= 1, # Start with 1 epoch, increase as needed\n",
    "        weight_decay= 0.01,  #Standard weight decay\n",
    "\t    # Resource management\n",
    "\t\tgradient_accumulation_steps= 4,  # Simulate larger batches with accumulation\n",
    "\t    #\n",
    "        load_best_model_at_end= True,\n",
    "\t    use_cpu= True, # Ensure no GPU usage\n",
    "    ),\n",
    "    train_dataset= tokenized_dataset[\"train\"],\n",
    "    eval_dataset= tokenized_dataset[\"test\"],\n",
    "    tokenizer= tokenizer,\n",
    "    data_collator= DataCollatorWithPadding(tokenizer=tokenizer),\n",
    "    compute_metrics= compute_metrics,\n",
    ")"
   ],
   "id": "92839e841ad89c62",
   "outputs": [
    {
     "name": "stderr",
     "output_type": "stream",
     "text": [
      "C:\\Users\\vtsoumpris\\AppData\\Local\\Temp\\ipykernel_15268\\3076374690.py:1: FutureWarning: `tokenizer` is deprecated and will be removed in version 5.0.0 for `Trainer.__init__`. Use `processing_class` instead.\n",
      "  trainer = Trainer(\n"
     ]
    }
   ],
   "execution_count": 10
  },
  {
   "metadata": {},
   "cell_type": "markdown",
   "source": "#### Start fine-tuning",
   "id": "57b08c612fd471de"
  },
  {
   "metadata": {
    "ExecuteTime": {
     "end_time": "2025-01-20T18:12:25.526459Z",
     "start_time": "2025-01-20T18:02:09.349614Z"
    }
   },
   "cell_type": "code",
   "source": "trainer.train()",
   "id": "e3182054a5155275",
   "outputs": [
    {
     "data": {
      "text/plain": [
       "<IPython.core.display.HTML object>"
      ],
      "text/html": [
       "\n",
       "    <div>\n",
       "      \n",
       "      <progress value='50' max='50' style='width:300px; height:20px; vertical-align: middle;'></progress>\n",
       "      [50/50 10:01, Epoch 1/1]\n",
       "    </div>\n",
       "    <table border=\"1\" class=\"dataframe\">\n",
       "  <thead>\n",
       " <tr style=\"text-align: left;\">\n",
       "      <th>Epoch</th>\n",
       "      <th>Training Loss</th>\n",
       "      <th>Validation Loss</th>\n",
       "      <th>Accuracy</th>\n",
       "      <th>Precision</th>\n",
       "      <th>Recall</th>\n",
       "      <th>F1</th>\n",
       "    </tr>\n",
       "  </thead>\n",
       "  <tbody>\n",
       "    <tr>\n",
       "      <td>1</td>\n",
       "      <td>No log</td>\n",
       "      <td>0.680192</td>\n",
       "      <td>0.725000</td>\n",
       "      <td>0.710280</td>\n",
       "      <td>0.760000</td>\n",
       "      <td>0.734300</td>\n",
       "    </tr>\n",
       "  </tbody>\n",
       "</table><p>"
      ]
     },
     "metadata": {},
     "output_type": "display_data"
    },
    {
     "data": {
      "text/plain": [
       "TrainOutput(global_step=50, training_loss=0.6887635040283203, metrics={'train_runtime': 615.9872, 'train_samples_per_second': 1.299, 'train_steps_per_second': 0.081, 'total_flos': 108153913344000.0, 'train_loss': 0.6887635040283203, 'epoch': 1.0})"
      ]
     },
     "execution_count": 11,
     "metadata": {},
     "output_type": "execute_result"
    }
   ],
   "execution_count": 11
  },
  {
   "metadata": {},
   "cell_type": "markdown",
   "source": "#### Validate fine-tuned model",
   "id": "316e5a584b9b71a5"
  },
  {
   "metadata": {
    "ExecuteTime": {
     "end_time": "2025-01-20T18:13:17.621342Z",
     "start_time": "2025-01-20T18:12:25.652363Z"
    }
   },
   "cell_type": "code",
   "source": "trainer.evaluate()",
   "id": "39e8497ae9c42335",
   "outputs": [
    {
     "data": {
      "text/plain": [
       "<IPython.core.display.HTML object>"
      ],
      "text/html": []
     },
     "metadata": {},
     "output_type": "display_data"
    },
    {
     "data": {
      "text/plain": [
       "{'eval_loss': 0.6801918148994446,\n",
       " 'eval_accuracy': 0.725,\n",
       " 'eval_precision': 0.7102803738317757,\n",
       " 'eval_recall': 0.76,\n",
       " 'eval_f1': 0.7342995169082126,\n",
       " 'eval_runtime': 51.9587,\n",
       " 'eval_samples_per_second': 3.849,\n",
       " 'eval_steps_per_second': 0.962,\n",
       " 'epoch': 1.0}"
      ]
     },
     "execution_count": 12,
     "metadata": {},
     "output_type": "execute_result"
    }
   ],
   "execution_count": 12
  },
  {
   "metadata": {
    "ExecuteTime": {
     "end_time": "2025-01-20T18:13:18.154349Z",
     "start_time": "2025-01-20T18:13:17.732350Z"
    }
   },
   "cell_type": "code",
   "source": "peft_model.save_pretrained(\"./vtsoumpris/fnc-distilbert-lora\")",
   "id": "d2900e98d50d4751",
   "outputs": [],
   "execution_count": 13
  },
  {
   "metadata": {
    "ExecuteTime": {
     "end_time": "2025-01-20T18:13:57.263640Z",
     "start_time": "2025-01-20T18:13:55.126737Z"
    }
   },
   "cell_type": "code",
   "source": [
    "# Make a dataframe with the predictions and the text and the labels\n",
    "items_for_manual_review = tokenized_dataset[\"test\"].select(\n",
    "    [0, 1, 22, 31, 43, 199, 150, 40]\n",
    ")\n",
    "\n",
    "results = trainer.predict(items_for_manual_review)\n",
    "df = pd.DataFrame(\n",
    "    {\n",
    "        \"complaint\": [item[\"complaint\"] for item in items_for_manual_review],\n",
    "        \"predictions\": results.predictions.argmax(axis=1),\n",
    "        \"labels\": results.label_ids,\n",
    "    }\n",
    ")\n",
    "# Show all the cell\n",
    "pd.set_option(\"display.max_colwidth\", None)\n",
    "df"
   ],
   "id": "909478a8b3b51301",
   "outputs": [
    {
     "data": {
      "text/plain": [
       "                                                                                                                                                                                                                                                                                                                                                                                                                                                                                                                                                                                                                                                                                                                                                                                                                                                                                                                                                                                                                                                                                                                                                                                                                                                                                                                                                                                                                                                                                                                                                                                                                                                                                                                                                                                                                                                                                                                                                                                                                                                                                                                                                                                                                                                                                                                                                                                                                                                                                                                                                                                                                                                                                                                                                                                                                                                                                                                                                                                                                                                                                                                                                                                                                                                                                                                                                                                                                                                                                                                                                                                                                                                                                                                                                                                                                                                                                                                                                                                                                                                                                                                                                                                                       complaint  \\\n",
       "0                                                                                                                                                                                                                                                                                                                                                                                                                                                                                                                                                                                                                                                                                                                                                                                                                                                                                                                                                                                                                                                                                                                                                                                                                                                                                                                                                                                                                                                                                                                                                                                                                                                                                                                                                                                                                                                                                                                                                                                                                                                                                                                                                                                                                                                                                                                                                                                                                                                                                                                                                                                                                                                                                                                                                                                                                                                                                                                                                                                                                                                                                                                                                                                                                                                                                                                                                                                                                                                                                                              I reported fraudulent activity on my visa credit card with Bank America. There were two fraudulent charges made on XX/XX/XXXX and XX/XX/XXXX at the same location in amount of {$39.00}. I filed a claim with Bank of America and they denied the claim with no explanation other than saying I have too many accounts with this pizza place, which makes no sense. I contacted them again and they said they'd have to file an appeal it would be another 45-90 days. In the meantime while I'm waiting for appeal, they added the two charges back into my account which is continue to accrue interest. Please help me with these fraudulent charges and unfair treatment from Bank of America   \n",
       "1                                                                                                                                                                                                                                                                                                                                                                                                                                                                                                                                                                                                                                                                                                                                                                                                                                                                                                                                                                                                                                                                                                                                                                                                                                                                                                                                                                                                                                                                                                                                                                                                                                                                                                                                                                                                                                                                                                                                                                                                                                                                                                                                                                                                                                                                                                                                                                                                                                                                                                                                                                                                                                                                                                                                                                                   I had decided to cancel my homeowners insurance with one company, and go with another company 2 months prior to the end date of the policy. I had gone to a local branch to inform of the change, and make sure the company that I was leaving would not be paid and the new one would be paid for the upcoming year renewal. The representative took down all the information, and stated that she would make sure the now old insurance company would n't be paid, and would only release a payment to the new insurance company. I received a notice this week to inform that both insurance companies have been paid in a total amount over {$2400.00}. After paying two different insurance company Bank of America ran an out-of-cycle escrow analysis report knowing that two insurance companies had been paid ; which will cause my mortgage payment to increase effective XX/XX/XXXX, 2018 close to {$200.00}. I have contacted the branch representative who stated that she had forgot to get the information over to the mortgage company, and it was my responsibility to contact the insurance company to get the refund back on a cancelled policy. I was informed by the insurance company that a refund could take up to 7 weeks. In the meantime, the mortgage company knowing that an error was made on there end will not remove the escrow analysis which will cause the mortgage payment to increase.   \n",
       "2                                                                                                                                                                                                                                                     There are already multiple complaints that Bank of America ignored. Their regulatory complaint staff refuse to return phone calls. On XXXX XXXX, XXXX, I got scammed and thought I was speaking to Bank of America corporate. Unfortunately, it was a criminal enterprise unknown to me when I was trying to verify my information with the crook to get help. As the fraud was happening, I contacted Bank of America right when the fraud was occurring ( the thief without my knowledge or consent obtained cash advances on 4 of my credit cards and somehow sent the money out on one of my checking accounts. ) The fraud dept sadistically insisted that as a woman age XXXX and high risk for covid go into a branch and refused to speak to me. No one was allowed to talk to me. No fraud forms were mailed to me asking for an explanation and a signature which proves they weren't doing anything. Finally, I lucked out with the TN call center and the total freeze was removed. I was able to close my demand deposit accounts. Previous complaints were ignored and their regulatory complaints rep refuses to call me back. Due to the compassion of one fraud person who made an appointment, I did go into the XXXX XXXX and XXXX XXXX was masked and we were in his office. ( A very nasty and sadistic creature named XXXX at the XXXX fraud center stooped so low she took away my online banking when I called when I saw a {$2000.00} fraud credit card balance. ) At that time, only my card ending in XXXX hat was reissued and Iused, had a legitimate balance of {$200.00} ) XXXX showed me that the other credit cards had 0 balances. I sat in his office for an hour while he was on hold with the fraud dept, I left and he continued to hold for them for another hour. XXXX called me -his number is XXXX and advised me that the fraud claims were settled per his conversation ). I believe XXXX but he was given incorrect information. Sadly, the following XXXX claims are denied on XX/XX/XXXX and XX/XX/XXXX : Account ending in XXXX Claim # XXXX amount {$2000.00} Account ending in XXXX Claim # XXXX amount {$1800.00} When the nightmare fraud was reported on XX/XX/XXXX, I was given reference # XXXX XXXX XXXX XXXX XXXX. Again, those fraudulent cash advances- which the bank fraud dept should have realized was not within any pattern I ever made. I never made a cash advance in my life!!!!!! It would have helped if they would have spoken to me. \\n\\nI am attaching a copy of my police report and even tho I had given the initial person XXXX the police report number, I was told on XX/XX/XXXX that it would help. Apparently, the bank was too inept to even ask for it or try to obtain it. I am attaching the police report. The investigator had to obtain a subpoena and I had called me to say the funds were transferred somehow to an entiry or person in Texas so she has no jurisdiction. I also contend that the fraud dept should have and could have stopped those transfers from going out. I am also attaching screen shots that show the bank knew there was fraud from the start and failed to do due dilligence. \\n\\nAnd ... ..apparently refusing or neglecting to investigate fraud is standard operating procedure with Bank of America and it is a widespread practice. I am attaching the civil complaint : XXXX XXXX XXXX on behalf of herself and all Plaintiff, Civil No. XXXX BANK OF AMERICA, N.A. , ) Defendant. \\nCLASS ACTION COMPLAINT Apparently,, I am not the only one whose fraud credit card claims are being ignored and they are holding the individual responsible - even tho the fraud was reported. \\n\\nI do not owe Bank of America the money and they totally neglected to investigate those fraud claims on 2 of my credit cards. I am also attaching the most recent screen shot showing those 2 balances. Who knows what else will show up.   \n",
       "3                                                                                                                                                                                                                                                                                                                                                                                                                                                                                                                                                                                                                                                                                                                                                                                                                                                                                                                     The fraudulent billings on my Bank of America Mastercard XXXX came to my attention on XXXX XX/XX/XXXX after review of the prior year 's Bank of America charge card statements for XXXX. The review was done to gather information to prepare my federal tax return for XXXX. \\nThese fraudulent billings to this credit card all had one thing in common - XXXX ( merchants name ) '. After researching these items with a call to XXXX on XX/XX/XXXX, it became clear they were billed from a rogue account. This account had been opened by a relative of one of my employees. This employee had been hired a few years earlier to help me manage my sole proprietor business. I provide eye care services and products. \\n\\nI called Bank of America on XX/XX/XXXX, with the list of fraudulent billings from this rogue account per XXXX fraud department. Bank of America 's fraud department closed the account, and issued a new credit card XXXX. They investigated the matter. They agreed, and found all the fraudulent billings. They issued credits of {$68000.00}. I agreed this was correct, and they closed the case - per letter from Bank of America XX/XX/XXXX. \\n\\nI had also filed a report with the XXXX Police Department on XX/XX/XXXX. The report # XXXX was investigated by Detective XXXX. He did confirm the XXXX account is fraudulent after issuing subpoenas. The fraud case is ongoing against those involved as other issues arose from this investigation. All this information had been given to Bank of America. \\n\\nSurprisingly, on XX/XX/XXXX, I received a letter from Bank of America charging back /denying all my credits. This letter stated the merchant ( fraudster ) reported I received product and had a subscription that was delivered to my address. Again, I called Bank of America to complain the fraudulent billings were unauthorized. They had been paid by my accounting staff at the time ( rogue employee ) with billings from her relative 's rogue XXXX account. \\n\\nI wrote a letter on XXXX XXXX to Bank of America in reply. However, they denied my request. Thus, I closed the Bank of America account ending XXXX. I have not paid any of the fraud charges to date. Thus, my credit score was ruined since Bank of America reported this. They continue to refuse to issue back unauthorized billing credits. \\n\\nI believe XXXX had a reponsibility in detecting fraudulent activity, and the opening of this rogue account. If their systems detected numerous billings going out of this rogue account to just my Bank of America account -- it could have been prevented. Bank of America should have contacted Bank of America to confirm this account was indeed fraudulent -- as the XXXX Police Department found through subpoenas. \\n\\nI also believe Bank of America should adhere to their written policy in not having consumers be responsible to pay for fraudulent billings. If they investigated the matter thoroughly by contacting XXXX, this matter would have been resolved correclty. \\n\\nIn summary, I have exhausted all other avenues to have my Bank of America account credited back appropriately. I now hope to have CFPB to investigate this matter to apply back credits due to fraud.   \n",
       "4                                                                                                                                                                                                                                                                                                                                                                                                                                                                                                                                                                                                                                                                                                                                                                                                                                                                                                                                                                                                                                                                                                                                                                                                                                                                                                                                                                                                                                                                                                                                                                                                                                                                                                                                                                                                                                                                                                                                                                                                                                                                                                                                                                                                                                                                                                                                                                                                                                                                                                                                                                                                                                                                                                                                                                                                                                                                                       We applied for a home mortgage refinancing with BoA XX/XX/XXXX. After we locked in a market rate, they continually reappraised our home. They continually rejected appraisals until they received a low appraisal and then charged us {$6300.00} of closing cost points because we had become a \" high-risk '' asset mortgage. \\nThe appraisal they eventually accepted was XXXX - XXXX % below the other appraisals that they rejected until they received one appraisal that forced us to pay points. Since interest rates increased over loan processing time, we had to pay the {$6300.00} of points. \\nBoA said they have no influence over appraisal selection due to Dodd Frank, but they kept rejecting \" independent '' appraisals until they found one low enough to force us to pay points. \\nI spoke to the appraisers whose appraisals were rejected and they told me the appraisals were over XXXX % higher than the one low-ball that BoA eventually accepted. From BoA here was no explanation of the rejections, only constant streams of appraisers flowing through our house until they finally found an appraisal XXXX % below market that forced us to pay points. I tried to speak with BoA management. They never called to explain the multiple rejected appraisals or the assignment of points.   \n",
       "5                                                                                                                                                                                                                                                                                                                                                                                                                                                                                                                                                                                                                                                                                                                                                                                                                                                                                                                                                                                                                                                                                                                                                                                                                                                                                                                                                                                                                                                                                                                                                                                                                                                                                                                                                                                                                                                                                                                                                                                                                                                                                                                                                                                                                                                                                                                                                                                                                                                                                                                                                                                                                                                                                                                                                                                                                                                                                                                     I was in process of completing a loan for the purchase of my first home with XXXX. I went into where I had my current checking account at Bank if America here in XXXX XXXX. When I went to send the wire the banker stated they would not charge me for the wire if I spoke with their mortgage banker to review their offer. I then sat with XXXX XXXX XXXX XXXX. He then described how if I wrote an email to him stating I had a certain rate and points from XXXX he would be able to match that quote. He then proceeded to write the verbiage I needed to say. He told me to copy paste what he wrote and sign it for him. The rate he gave me initially was at a 1 point cost. He said with this letter he could waive that point cost. I later found out that due to the type of loan program and amount I was putting down that Bank of America didnt even truly offer that product for my situation. I felt very uncomfortable, almost like I was committing fraud. I called my mortgage banker and explained how I felt. I realized I wanted to write this report to explain how I felt and did my own research realizing that the process of XXXX writing the letter for me and using an letter to quote match is not actually the correct process to complete a quote match.   \n",
       "6  I began receiving the following documents from Bank of America ( BofA ) and XXXX XXXX, XXXX ( Atty ) : 1. XXXX/XXXX/2016 : US Bankruptcy Court Statement In Response To Notice Of Final Cure Payment ( Filed XXXX/XXXX/2016 ) stating Pre-Petition Default Payments that BofA, N.A., \" Agrees that Debtor ( s ) has paid in full the amount required to cure the default on Creditor 's claim '' and Post-Petition Default Payments that BofA, N.A., \" Disagrees that Debtor ( s ) is current with respect to all payments consistent with 1322 ( b ) ( 5 ), and states that the total amount due to cure post petition arrears is : Total Amount Due : {$8200.00} '' ( Atty ) XXXX. XXXX/XXXX/2016 : NOTICE OF THE RIGHT TO CURE THE DEFAULT AND INTENT TO ACCELERATE ( dtd XXXX 2016 ) stating, \" The home loan is in serious default because the required payments have not been made. Bank of America , N.A . has the right to begin the process of foreclosing on the debt and may initiate foreclosure at any time after forty ( 40 ) days from the date of this notice ... '' ( BofA ) XXXX. XXXX/XXXX/2016 : Bank of America Home Loans Statement ( dtd XXXX/XXXX/2016 ) indicating the Total amount due is {$9200.00}. \\nXXXX. XXXX/XXXX/2016 : Bank of America Home Loans Borrower Response Package ( dtd XXXX/XXXX/2016 ) stating, \" Our records indicate you have not made your last four or more regularly scheduled payments. Subject to applicable law, foreclosure activities typically begin after four missed payments, so it is important that you take action on this issue quickly. Ignoring the situation and continuing to let your payments become past due will put you at risk of losing your home to foreclosure ... '' XXXX. XXXX/XXXX/2016 : NOTICE OF FORECLOSURE SALE ( dtd XXXX/XXXX/2016 ) stating, \" By letter dated XXXX XXXX, 2016 ( the \" Initial Communication Letter '' ) we notified you that the above-referenced loan had been referred to this law firm for handling ... '' ( Atty ) XXXX. XXXX/XXXX/2016 : \" EXCEPT AS MAY BE NOTED HEREIN, THIS IS AN ATTEMPT TO COLLECT A DEBT. ANY INFORMATION OBTAINED WILL BE USED FOR THAT PURPOSE. '' ( dtd XXXX/XXXX/2016 ) ( Atty ) XXXX. XXXX/XXXX/2016 : Bank of America Home Loans ( dtd XXXX/XXXX/2016 ) stating, \" Based on a careful review of your loan, we are offering you an opportunity to enter into a Trial Period for a loan modification ... '' I have in fact made payments for the entire time period that BofA and XXXX XXXX alleges that I have not made in all of the overwhelming notices that I have received thus far. For over three weeks I spoke to numerous Bank of America personnel in various departments ( See communication notes ) who transferred me back and forth between them with no resolution, and would not accept my XXXX 2016 payment. From the customer view, it appears that the left hand is not aligned with the right hand and that the head has been cut off! \\nAlso, on XXXX/XXXX/2016, I requested my payment history from BofA, including the time they allege I missed payments. The transaction details clearly show where they have received my payments during this same timeframe. There were a lot of unexplained reversals that I have been awaiting an explanation for from BofA 's Ledger and Balance Department since XXXX/XXXX/2016. \\nIn addition, I responded to all of the notices of allegations ; hand delivered to XXXX XXXX, XXXX ( XXXX/XXXX/2016 ) ; and mailed via US Postal Service certified return receipt to BofA Home Loans in XXXX, XXXX and XXXX, XXXX ( XXXX/XXXX/2016 ) ( See attached ) Lastly, this distressing ordeal, dealing with BofA and XXXX XXXX have interfered with my ability to obtain a suitable consumer credit for a car loan. My life is on hold and I have been in \" WAIT MODE '' since I started receiving these defamatory allegations. I have acted in good faith and BofA and XXXX XXXX have failed to conduct due diligence, appeared to have failed in meeting their legal obligations, and are operating with broken business practices. \\nThis entire ordeal has caused me extreme undue stress to no avail!   \n",
       "7                                                                                                                                                                                                                                                                                                                                                                                                                                                                                                                                                                                                                                                                                                                                                                                                                                                                                                                                                                                                                                                                                                                                                                                                                                                                                                                                                                                                                                                                                                                                                                                                                                                                                                                                                                                                                                                                                                                                                                                                                                                                                                                                                                                                                                                                                                                                                                                                                                                                                                                                                                                                                                                                                                                                                                                                                                                                                                                                                                                                                                                                                                                                                                                                                                                                                                                                                                                                                                                                                          My mortgage is serviced by Bank of America. I have a reoccurring payment set up and have for a number of years. This year I got a letter saying my payment was late and they were going to charge me a fee. \\n\\nI never canceled this autopayment. \\n\\nSo after calling them and nobody could tell me why this happened, they credited me the fee, and I made a manual payment and they said the auto payments will resume. \\n\\nI checked for my XXXX payment, and the auto paymets show \" Canceled '' I called them, and nobody knows why. They keep canceling my auto pay. \\n\\n\\nI believe they are committing fraud by coming up with scenarios to charge fees, hoping we don't find out, like XXXX XXXX has done.   \n",
       "\n",
       "   predictions  labels  \n",
       "0            1       1  \n",
       "1            0       0  \n",
       "2            1       1  \n",
       "3            0       1  \n",
       "4            0       0  \n",
       "5            1       0  \n",
       "6            0       0  \n",
       "7            1       0  "
      ],
      "text/html": [
       "<div>\n",
       "<style scoped>\n",
       "    .dataframe tbody tr th:only-of-type {\n",
       "        vertical-align: middle;\n",
       "    }\n",
       "\n",
       "    .dataframe tbody tr th {\n",
       "        vertical-align: top;\n",
       "    }\n",
       "\n",
       "    .dataframe thead th {\n",
       "        text-align: right;\n",
       "    }\n",
       "</style>\n",
       "<table border=\"1\" class=\"dataframe\">\n",
       "  <thead>\n",
       "    <tr style=\"text-align: right;\">\n",
       "      <th></th>\n",
       "      <th>complaint</th>\n",
       "      <th>predictions</th>\n",
       "      <th>labels</th>\n",
       "    </tr>\n",
       "  </thead>\n",
       "  <tbody>\n",
       "    <tr>\n",
       "      <th>0</th>\n",
       "      <td>I reported fraudulent activity on my visa credit card with Bank America. There were two fraudulent charges made on XX/XX/XXXX and XX/XX/XXXX at the same location in amount of {$39.00}. I filed a claim with Bank of America and they denied the claim with no explanation other than saying I have too many accounts with this pizza place, which makes no sense. I contacted them again and they said they'd have to file an appeal it would be another 45-90 days. In the meantime while I'm waiting for appeal, they added the two charges back into my account which is continue to accrue interest. Please help me with these fraudulent charges and unfair treatment from Bank of America</td>\n",
       "      <td>1</td>\n",
       "      <td>1</td>\n",
       "    </tr>\n",
       "    <tr>\n",
       "      <th>1</th>\n",
       "      <td>I had decided to cancel my homeowners insurance with one company, and go with another company 2 months prior to the end date of the policy. I had gone to a local branch to inform of the change, and make sure the company that I was leaving would not be paid and the new one would be paid for the upcoming year renewal. The representative took down all the information, and stated that she would make sure the now old insurance company would n't be paid, and would only release a payment to the new insurance company. I received a notice this week to inform that both insurance companies have been paid in a total amount over {$2400.00}. After paying two different insurance company Bank of America ran an out-of-cycle escrow analysis report knowing that two insurance companies had been paid ; which will cause my mortgage payment to increase effective XX/XX/XXXX, 2018 close to {$200.00}. I have contacted the branch representative who stated that she had forgot to get the information over to the mortgage company, and it was my responsibility to contact the insurance company to get the refund back on a cancelled policy. I was informed by the insurance company that a refund could take up to 7 weeks. In the meantime, the mortgage company knowing that an error was made on there end will not remove the escrow analysis which will cause the mortgage payment to increase.</td>\n",
       "      <td>0</td>\n",
       "      <td>0</td>\n",
       "    </tr>\n",
       "    <tr>\n",
       "      <th>2</th>\n",
       "      <td>There are already multiple complaints that Bank of America ignored. Their regulatory complaint staff refuse to return phone calls. On XXXX XXXX, XXXX, I got scammed and thought I was speaking to Bank of America corporate. Unfortunately, it was a criminal enterprise unknown to me when I was trying to verify my information with the crook to get help. As the fraud was happening, I contacted Bank of America right when the fraud was occurring ( the thief without my knowledge or consent obtained cash advances on 4 of my credit cards and somehow sent the money out on one of my checking accounts. ) The fraud dept sadistically insisted that as a woman age XXXX and high risk for covid go into a branch and refused to speak to me. No one was allowed to talk to me. No fraud forms were mailed to me asking for an explanation and a signature which proves they weren't doing anything. Finally, I lucked out with the TN call center and the total freeze was removed. I was able to close my demand deposit accounts. Previous complaints were ignored and their regulatory complaints rep refuses to call me back. Due to the compassion of one fraud person who made an appointment, I did go into the XXXX XXXX and XXXX XXXX was masked and we were in his office. ( A very nasty and sadistic creature named XXXX at the XXXX fraud center stooped so low she took away my online banking when I called when I saw a {$2000.00} fraud credit card balance. ) At that time, only my card ending in XXXX hat was reissued and Iused, had a legitimate balance of {$200.00} ) XXXX showed me that the other credit cards had 0 balances. I sat in his office for an hour while he was on hold with the fraud dept, I left and he continued to hold for them for another hour. XXXX called me -his number is XXXX and advised me that the fraud claims were settled per his conversation ). I believe XXXX but he was given incorrect information. Sadly, the following XXXX claims are denied on XX/XX/XXXX and XX/XX/XXXX : Account ending in XXXX Claim # XXXX amount {$2000.00} Account ending in XXXX Claim # XXXX amount {$1800.00} When the nightmare fraud was reported on XX/XX/XXXX, I was given reference # XXXX XXXX XXXX XXXX XXXX. Again, those fraudulent cash advances- which the bank fraud dept should have realized was not within any pattern I ever made. I never made a cash advance in my life!!!!!! It would have helped if they would have spoken to me. \\n\\nI am attaching a copy of my police report and even tho I had given the initial person XXXX the police report number, I was told on XX/XX/XXXX that it would help. Apparently, the bank was too inept to even ask for it or try to obtain it. I am attaching the police report. The investigator had to obtain a subpoena and I had called me to say the funds were transferred somehow to an entiry or person in Texas so she has no jurisdiction. I also contend that the fraud dept should have and could have stopped those transfers from going out. I am also attaching screen shots that show the bank knew there was fraud from the start and failed to do due dilligence. \\n\\nAnd ... ..apparently refusing or neglecting to investigate fraud is standard operating procedure with Bank of America and it is a widespread practice. I am attaching the civil complaint : XXXX XXXX XXXX on behalf of herself and all Plaintiff, Civil No. XXXX BANK OF AMERICA, N.A. , ) Defendant. \\nCLASS ACTION COMPLAINT Apparently,, I am not the only one whose fraud credit card claims are being ignored and they are holding the individual responsible - even tho the fraud was reported. \\n\\nI do not owe Bank of America the money and they totally neglected to investigate those fraud claims on 2 of my credit cards. I am also attaching the most recent screen shot showing those 2 balances. Who knows what else will show up.</td>\n",
       "      <td>1</td>\n",
       "      <td>1</td>\n",
       "    </tr>\n",
       "    <tr>\n",
       "      <th>3</th>\n",
       "      <td>The fraudulent billings on my Bank of America Mastercard XXXX came to my attention on XXXX XX/XX/XXXX after review of the prior year 's Bank of America charge card statements for XXXX. The review was done to gather information to prepare my federal tax return for XXXX. \\nThese fraudulent billings to this credit card all had one thing in common - XXXX ( merchants name ) '. After researching these items with a call to XXXX on XX/XX/XXXX, it became clear they were billed from a rogue account. This account had been opened by a relative of one of my employees. This employee had been hired a few years earlier to help me manage my sole proprietor business. I provide eye care services and products. \\n\\nI called Bank of America on XX/XX/XXXX, with the list of fraudulent billings from this rogue account per XXXX fraud department. Bank of America 's fraud department closed the account, and issued a new credit card XXXX. They investigated the matter. They agreed, and found all the fraudulent billings. They issued credits of {$68000.00}. I agreed this was correct, and they closed the case - per letter from Bank of America XX/XX/XXXX. \\n\\nI had also filed a report with the XXXX Police Department on XX/XX/XXXX. The report # XXXX was investigated by Detective XXXX. He did confirm the XXXX account is fraudulent after issuing subpoenas. The fraud case is ongoing against those involved as other issues arose from this investigation. All this information had been given to Bank of America. \\n\\nSurprisingly, on XX/XX/XXXX, I received a letter from Bank of America charging back /denying all my credits. This letter stated the merchant ( fraudster ) reported I received product and had a subscription that was delivered to my address. Again, I called Bank of America to complain the fraudulent billings were unauthorized. They had been paid by my accounting staff at the time ( rogue employee ) with billings from her relative 's rogue XXXX account. \\n\\nI wrote a letter on XXXX XXXX to Bank of America in reply. However, they denied my request. Thus, I closed the Bank of America account ending XXXX. I have not paid any of the fraud charges to date. Thus, my credit score was ruined since Bank of America reported this. They continue to refuse to issue back unauthorized billing credits. \\n\\nI believe XXXX had a reponsibility in detecting fraudulent activity, and the opening of this rogue account. If their systems detected numerous billings going out of this rogue account to just my Bank of America account -- it could have been prevented. Bank of America should have contacted Bank of America to confirm this account was indeed fraudulent -- as the XXXX Police Department found through subpoenas. \\n\\nI also believe Bank of America should adhere to their written policy in not having consumers be responsible to pay for fraudulent billings. If they investigated the matter thoroughly by contacting XXXX, this matter would have been resolved correclty. \\n\\nIn summary, I have exhausted all other avenues to have my Bank of America account credited back appropriately. I now hope to have CFPB to investigate this matter to apply back credits due to fraud.</td>\n",
       "      <td>0</td>\n",
       "      <td>1</td>\n",
       "    </tr>\n",
       "    <tr>\n",
       "      <th>4</th>\n",
       "      <td>We applied for a home mortgage refinancing with BoA XX/XX/XXXX. After we locked in a market rate, they continually reappraised our home. They continually rejected appraisals until they received a low appraisal and then charged us {$6300.00} of closing cost points because we had become a \" high-risk '' asset mortgage. \\nThe appraisal they eventually accepted was XXXX - XXXX % below the other appraisals that they rejected until they received one appraisal that forced us to pay points. Since interest rates increased over loan processing time, we had to pay the {$6300.00} of points. \\nBoA said they have no influence over appraisal selection due to Dodd Frank, but they kept rejecting \" independent '' appraisals until they found one low enough to force us to pay points. \\nI spoke to the appraisers whose appraisals were rejected and they told me the appraisals were over XXXX % higher than the one low-ball that BoA eventually accepted. From BoA here was no explanation of the rejections, only constant streams of appraisers flowing through our house until they finally found an appraisal XXXX % below market that forced us to pay points. I tried to speak with BoA management. They never called to explain the multiple rejected appraisals or the assignment of points.</td>\n",
       "      <td>0</td>\n",
       "      <td>0</td>\n",
       "    </tr>\n",
       "    <tr>\n",
       "      <th>5</th>\n",
       "      <td>I was in process of completing a loan for the purchase of my first home with XXXX. I went into where I had my current checking account at Bank if America here in XXXX XXXX. When I went to send the wire the banker stated they would not charge me for the wire if I spoke with their mortgage banker to review their offer. I then sat with XXXX XXXX XXXX XXXX. He then described how if I wrote an email to him stating I had a certain rate and points from XXXX he would be able to match that quote. He then proceeded to write the verbiage I needed to say. He told me to copy paste what he wrote and sign it for him. The rate he gave me initially was at a 1 point cost. He said with this letter he could waive that point cost. I later found out that due to the type of loan program and amount I was putting down that Bank of America didnt even truly offer that product for my situation. I felt very uncomfortable, almost like I was committing fraud. I called my mortgage banker and explained how I felt. I realized I wanted to write this report to explain how I felt and did my own research realizing that the process of XXXX writing the letter for me and using an letter to quote match is not actually the correct process to complete a quote match.</td>\n",
       "      <td>1</td>\n",
       "      <td>0</td>\n",
       "    </tr>\n",
       "    <tr>\n",
       "      <th>6</th>\n",
       "      <td>I began receiving the following documents from Bank of America ( BofA ) and XXXX XXXX, XXXX ( Atty ) : 1. XXXX/XXXX/2016 : US Bankruptcy Court Statement In Response To Notice Of Final Cure Payment ( Filed XXXX/XXXX/2016 ) stating Pre-Petition Default Payments that BofA, N.A., \" Agrees that Debtor ( s ) has paid in full the amount required to cure the default on Creditor 's claim '' and Post-Petition Default Payments that BofA, N.A., \" Disagrees that Debtor ( s ) is current with respect to all payments consistent with 1322 ( b ) ( 5 ), and states that the total amount due to cure post petition arrears is : Total Amount Due : {$8200.00} '' ( Atty ) XXXX. XXXX/XXXX/2016 : NOTICE OF THE RIGHT TO CURE THE DEFAULT AND INTENT TO ACCELERATE ( dtd XXXX 2016 ) stating, \" The home loan is in serious default because the required payments have not been made. Bank of America , N.A . has the right to begin the process of foreclosing on the debt and may initiate foreclosure at any time after forty ( 40 ) days from the date of this notice ... '' ( BofA ) XXXX. XXXX/XXXX/2016 : Bank of America Home Loans Statement ( dtd XXXX/XXXX/2016 ) indicating the Total amount due is {$9200.00}. \\nXXXX. XXXX/XXXX/2016 : Bank of America Home Loans Borrower Response Package ( dtd XXXX/XXXX/2016 ) stating, \" Our records indicate you have not made your last four or more regularly scheduled payments. Subject to applicable law, foreclosure activities typically begin after four missed payments, so it is important that you take action on this issue quickly. Ignoring the situation and continuing to let your payments become past due will put you at risk of losing your home to foreclosure ... '' XXXX. XXXX/XXXX/2016 : NOTICE OF FORECLOSURE SALE ( dtd XXXX/XXXX/2016 ) stating, \" By letter dated XXXX XXXX, 2016 ( the \" Initial Communication Letter '' ) we notified you that the above-referenced loan had been referred to this law firm for handling ... '' ( Atty ) XXXX. XXXX/XXXX/2016 : \" EXCEPT AS MAY BE NOTED HEREIN, THIS IS AN ATTEMPT TO COLLECT A DEBT. ANY INFORMATION OBTAINED WILL BE USED FOR THAT PURPOSE. '' ( dtd XXXX/XXXX/2016 ) ( Atty ) XXXX. XXXX/XXXX/2016 : Bank of America Home Loans ( dtd XXXX/XXXX/2016 ) stating, \" Based on a careful review of your loan, we are offering you an opportunity to enter into a Trial Period for a loan modification ... '' I have in fact made payments for the entire time period that BofA and XXXX XXXX alleges that I have not made in all of the overwhelming notices that I have received thus far. For over three weeks I spoke to numerous Bank of America personnel in various departments ( See communication notes ) who transferred me back and forth between them with no resolution, and would not accept my XXXX 2016 payment. From the customer view, it appears that the left hand is not aligned with the right hand and that the head has been cut off! \\nAlso, on XXXX/XXXX/2016, I requested my payment history from BofA, including the time they allege I missed payments. The transaction details clearly show where they have received my payments during this same timeframe. There were a lot of unexplained reversals that I have been awaiting an explanation for from BofA 's Ledger and Balance Department since XXXX/XXXX/2016. \\nIn addition, I responded to all of the notices of allegations ; hand delivered to XXXX XXXX, XXXX ( XXXX/XXXX/2016 ) ; and mailed via US Postal Service certified return receipt to BofA Home Loans in XXXX, XXXX and XXXX, XXXX ( XXXX/XXXX/2016 ) ( See attached ) Lastly, this distressing ordeal, dealing with BofA and XXXX XXXX have interfered with my ability to obtain a suitable consumer credit for a car loan. My life is on hold and I have been in \" WAIT MODE '' since I started receiving these defamatory allegations. I have acted in good faith and BofA and XXXX XXXX have failed to conduct due diligence, appeared to have failed in meeting their legal obligations, and are operating with broken business practices. \\nThis entire ordeal has caused me extreme undue stress to no avail!</td>\n",
       "      <td>0</td>\n",
       "      <td>0</td>\n",
       "    </tr>\n",
       "    <tr>\n",
       "      <th>7</th>\n",
       "      <td>My mortgage is serviced by Bank of America. I have a reoccurring payment set up and have for a number of years. This year I got a letter saying my payment was late and they were going to charge me a fee. \\n\\nI never canceled this autopayment. \\n\\nSo after calling them and nobody could tell me why this happened, they credited me the fee, and I made a manual payment and they said the auto payments will resume. \\n\\nI checked for my XXXX payment, and the auto paymets show \" Canceled '' I called them, and nobody knows why. They keep canceling my auto pay. \\n\\n\\nI believe they are committing fraud by coming up with scenarios to charge fees, hoping we don't find out, like XXXX XXXX has done.</td>\n",
       "      <td>1</td>\n",
       "      <td>0</td>\n",
       "    </tr>\n",
       "  </tbody>\n",
       "</table>\n",
       "</div>"
      ]
     },
     "execution_count": 15,
     "metadata": {},
     "output_type": "execute_result"
    }
   ],
   "execution_count": 15
  },
  {
   "metadata": {},
   "cell_type": "code",
   "outputs": [],
   "execution_count": null,
   "source": "",
   "id": "5a1eb7a39b72292f"
  }
 ],
 "metadata": {
  "kernelspec": {
   "display_name": "Python 3",
   "language": "python",
   "name": "python3"
  },
  "language_info": {
   "codemirror_mode": {
    "name": "ipython",
    "version": 2
   },
   "file_extension": ".py",
   "mimetype": "text/x-python",
   "name": "python",
   "nbconvert_exporter": "python",
   "pygments_lexer": "ipython2",
   "version": "2.7.6"
  }
 },
 "nbformat": 4,
 "nbformat_minor": 5
}
