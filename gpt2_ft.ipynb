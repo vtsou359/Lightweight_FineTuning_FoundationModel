{
 "cells": [
  {
   "metadata": {},
   "cell_type": "markdown",
   "source": "### Fine Tuning GPT-2",
   "id": "ab1b51ff62410a34"
  },
  {
   "cell_type": "code",
   "id": "3afc9c71868e81e1",
   "metadata": {
    "ExecuteTime": {
     "end_time": "2025-01-19T15:51:03.471957Z",
     "start_time": "2025-01-19T15:50:34.428552Z"
    }
   },
   "source": [
    "from datasets import load_dataset, ClassLabel\n",
    "from transformers import AutoTokenizer, AutoModelForSequenceClassification, DataCollatorWithPadding, Trainer, TrainingArguments\n",
    "from peft import LoraConfig, TaskType, PeftModel, get_peft_model\n",
    "from pathlib import Path\n",
    "import numpy as np\n",
    "from sklearn.metrics import accuracy_score, precision_score, recall_score, f1_score\n",
    "import pandas as pd\n",
    "\n",
    "mdl_tok_name = \"gpt2\""
   ],
   "outputs": [
    {
     "name": "stderr",
     "output_type": "stream",
     "text": [
      "C:\\Users\\vtsoumpris\\PycharmProjects\\Lightweight_FineTuning_FoundationModel\\venv\\Lib\\site-packages\\tqdm\\auto.py:21: TqdmWarning: IProgress not found. Please update jupyter and ipywidgets. See https://ipywidgets.readthedocs.io/en/stable/user_install.html\n",
      "  from .autonotebook import tqdm as notebook_tqdm\n"
     ]
    }
   ],
   "execution_count": 1
  },
  {
   "metadata": {},
   "cell_type": "markdown",
   "source": "#### Lora Configuration for GPT-2 model",
   "id": "c097bfd4ea37c7b1"
  },
  {
   "metadata": {
    "ExecuteTime": {
     "end_time": "2025-01-19T15:51:03.494528Z",
     "start_time": "2025-01-19T15:51:03.485975Z"
    }
   },
   "cell_type": "code",
   "source": [
    "lora_config = \\\n",
    "LoraConfig(\n",
    "\tr = 16,  # Low-rank dimension: Start with 16, modify based on model size\n",
    "\ttarget_modules = [\"c_attn\", \"c_proj\"],  # Correct target modules for GPT-2\n",
    "\ttask_type = TaskType.SEQ_CLS,  # Task type, e.g., Sequence Classification\n",
    "\tlora_alpha = 32,  # Scaling factor, consider increasing for larger models\n",
    "\tlora_dropout = 0.05  # Dropout, increase slightly if facing overfitting\n",
    ")"
   ],
   "id": "7ab2a33cef283a6",
   "outputs": [],
   "execution_count": 2
  },
  {
   "metadata": {},
   "cell_type": "markdown",
   "source": "#### Loading the filtered dataset",
   "id": "d044bb1571cbc875"
  },
  {
   "metadata": {
    "collapsed": true,
    "ExecuteTime": {
     "end_time": "2025-01-19T15:51:04.251610Z",
     "start_time": "2025-01-19T15:51:03.516546Z"
    }
   },
   "cell_type": "code",
   "source": [
    "# Define the file path to the dataset\n",
    "file_path = Path(\"data/filtered_dataset.csv\")\n",
    "\n",
    "# Load the dataset using Hugging Face's `load_dataset`\n",
    "dataset = load_dataset('csv', data_files = str(file_path))\n",
    "\n",
    "# Inspect the unique values in the 'labels' column\n",
    "product_classes = dataset[\"train\"].unique(\"Product\")\n",
    "\n",
    "# Convert the 'Product' column to a ClassLabel feature\n",
    "product_label = ClassLabel(names=product_classes)\n",
    "dataset = dataset.cast_column(\"Product\", product_label)\n",
    "\n",
    "# Rename the columns: \"Product\" to \"labels\", and \"Consumer complaint narrative\" to \"complaint\"\n",
    "dataset = dataset.rename_column(\"Product\", \"labels\")\n",
    "dataset = dataset.rename_column(\"Consumer complaint narrative\", \"complaint\")\n",
    "\n",
    "# Extract the features (columns) we want\n",
    "dataset = \\\n",
    "    dataset[\"train\"].select_columns(\n",
    "        [\"complaint\", \"labels\"]\n",
    "    ).train_test_split(\n",
    "        test_size=0.2,\n",
    "        shuffle=True,\n",
    "        seed=23,\n",
    "        stratify_by_column=\"labels\"\n",
    "    )\n",
    "\n",
    "splits = [\"train\", \"test\"]\n",
    "\n",
    "# View the resulting dataset\n",
    "print(dataset)"
   ],
   "id": "initial_id",
   "outputs": [
    {
     "name": "stdout",
     "output_type": "stream",
     "text": [
      "DatasetDict({\n",
      "    train: Dataset({\n",
      "        features: ['complaint', 'labels'],\n",
      "        num_rows: 5312\n",
      "    })\n",
      "    test: Dataset({\n",
      "        features: ['complaint', 'labels'],\n",
      "        num_rows: 1328\n",
      "    })\n",
      "})\n"
     ]
    }
   ],
   "execution_count": 3
  },
  {
   "metadata": {},
   "cell_type": "markdown",
   "source": [
    "#### Inspecting the labels\n",
    "\n",
    "Credit card is labeled as 0 and  Mortgage is labeled as 1"
   ],
   "id": "5515a2b1ef507acb"
  },
  {
   "metadata": {
    "ExecuteTime": {
     "end_time": "2025-01-19T15:51:04.709953Z",
     "start_time": "2025-01-19T15:51:04.701326Z"
    }
   },
   "cell_type": "code",
   "source": "product_label",
   "id": "b9040be5e710a56f",
   "outputs": [
    {
     "data": {
      "text/plain": [
       "ClassLabel(names=['Credit card', 'Mortgage'], id=None)"
      ]
     },
     "execution_count": 4,
     "metadata": {},
     "output_type": "execute_result"
    }
   ],
   "execution_count": 4
  },
  {
   "metadata": {},
   "cell_type": "markdown",
   "source": [
    "#### Preprocess dataset\n",
    "\n",
    "Tokenizing 'Consumer complaint narrative' feature values"
   ],
   "id": "d33a3db87bf72169"
  },
  {
   "metadata": {
    "ExecuteTime": {
     "end_time": "2025-01-19T15:52:23.148494Z",
     "start_time": "2025-01-19T15:52:21.707141Z"
    }
   },
   "cell_type": "code",
   "source": [
    "tokenizer = AutoTokenizer.from_pretrained(mdl_tok_name)\n",
    "\n",
    "# Check if the tokenizer already has a pad_token\n",
    "if tokenizer.pad_token is None:\n",
    "\t# Option 1: Use an existing token as the pad_token\n",
    "\ttokenizer.pad_token = tokenizer.eos_token  # Use eos_token as pad_token if suitable\n",
    "\n",
    "\t# Option 2: Add a new padding token if no suitable token exists\n",
    "\t#tokenizer.add_special_tokens({'pad_token': '[PAD]'})\n",
    "\t#tokenizer.pad_token = '[PAD]'\n",
    "\n",
    "# Let's use a lambda function to tokenize all the examples\n",
    "tokenized_dataset = {}\n",
    "for split in splits:\n",
    "    tokenized_dataset[split] = dataset[split].map(\n",
    "        lambda x: tokenizer(x[\"complaint\"], truncation=True,\n",
    "                            padding=True, #\"max_length\"\n",
    "                            return_tensors = \"pt\"\n",
    "                            ),\n",
    "\t    batched=True,\n",
    "\n",
    "    )\n",
    "\n",
    "\n",
    "# Inspect the available columns in the dataset\n",
    "tokenized_dataset[\"train\"]"
   ],
   "id": "4de95d07c818cebd",
   "outputs": [
    {
     "data": {
      "text/plain": [
       "Dataset({\n",
       "    features: ['complaint', 'labels', 'input_ids', 'attention_mask'],\n",
       "    num_rows: 5312\n",
       "})"
      ]
     },
     "execution_count": 15,
     "metadata": {},
     "output_type": "execute_result"
    }
   ],
   "execution_count": 15
  },
  {
   "metadata": {
    "ExecuteTime": {
     "end_time": "2025-01-19T15:51:06.271284Z",
     "start_time": "2025-01-19T15:51:06.267636Z"
    }
   },
   "cell_type": "code",
   "source": "",
   "id": "11803dd170c0c51e",
   "outputs": [],
   "execution_count": null
  },
  {
   "metadata": {},
   "cell_type": "markdown",
   "source": "#### Loading Model",
   "id": "7edce09ded4bded4"
  },
  {
   "metadata": {
    "ExecuteTime": {
     "end_time": "2025-01-19T15:52:33.612109Z",
     "start_time": "2025-01-19T15:52:33.112500Z"
    }
   },
   "cell_type": "code",
   "source": [
    "model = AutoModelForSequenceClassification.from_pretrained(\n",
    "    mdl_tok_name,\n",
    "    num_labels=2,\n",
    "    id2label={0: \"Credit card\", 1: \"Mortgage\"},\n",
    "    label2id={\"Credit card\": 0, \"Mortgage\": 1},\n",
    ")\n",
    "# Set padding token\n",
    "tokenizer.pad_token = tokenizer.eos_token  # Use eos_token as pad_token for GPT2\n",
    "model.config.pad_token_id = tokenizer.pad_token_id\n",
    "\n",
    "print(model)"
   ],
   "id": "382a8fe8d3b4e8d0",
   "outputs": [
    {
     "name": "stderr",
     "output_type": "stream",
     "text": [
      "Some weights of GPT2ForSequenceClassification were not initialized from the model checkpoint at gpt2 and are newly initialized: ['score.weight']\n",
      "You should probably TRAIN this model on a down-stream task to be able to use it for predictions and inference.\n"
     ]
    },
    {
     "name": "stdout",
     "output_type": "stream",
     "text": [
      "GPT2ForSequenceClassification(\n",
      "  (transformer): GPT2Model(\n",
      "    (wte): Embedding(50257, 768)\n",
      "    (wpe): Embedding(1024, 768)\n",
      "    (drop): Dropout(p=0.1, inplace=False)\n",
      "    (h): ModuleList(\n",
      "      (0-11): 12 x GPT2Block(\n",
      "        (ln_1): LayerNorm((768,), eps=1e-05, elementwise_affine=True)\n",
      "        (attn): GPT2Attention(\n",
      "          (c_attn): Conv1D(nf=2304, nx=768)\n",
      "          (c_proj): Conv1D(nf=768, nx=768)\n",
      "          (attn_dropout): Dropout(p=0.1, inplace=False)\n",
      "          (resid_dropout): Dropout(p=0.1, inplace=False)\n",
      "        )\n",
      "        (ln_2): LayerNorm((768,), eps=1e-05, elementwise_affine=True)\n",
      "        (mlp): GPT2MLP(\n",
      "          (c_fc): Conv1D(nf=3072, nx=768)\n",
      "          (c_proj): Conv1D(nf=768, nx=3072)\n",
      "          (act): NewGELUActivation()\n",
      "          (dropout): Dropout(p=0.1, inplace=False)\n",
      "        )\n",
      "      )\n",
      "    )\n",
      "    (ln_f): LayerNorm((768,), eps=1e-05, elementwise_affine=True)\n",
      "  )\n",
      "  (score): Linear(in_features=768, out_features=2, bias=False)\n",
      ")\n"
     ]
    }
   ],
   "execution_count": 16
  },
  {
   "metadata": {
    "ExecuteTime": {
     "end_time": "2025-01-19T15:52:34.738091Z",
     "start_time": "2025-01-19T15:52:34.721052Z"
    }
   },
   "cell_type": "code",
   "source": [
    "# If you added new tokens, resize the model's embeddings accordingly\n",
    "model.resize_token_embeddings(len(tokenizer))"
   ],
   "id": "a25fe247758321e1",
   "outputs": [
    {
     "data": {
      "text/plain": [
       "Embedding(50257, 768)"
      ]
     },
     "execution_count": 17,
     "metadata": {},
     "output_type": "execute_result"
    }
   ],
   "execution_count": 17
  },
  {
   "metadata": {
    "ExecuteTime": {
     "end_time": "2025-01-19T15:52:36.747565Z",
     "start_time": "2025-01-19T15:52:36.659364Z"
    }
   },
   "cell_type": "code",
   "source": [
    "peft_model = get_peft_model(model, lora_config)\n",
    "peft_model.print_trainable_parameters()"
   ],
   "id": "92bbb4de048aa7a8",
   "outputs": [
    {
     "name": "stdout",
     "output_type": "stream",
     "text": [
      "trainable params: 1,623,552 || all params: 126,064,896 || trainable%: 1.2879\n"
     ]
    }
   ],
   "execution_count": 18
  },
  {
   "metadata": {},
   "cell_type": "markdown",
   "source": "#### Defining Evaluation Metrics as a function",
   "id": "3c751fe02b91ed22"
  },
  {
   "metadata": {
    "ExecuteTime": {
     "end_time": "2025-01-19T15:52:41.635718Z",
     "start_time": "2025-01-19T15:52:41.628603Z"
    }
   },
   "cell_type": "code",
   "source": [
    "def compute_metrics_v1(eval_pred):\n",
    "    predictions, labels = eval_pred\n",
    "    predictions = np.argmax(predictions, axis=1)\n",
    "    return {\"accuracy\": (predictions == labels).mean()}"
   ],
   "id": "9d9f2ed9e41fd752",
   "outputs": [],
   "execution_count": 19
  },
  {
   "metadata": {
    "ExecuteTime": {
     "end_time": "2025-01-19T15:52:42.229411Z",
     "start_time": "2025-01-19T15:52:42.220481Z"
    }
   },
   "cell_type": "code",
   "source": [
    "def compute_metrics(eval_pred):\n",
    "\t# Unpack predictions and labels\n",
    "\tpredictions, labels = eval_pred\n",
    "\t# Get the predicted class (argmax selects the class with the highest score)\n",
    "\tpredictions = np.argmax(predictions, axis = 1)\n",
    "\t# Compute metrics\n",
    "\taccuracy = accuracy_score(labels, predictions)\n",
    "\tprecision = precision_score(labels, predictions, average = \"binary\")\n",
    "\trecall = recall_score(labels, predictions, average = \"binary\")\n",
    "\tf1 = f1_score(labels, predictions, average = \"binary\")\n",
    "\t# Return all metrics\n",
    "\treturn {\"accuracy\": accuracy, \"precision\": precision, \"recall\": recall, \"f1\": f1}\n"
   ],
   "id": "a78ec1a63874f292",
   "outputs": [],
   "execution_count": 20
  },
  {
   "metadata": {},
   "cell_type": "markdown",
   "source": [
    "#### Define Trainer to fine-tuning the foundation model\n",
    "\n",
    "The HuggingFace Trainer class handles the training and eval loop for PyTorch for us.\n",
    "\n",
    "You can find more at this [link](https://huggingface.co/docs/transformers/main_classes/trainer)."
   ],
   "id": "fb730de6ffb08b74"
  },
  {
   "metadata": {
    "ExecuteTime": {
     "end_time": "2025-01-19T15:52:44.448103Z",
     "start_time": "2025-01-19T15:52:44.382818Z"
    }
   },
   "cell_type": "code",
   "source": [
    "trainer = Trainer(\n",
    "    model=model,\n",
    "    args=TrainingArguments(\n",
    "        output_dir= \"./data/creditc_mortg\",\n",
    "        # Learning rate\n",
    "        learning_rate= 1e-5,  #2e-5 # Lowered to prevent instability on CPU\n",
    "        # Train/Validate batch size\n",
    "        per_device_train_batch_size= 4,  #16 # Reduce batch size to avoid memory crashes\n",
    "        per_device_eval_batch_size= 4, #16 # Same for evaluation\n",
    "        # Evaluate and save the model after each epoch\n",
    "        evaluation_strategy= \"epoch\", # Evaluate at the end of each epoch\n",
    "        save_strategy= \"epoch\", # Save model checkpoint every epoch\n",
    "\t    # Epochs and weight decay\n",
    "        num_train_epochs= 1, # Start with 1 epoch, increase as needed\n",
    "        weight_decay= 0.01,  #Standard weight decay\n",
    "\t    # Resource management\n",
    "\t\tgradient_accumulation_steps= 4,  # Simulate larger batches with accumulation\n",
    "\t    #\n",
    "        load_best_model_at_end= True,\n",
    "\t    no_cuda= True, # Ensure no GPU usage\n",
    "    ),\n",
    "    train_dataset= tokenized_dataset[\"train\"],\n",
    "    eval_dataset= tokenized_dataset[\"test\"],\n",
    "    tokenizer= tokenizer,\n",
    "    data_collator= DataCollatorWithPadding(tokenizer=tokenizer),\n",
    "    compute_metrics= compute_metrics,\n",
    ")"
   ],
   "id": "92839e841ad89c62",
   "outputs": [
    {
     "name": "stderr",
     "output_type": "stream",
     "text": [
      "C:\\Users\\vtsoumpris\\PycharmProjects\\Lightweight_FineTuning_FoundationModel\\venv\\Lib\\site-packages\\transformers\\training_args.py:1575: FutureWarning: `evaluation_strategy` is deprecated and will be removed in version 4.46 of 🤗 Transformers. Use `eval_strategy` instead\n",
      "  warnings.warn(\n",
      "C:\\Users\\vtsoumpris\\PycharmProjects\\Lightweight_FineTuning_FoundationModel\\venv\\Lib\\site-packages\\transformers\\training_args.py:1590: FutureWarning: using `no_cuda` is deprecated and will be removed in version 5.0 of 🤗 Transformers. Use `use_cpu` instead\n",
      "  warnings.warn(\n",
      "C:\\Users\\vtsoumpris\\AppData\\Local\\Temp\\ipykernel_13696\\2259607873.py:1: FutureWarning: `tokenizer` is deprecated and will be removed in version 5.0.0 for `Trainer.__init__`. Use `processing_class` instead.\n",
      "  trainer = Trainer(\n"
     ]
    }
   ],
   "execution_count": 21
  },
  {
   "metadata": {},
   "cell_type": "markdown",
   "source": "#### Start fine-tuning",
   "id": "57b08c612fd471de"
  },
  {
   "metadata": {
    "ExecuteTime": {
     "end_time": "2025-01-20T02:01:04.557489Z",
     "start_time": "2025-01-19T15:53:32.983575Z"
    }
   },
   "cell_type": "code",
   "source": "trainer.train()",
   "id": "e3182054a5155275",
   "outputs": [
    {
     "data": {
      "text/plain": [
       "<IPython.core.display.HTML object>"
      ],
      "text/html": [
       "\n",
       "    <div>\n",
       "      \n",
       "      <progress value='332' max='332' style='width:300px; height:20px; vertical-align: middle;'></progress>\n",
       "      [332/332 10:05:44, Epoch 1/1]\n",
       "    </div>\n",
       "    <table border=\"1\" class=\"dataframe\">\n",
       "  <thead>\n",
       " <tr style=\"text-align: left;\">\n",
       "      <th>Epoch</th>\n",
       "      <th>Training Loss</th>\n",
       "      <th>Validation Loss</th>\n",
       "      <th>Accuracy</th>\n",
       "      <th>Precision</th>\n",
       "      <th>Recall</th>\n",
       "      <th>F1</th>\n",
       "    </tr>\n",
       "  </thead>\n",
       "  <tbody>\n",
       "    <tr>\n",
       "      <td>1</td>\n",
       "      <td>No log</td>\n",
       "      <td>1.548780</td>\n",
       "      <td>0.753765</td>\n",
       "      <td>0.230769</td>\n",
       "      <td>0.029412</td>\n",
       "      <td>0.052174</td>\n",
       "    </tr>\n",
       "  </tbody>\n",
       "</table><p>"
      ]
     },
     "metadata": {},
     "output_type": "display_data"
    },
    {
     "data": {
      "text/plain": [
       "TrainOutput(global_step=332, training_loss=2.1929725738893073, metrics={'train_runtime': 36451.3655, 'train_samples_per_second': 0.146, 'train_steps_per_second': 0.009, 'total_flos': 2829004428017664.0, 'train_loss': 2.1929725738893073, 'epoch': 1.0})"
      ]
     },
     "execution_count": 22,
     "metadata": {},
     "output_type": "execute_result"
    }
   ],
   "execution_count": 22
  },
  {
   "metadata": {},
   "cell_type": "markdown",
   "source": "#### Validate fine-tuned model",
   "id": "316e5a584b9b71a5"
  },
  {
   "metadata": {
    "ExecuteTime": {
     "end_time": "2025-01-20T02:31:53.891951Z",
     "start_time": "2025-01-20T02:01:04.789353Z"
    }
   },
   "cell_type": "code",
   "source": "trainer.evaluate()",
   "id": "39e8497ae9c42335",
   "outputs": [
    {
     "data": {
      "text/plain": [
       "<IPython.core.display.HTML object>"
      ],
      "text/html": []
     },
     "metadata": {},
     "output_type": "display_data"
    },
    {
     "data": {
      "text/plain": [
       "{'eval_loss': 1.5487797260284424,\n",
       " 'eval_accuracy': 0.7537650602409639,\n",
       " 'eval_precision': 0.23076923076923078,\n",
       " 'eval_recall': 0.029411764705882353,\n",
       " 'eval_f1': 0.05217391304347826,\n",
       " 'eval_runtime': 1849.0893,\n",
       " 'eval_samples_per_second': 0.718,\n",
       " 'eval_steps_per_second': 0.18,\n",
       " 'epoch': 1.0}"
      ]
     },
     "execution_count": 23,
     "metadata": {},
     "output_type": "execute_result"
    }
   ],
   "execution_count": 23
  },
  {
   "metadata": {
    "ExecuteTime": {
     "end_time": "2025-01-20T02:31:54.566545Z",
     "start_time": "2025-01-20T02:31:53.967495Z"
    }
   },
   "cell_type": "code",
   "source": "peft_model.save_pretrained(\"./vtsoumpris/fnc-gpt2-lora\")",
   "id": "d2900e98d50d4751",
   "outputs": [],
   "execution_count": 24
  },
  {
   "metadata": {
    "ExecuteTime": {
     "end_time": "2025-01-20T07:15:35.200113Z",
     "start_time": "2025-01-20T07:15:23.080362Z"
    }
   },
   "cell_type": "code",
   "source": [
    "# Make a dataframe with the predictions and the text and the labels\n",
    "items_for_manual_review = tokenized_dataset[\"test\"].select(\n",
    "    [0, 1, 22, 31, 43, 292, 448, 487]\n",
    ")\n",
    "\n",
    "results = trainer.predict(items_for_manual_review)\n",
    "df = pd.DataFrame(\n",
    "    {\n",
    "        \"complaint\": [item[\"complaint\"] for item in items_for_manual_review],\n",
    "        \"predictions\": results.predictions.argmax(axis=1),\n",
    "        \"labels\": results.label_ids,\n",
    "    }\n",
    ")\n",
    "# Show all the cell\n",
    "pd.set_option(\"display.max_colwidth\", None)\n",
    "df"
   ],
   "id": "909478a8b3b51301",
   "outputs": [
    {
     "name": "stderr",
     "output_type": "stream",
     "text": [
      "C:\\Users\\vtsoumpris\\PycharmProjects\\Lightweight_FineTuning_FoundationModel\\venv\\Lib\\site-packages\\sklearn\\metrics\\_classification.py:1565: UndefinedMetricWarning: Precision is ill-defined and being set to 0.0 due to no predicted samples. Use `zero_division` parameter to control this behavior.\n",
      "  _warn_prf(average, modifier, f\"{metric.capitalize()} is\", len(result))\n"
     ]
    },
    {
     "data": {
      "text/plain": [
       "                                                                                                                                                                                                                                                                                                                                                                                                                                                                                                                                                                                                                                                                                                                                                                                                                                                                                                                                                                                                                                                                                                                                                                                                                                                                                                                                                                                                                                                                                                                                                                                                                                                                                                                     complaint  \\\n",
       "0                                                                                                                                                                                                                                                                                                                                                                                                                                                                                                                                                                                                                                                                                                                                                                                                                                                                                                                                                                                                                                                                                                                                                                                                                                                                                                                                                                                                                                                                              XX/XX/2019/ XX/XX/XXXX XXXX XX/XX/XXXX-home equity line/ $ XXXX/ denied reason insufficient credit history/ on free and clear title deed home/ Citibank myhomeequity/ $ XXXX/XX/XX/2019/ action denied/ not approved/ free and clear title deed   \n",
       "1                                                                                                                                                                                                                                                                                                                                                                                                                                                                                                                                                                                                                                                                                                                                                                                                                                                                                                                                                                                                                                                                                                                                                                                                                                  I made a payment of {$100.00} on my credit card. I had a promo balance of {$4600.00} with 0 % interest. I made a purchase for {$25.00} on XXXX. I made XXXX payment that should have covered the balances of the the {$25.00} charge. Payment dates were XXXX for {$25.00} and XXXX for {$100.00}. I minimum payment was {$67.00} that month. I was charged a minimum interest fee of {$.00} on a balance of {$.00}. I think that charge is unfair and they refuse to refund me the {$.00}.   \n",
       "2                                                                        On XX/XX/ 2018 a 10 ton 100 foot tall oak tree crushed my living room. \\nIn the state of Virginia, that means that the lender CitiMortgage holds funds and releases them as progress is made no the insurance claim. \\n\\nAs of XX/XX/2018, the living room has been reconstructed, painted, etc. \\n\\nThe CitiMortgage system for managing inspections to get money released is broken. It has been 6 weeks since I started my request for final inspection and release of remaining funds. CitiMortgage would cancel inspections with no contact or notice. When the inspection was done, it was agreed that 100 % of structural work was complete and minor paint touch up was needed for walls and for floor. \\n\\nCitiMorgtage has decided that they will not honor the 100 % structural and are stating, without contacting me or reviewing with me. At first they claimed that only a 33 % complete inspection was done ( again their XXXX XXXX XXXX system is broken ) and then they have decided that since there is still some plywood in my living room protecting the floor while we finish any painting and getting money to pay for removal of the damaged baby grand piano ... .they have decided that we are only 95 % complete and as such will not release any funds. \\n\\nI am not allowed to get past any phone support at CitiMortgage to talk to an actual person making a decision. \\nThis has been gong on for 6 weeks. The amount for the remaining funds is about {$22000.00}. \\n\\nI am truly dissappointed at CitiMortgage. They come off as a desperate bank that is not interested in letting money, that is not theirs, go.   \n",
       "3  XX/XX/2015 my daughter contacted XXXX to inquire about pricing about a flight to florida. Unknowingly when my daughter gave my credit card number XXXX considers that booking a flight. I disbuted the charge with Citi Bank they denied me stating I book the flight via internet and I read and understood the rules. Which was false. I called and stated This was a phone call and my daughter was on the phone and she is not an authorized user on my account and I should not be charged for an inquiry only. I contacted XXXX explained the situation they apologized for there agents mistake and explained it is company policy that they DO NOT give cash refunds they give flight credit vouchers. Which they did for the full amount of $ XXXX.on XX/XX/2015. I called Citibank and showed them the documentations and they still would not refund me. I then stated I would like to take this to court and let a XXXX make the final decision which they agreed to do. I also stated I am going make an advance payment of {$2900.00} which would leave only the {$120.00} balance in question. They agreed. Time went by I had forgotten about this until I applied for a car loan. To find out the Citi bank had destroyed my credit because i had not made any payments for 6 mo on the credit card. This is after making an agreement with me to let a court make the final decsssion and excepting a payment of {$2900.00} in advance so there would be no problem with a late payment. \\nThis is outright wrong to do to me after making an agreement with me also i could have made monthly payments at no cost to me because i had interest free for 18 mo. \\nXXXX XXXX XXXX is aware of this matter.   \n",
       "4                                                                                                                                                                                                                                                                                                                                                                                                                                                                                                                                                                                                                                                                                                                                                                                                                                                                                                                                                                                                                                                                                                                                                                                                                                                                                                                                                                                                            I applied for a credit card with Cit Bank a couple of month ago. I just realized that they are not displaying the minimum payment warning table. This is the table to inform consumers of the monetary cost and time it will take to pay off a credit card balance if they only make the minimum monthly payment.   \n",
       "5                                                                                                                                                                                                                                                                                                                                                                                                                                                                                                                                                                                                                                                                                                                                                                                                                                                                                                                                                                            Dear Sir or Ma'am, We are experiencing a financial hardship related to having to care for our son who is XXXX, consequently we are not current with our Mortgage with CitiMortgage. We had been able to make payments on line through their website XXXX. \\nThis morning to our surprise we found that the option to make payments is no longer available and our account locked. This was disappointing and creating more stress to not allowing us to have the opportunity to get our payment done. They advertise \" We are here to help you '', however being locked out of our online account prevents us from making our mortgage payment to have a digital fingerprint of our payment. \" Sorry you are not eligible to make payment online.   \n",
       "6                                                                                                                                                                 I had a Home Depot credit card for years with a high creditlimit and never fell behind, always made more the minimumdue and all of a sudden without warning I got a letter froma collection agency saying my card was shut off accountclosed and I owed my balance asap or it was gon na ruin mycredit. So while I was talking to the people I asked them whythis happen what have I done ive been a perfect customerand could n't tell me. So right then they said if you pay thisamount they will wipe it clean so I did exactly that.. Thereceived what they asked for within 5 days. so I calledhome depot I honestly was very devasted and could n't understastand what happened. So I called and called finally reachedsomeone back at the collection agency because home depotwould n't talk to me that because a user on my card XXXX who has never used my card or had possession ofa card filed bankruptcy, which he did n't fall through with hehad to do it over a short sale because the mortgage companywas being a jerk even though we had a signed short salecontract for more then what was owed to XXXX theywere being jerks ... So I feel that it is n't right that this happenedI did nothing wrong and his bankruptcy which can be lookedup was never followed up with we had to do it cuz alawyer told him too ... So please look over and help me out..Ido n't see why it should be bad on my credit report. I wouldhave taken his name off hes never used my card ever! Theycan check theres XXXX different numbers on the cards ...   \n",
       "7                                                                                                                         There was a fraudulent activity on my Macy 's credit card in XXXX XXXX for XXXX charges : {$44.00} and {$47.00} on XX/XX/XXXX and XX/XX/XXXX respectively. I notified Macy 's of the fraudulent activity as soon as my statement arrived XX/XX/XXXX. I received their Statement of XXXX application XX/XX/XXXX and mailed the completed application on XXXX XXXX describing the fraud claim in writing. After numerous calls to Macy 's to check the status of the Fraud Investigation for two months, I was told that Fraud Department help desk had no access to the investigation details other than a status of \" pending ''. They could n't confirm whether the Statement of Fraud application was even received. In order to reassure myself they had received it, I mailed a copy of the initially filled out application with a certified letter XX/XX/XXXX. The certified letter was received on XXXX XXXX. I then called again to check the status and was reassured that the investigation will be completed in 30 to 90 days. The 90 days expire tomorrow ( XXXX/XXXX/XXXX ) and after my last phone call with them, the investigation is still not complete. Macy 's is reporting my account as delinquent and late because of these unpaid fraudulent charges and as a result my credit card score is plummeting. My life has been put on halt as I ca n't achieve my goals because of my poor credit card score. As a consumer, I have done everything in a timely manner and with care while Macy 's has just neglected the reported fraudulent activity on my account for 7 months.   \n",
       "\n",
       "   predictions  labels  \n",
       "0            0       1  \n",
       "1            0       0  \n",
       "2            0       1  \n",
       "3            0       0  \n",
       "4            0       0  \n",
       "5            0       1  \n",
       "6            0       0  \n",
       "7            0       0  "
      ],
      "text/html": [
       "<div>\n",
       "<style scoped>\n",
       "    .dataframe tbody tr th:only-of-type {\n",
       "        vertical-align: middle;\n",
       "    }\n",
       "\n",
       "    .dataframe tbody tr th {\n",
       "        vertical-align: top;\n",
       "    }\n",
       "\n",
       "    .dataframe thead th {\n",
       "        text-align: right;\n",
       "    }\n",
       "</style>\n",
       "<table border=\"1\" class=\"dataframe\">\n",
       "  <thead>\n",
       "    <tr style=\"text-align: right;\">\n",
       "      <th></th>\n",
       "      <th>complaint</th>\n",
       "      <th>predictions</th>\n",
       "      <th>labels</th>\n",
       "    </tr>\n",
       "  </thead>\n",
       "  <tbody>\n",
       "    <tr>\n",
       "      <th>0</th>\n",
       "      <td>XX/XX/2019/ XX/XX/XXXX XXXX XX/XX/XXXX-home equity line/ $ XXXX/ denied reason insufficient credit history/ on free and clear title deed home/ Citibank myhomeequity/ $ XXXX/XX/XX/2019/ action denied/ not approved/ free and clear title deed</td>\n",
       "      <td>0</td>\n",
       "      <td>1</td>\n",
       "    </tr>\n",
       "    <tr>\n",
       "      <th>1</th>\n",
       "      <td>I made a payment of {$100.00} on my credit card. I had a promo balance of {$4600.00} with 0 % interest. I made a purchase for {$25.00} on XXXX. I made XXXX payment that should have covered the balances of the the {$25.00} charge. Payment dates were XXXX for {$25.00} and XXXX for {$100.00}. I minimum payment was {$67.00} that month. I was charged a minimum interest fee of {$.00} on a balance of {$.00}. I think that charge is unfair and they refuse to refund me the {$.00}.</td>\n",
       "      <td>0</td>\n",
       "      <td>0</td>\n",
       "    </tr>\n",
       "    <tr>\n",
       "      <th>2</th>\n",
       "      <td>On XX/XX/ 2018 a 10 ton 100 foot tall oak tree crushed my living room. \\nIn the state of Virginia, that means that the lender CitiMortgage holds funds and releases them as progress is made no the insurance claim. \\n\\nAs of XX/XX/2018, the living room has been reconstructed, painted, etc. \\n\\nThe CitiMortgage system for managing inspections to get money released is broken. It has been 6 weeks since I started my request for final inspection and release of remaining funds. CitiMortgage would cancel inspections with no contact or notice. When the inspection was done, it was agreed that 100 % of structural work was complete and minor paint touch up was needed for walls and for floor. \\n\\nCitiMorgtage has decided that they will not honor the 100 % structural and are stating, without contacting me or reviewing with me. At first they claimed that only a 33 % complete inspection was done ( again their XXXX XXXX XXXX system is broken ) and then they have decided that since there is still some plywood in my living room protecting the floor while we finish any painting and getting money to pay for removal of the damaged baby grand piano ... .they have decided that we are only 95 % complete and as such will not release any funds. \\n\\nI am not allowed to get past any phone support at CitiMortgage to talk to an actual person making a decision. \\nThis has been gong on for 6 weeks. The amount for the remaining funds is about {$22000.00}. \\n\\nI am truly dissappointed at CitiMortgage. They come off as a desperate bank that is not interested in letting money, that is not theirs, go.</td>\n",
       "      <td>0</td>\n",
       "      <td>1</td>\n",
       "    </tr>\n",
       "    <tr>\n",
       "      <th>3</th>\n",
       "      <td>XX/XX/2015 my daughter contacted XXXX to inquire about pricing about a flight to florida. Unknowingly when my daughter gave my credit card number XXXX considers that booking a flight. I disbuted the charge with Citi Bank they denied me stating I book the flight via internet and I read and understood the rules. Which was false. I called and stated This was a phone call and my daughter was on the phone and she is not an authorized user on my account and I should not be charged for an inquiry only. I contacted XXXX explained the situation they apologized for there agents mistake and explained it is company policy that they DO NOT give cash refunds they give flight credit vouchers. Which they did for the full amount of $ XXXX.on XX/XX/2015. I called Citibank and showed them the documentations and they still would not refund me. I then stated I would like to take this to court and let a XXXX make the final decision which they agreed to do. I also stated I am going make an advance payment of {$2900.00} which would leave only the {$120.00} balance in question. They agreed. Time went by I had forgotten about this until I applied for a car loan. To find out the Citi bank had destroyed my credit because i had not made any payments for 6 mo on the credit card. This is after making an agreement with me to let a court make the final decsssion and excepting a payment of {$2900.00} in advance so there would be no problem with a late payment. \\nThis is outright wrong to do to me after making an agreement with me also i could have made monthly payments at no cost to me because i had interest free for 18 mo. \\nXXXX XXXX XXXX is aware of this matter.</td>\n",
       "      <td>0</td>\n",
       "      <td>0</td>\n",
       "    </tr>\n",
       "    <tr>\n",
       "      <th>4</th>\n",
       "      <td>I applied for a credit card with Cit Bank a couple of month ago. I just realized that they are not displaying the minimum payment warning table. This is the table to inform consumers of the monetary cost and time it will take to pay off a credit card balance if they only make the minimum monthly payment.</td>\n",
       "      <td>0</td>\n",
       "      <td>0</td>\n",
       "    </tr>\n",
       "    <tr>\n",
       "      <th>5</th>\n",
       "      <td>Dear Sir or Ma'am, We are experiencing a financial hardship related to having to care for our son who is XXXX, consequently we are not current with our Mortgage with CitiMortgage. We had been able to make payments on line through their website XXXX. \\nThis morning to our surprise we found that the option to make payments is no longer available and our account locked. This was disappointing and creating more stress to not allowing us to have the opportunity to get our payment done. They advertise \" We are here to help you '', however being locked out of our online account prevents us from making our mortgage payment to have a digital fingerprint of our payment. \" Sorry you are not eligible to make payment online.</td>\n",
       "      <td>0</td>\n",
       "      <td>1</td>\n",
       "    </tr>\n",
       "    <tr>\n",
       "      <th>6</th>\n",
       "      <td>I had a Home Depot credit card for years with a high creditlimit and never fell behind, always made more the minimumdue and all of a sudden without warning I got a letter froma collection agency saying my card was shut off accountclosed and I owed my balance asap or it was gon na ruin mycredit. So while I was talking to the people I asked them whythis happen what have I done ive been a perfect customerand could n't tell me. So right then they said if you pay thisamount they will wipe it clean so I did exactly that.. Thereceived what they asked for within 5 days. so I calledhome depot I honestly was very devasted and could n't understastand what happened. So I called and called finally reachedsomeone back at the collection agency because home depotwould n't talk to me that because a user on my card XXXX who has never used my card or had possession ofa card filed bankruptcy, which he did n't fall through with hehad to do it over a short sale because the mortgage companywas being a jerk even though we had a signed short salecontract for more then what was owed to XXXX theywere being jerks ... So I feel that it is n't right that this happenedI did nothing wrong and his bankruptcy which can be lookedup was never followed up with we had to do it cuz alawyer told him too ... So please look over and help me out..Ido n't see why it should be bad on my credit report. I wouldhave taken his name off hes never used my card ever! Theycan check theres XXXX different numbers on the cards ...</td>\n",
       "      <td>0</td>\n",
       "      <td>0</td>\n",
       "    </tr>\n",
       "    <tr>\n",
       "      <th>7</th>\n",
       "      <td>There was a fraudulent activity on my Macy 's credit card in XXXX XXXX for XXXX charges : {$44.00} and {$47.00} on XX/XX/XXXX and XX/XX/XXXX respectively. I notified Macy 's of the fraudulent activity as soon as my statement arrived XX/XX/XXXX. I received their Statement of XXXX application XX/XX/XXXX and mailed the completed application on XXXX XXXX describing the fraud claim in writing. After numerous calls to Macy 's to check the status of the Fraud Investigation for two months, I was told that Fraud Department help desk had no access to the investigation details other than a status of \" pending ''. They could n't confirm whether the Statement of Fraud application was even received. In order to reassure myself they had received it, I mailed a copy of the initially filled out application with a certified letter XX/XX/XXXX. The certified letter was received on XXXX XXXX. I then called again to check the status and was reassured that the investigation will be completed in 30 to 90 days. The 90 days expire tomorrow ( XXXX/XXXX/XXXX ) and after my last phone call with them, the investigation is still not complete. Macy 's is reporting my account as delinquent and late because of these unpaid fraudulent charges and as a result my credit card score is plummeting. My life has been put on halt as I ca n't achieve my goals because of my poor credit card score. As a consumer, I have done everything in a timely manner and with care while Macy 's has just neglected the reported fraudulent activity on my account for 7 months.</td>\n",
       "      <td>0</td>\n",
       "      <td>0</td>\n",
       "    </tr>\n",
       "  </tbody>\n",
       "</table>\n",
       "</div>"
      ]
     },
     "execution_count": 25,
     "metadata": {},
     "output_type": "execute_result"
    }
   ],
   "execution_count": 25
  },
  {
   "metadata": {},
   "cell_type": "code",
   "outputs": [],
   "execution_count": null,
   "source": "",
   "id": "5a1eb7a39b72292f"
  }
 ],
 "metadata": {
  "kernelspec": {
   "display_name": "Python 3",
   "language": "python",
   "name": "python3"
  },
  "language_info": {
   "codemirror_mode": {
    "name": "ipython",
    "version": 2
   },
   "file_extension": ".py",
   "mimetype": "text/x-python",
   "name": "python",
   "nbconvert_exporter": "python",
   "pygments_lexer": "ipython2",
   "version": "2.7.6"
  }
 },
 "nbformat": 4,
 "nbformat_minor": 5
}
