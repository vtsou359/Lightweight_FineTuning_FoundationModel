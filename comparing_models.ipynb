{
 "cells": [
  {
   "metadata": {},
   "cell_type": "markdown",
   "source": "# Comparing foundation and fine-tuned models",
   "id": "9ca56cf096b40dae"
  },
  {
   "metadata": {},
   "cell_type": "markdown",
   "source": "### Imports",
   "id": "9c44030cc3a113c8"
  },
  {
   "cell_type": "code",
   "id": "initial_id",
   "metadata": {
    "collapsed": true,
    "ExecuteTime": {
     "end_time": "2025-01-26T18:12:08.261882Z",
     "start_time": "2025-01-26T18:12:01.379447Z"
    }
   },
   "source": [
    "from datasets import load_dataset, ClassLabel\n",
    "from transformers import (AutoTokenizer,\n",
    "                          AutoModelForSequenceClassification,\n",
    "                          DataCollatorWithPadding,\n",
    "                          Trainer,\n",
    "                          TrainingArguments,\n",
    "                          BitsAndBytesConfig\n",
    ")\n",
    "from peft import (LoraConfig,\n",
    "                  TaskType,\n",
    "                  PeftModel,\n",
    "                  get_peft_model,\n",
    "                  prepare_model_for_kbit_training\n",
    "                  )\n",
    "from sklearn.metrics import (\n",
    "\taccuracy_score,\n",
    "\tprecision_score,\n",
    "\trecall_score,\n",
    "\tf1_score,\n",
    "\tconfusion_matrix,\n",
    "\tConfusionMatrixDisplay\n",
    ")\n",
    "import pandas as pd\n",
    "from pathlib import Path\n",
    "import numpy as np\n",
    "import matplotlib.pyplot as plt\n",
    "import seaborn as sns\n",
    "sns.set_theme(style=\"white\")"
   ],
   "outputs": [],
   "execution_count": 1
  },
  {
   "metadata": {},
   "cell_type": "markdown",
   "source": "### Checking CUDA device",
   "id": "f7be312da7dd267"
  },
  {
   "metadata": {
    "ExecuteTime": {
     "end_time": "2025-01-26T18:12:08.323277Z",
     "start_time": "2025-01-26T18:12:08.271887Z"
    }
   },
   "cell_type": "code",
   "source": [
    "# Importing required function\n",
    "import torch\n",
    "\n",
    "# Check if CUDA is available\n",
    "if torch.cuda.is_available():\n",
    "\tprint(torch.cuda.is_available())\n",
    "\tprint(torch.cuda.device_count())\n",
    "\tprint(torch.cuda.get_device_name(0))\n",
    "else:\n",
    "\tprint(\"CUDA is not available on this system. Please ensure that a CUDA-capable device is properly configured.\")"
   ],
   "id": "e6e42638fda26f7e",
   "outputs": [
    {
     "name": "stdout",
     "output_type": "stream",
     "text": [
      "True\n",
      "1\n",
      "NVIDIA GeForce RTX 4070 Ti\n"
     ]
    }
   ],
   "execution_count": 2
  },
  {
   "metadata": {},
   "cell_type": "markdown",
   "source": "### Functions to be used",
   "id": "4c17a8caafdf886d"
  },
  {
   "metadata": {},
   "cell_type": "markdown",
   "source": "#### Compute Metrics function",
   "id": "d408535bca3478ef"
  },
  {
   "metadata": {
    "ExecuteTime": {
     "end_time": "2025-01-26T18:12:08.552825Z",
     "start_time": "2025-01-26T18:12:08.547836Z"
    }
   },
   "cell_type": "code",
   "source": [
    "def compute_metrics(eval_pred):\n",
    "\t\"\"\"\n",
    "\tCompute evaluation metrics from the given predictions and labels.\n",
    "\n",
    "\tThis function accepts an evaluation prediction object containing prediction\n",
    "\tscores and true labels, calculates the relevant classification metrics, and\n",
    "\treturns a dictionary containing these metrics. Metrics computed include\n",
    "\taccuracy, precision, recall, and F1 score.\n",
    "\n",
    "\t:param eval_pred: A tuple containing the predictions and true labels. The\n",
    "\t    predictions are expected as a 2D array where each row contains the\n",
    "\t    probabilistic scores for each class, and true labels are expected as\n",
    "\t    a 1D array of ground truth class indices.\n",
    "\t:return: A dictionary containing the evaluation metrics, with the following\n",
    "\t    keys: \"accuracy\", \"precision\", \"recall\", and \"f1\".\n",
    "\t:rtype: dict\n",
    "\t\"\"\"\n",
    "\t# Unpack predictions and labels\n",
    "\tpredictions, labels = eval_pred\n",
    "\t# Get the predicted class (argmax selects the class with the highest score)\n",
    "\tpredictions = np.argmax(predictions, axis = 1)\n",
    "\t# Compute metrics\n",
    "\taccuracy = accuracy_score(y_true = labels, y_pred = predictions)\n",
    "\tprecision = precision_score(y_true =labels, y_pred =predictions)\n",
    "\trecall = recall_score(y_true = labels, y_pred = predictions)\n",
    "\tf1 = f1_score(y_true = labels, y_pred = predictions)\n",
    "\t# Return all metrics\n",
    "\treturn {\"accuracy\": accuracy, \"precision\": precision, \"recall\": recall, \"f1\": f1}\n"
   ],
   "id": "40ea5b379b4a2dc4",
   "outputs": [],
   "execution_count": 3
  },
  {
   "metadata": {},
   "cell_type": "markdown",
   "source": "#### Confusion Matrix function",
   "id": "dce945fa07f83f60"
  },
  {
   "metadata": {
    "ExecuteTime": {
     "end_time": "2025-01-26T18:12:08.567552Z",
     "start_time": "2025-01-26T18:12:08.561777Z"
    }
   },
   "cell_type": "code",
   "source": [
    "\n",
    "def create_confusion_matrix(data, cl_classes, trainer_ ,title_text = 'Confusion Matrix - Validation Set'):\n",
    " \"\"\"\n",
    "\t    Constructs and displays a confusion matrix to evaluate the performance of\n",
    "\t    a classifier on a given dataset, highlighting the relationship between true\n",
    "\t    labels and predicted classifications. The confusion matrix provides insights\n",
    "\t    into label-wise classification accuracy and errors.\n",
    "\n",
    "\t    :param data: A dataset containing the validation data and their corresponding\n",
    "\t        labels in a structure suitable for evaluation.\n",
    "\t    :type data: Any\n",
    "\t    :param cl_classes: A list of possible classification labels (classes) corresponding\n",
    "\t        to the data. Each item in the list represents a unique label of the classification\n",
    "\t        task.\n",
    "\t    :type cl_classes: list\n",
    "\t    :param trainer_: An object or function used to generate predictions for the given\n",
    "\t        dataset. It must support the required interface or methods to provide predictions\n",
    "\t        or probabilities for the data.\n",
    "\t    :type trainer_: Any\n",
    "\t    :param title_text: A title for the confusion matrix visualization, used to label\n",
    "\t        the plot for clarity. Defaults to 'Confusion Matrix - Validation Set'.\n",
    "\t    :type title_text: str\n",
    "\t    :return: The generated confusion matrix after the evaluation of the data for\n",
    "\t        comparison with true labels. The matrix format assigns rows to true labels\n",
    "\t        and columns to predicted labels.\n",
    "\t    :rtype: Any\n",
    " \"\"\"\n",
    " results = trainer_.predict(data)\n",
    " # Create confusion matrix\n",
    " y_true = results.label_ids\n",
    " y_pred = results.predictions.argmax(axis=1)\n",
    " cm = confusion_matrix(y_true, y_pred, labels=[0, 1])\n",
    " # Display the confusion matrix\n",
    " disp = ConfusionMatrixDisplay(confusion_matrix=cm,display_labels=cl_classes)\n",
    " disp.plot(cmap=plt.cm.Blues)\n",
    " plt.title(title_text, pad= 12)\n",
    " plt.show()\n",
    " return None"
   ],
   "id": "3babaca43052c9cb",
   "outputs": [],
   "execution_count": 4
  },
  {
   "metadata": {},
   "cell_type": "markdown",
   "source": "#### Evaluating model using HF Trainer function",
   "id": "329e4f5ed189d325"
  },
  {
   "metadata": {
    "ExecuteTime": {
     "end_time": "2025-01-26T18:12:08.581165Z",
     "start_time": "2025-01-26T18:12:08.576044Z"
    }
   },
   "cell_type": "code",
   "source": [
    "def evaluate_model_hf(model, tokenized_dataset, tokenizer, metrics_function = compute_metrics):\n",
    "\t\"\"\"\n",
    "\tEvaluates a pre-trained Hugging Face model on a tokenized dataset using a given\n",
    "\tmetric computation function. The function utilizes Hugging Face's `Trainer`\n",
    "\tclass to execute the evaluation process and returns the results along with the\n",
    "\tconfigured trainer object, allowing further processing or inspection.\n",
    "\n",
    "\t:param model: The pre-trained Hugging Face model to evaluate.\n",
    "\t:type model: transformers.PreTrainedModel\n",
    "\t:param tokenized_dataset: The tokenized dataset to evaluate the model on.\n",
    "\t:type tokenized_dataset: datasets.Dataset\n",
    "\t:param tokenizer: The tokenizer associated with the Hugging Face model.\n",
    "\t:type tokenizer: transformers.PreTrainedTokenizer\n",
    "\t:param metrics_function: The function used to compute custom metrics during\n",
    "\t    evaluation. Defaults to `compute_metrics` if not provided.\n",
    "\t:type metrics_function: Callable, optional\n",
    "\t:return: A tuple containing the evaluation results as a dictionary and the\n",
    "\t    `Trainer` instance used in the process.\n",
    "\t:rtype: Tuple[Dict[str, Any], transformers.Trainer]\n",
    "\t\"\"\"\n",
    "\t# Define evaluation arguments\n",
    "\ttraining_args = TrainingArguments(\n",
    "\t\toutput_dir = \"./results\",  # Directory for result storage\n",
    "\t\tper_device_eval_batch_size = 4,  # Batch size for evaluation\n",
    "\t\tdataloader_drop_last = False,\n",
    "\t\treport_to = \"none\"\n",
    "\t)\n",
    "\n",
    "\t# Initialize Hugging Face's Trainer for evaluation\n",
    "\ttrainer = Trainer(\n",
    "\t\tmodel = model,\n",
    "\t\targs = training_args,\n",
    "\t\teval_dataset = tokenized_dataset,\n",
    "\t\tcompute_metrics = metrics_function,\n",
    "\t\ttokenizer = tokenizer\n",
    "\t)\n",
    "\n",
    "\t# Perform evaluation\n",
    "\tresults = trainer.evaluate()\n",
    "\treturn results, trainer"
   ],
   "id": "a660a8078a4388fb",
   "outputs": [],
   "execution_count": 5
  },
  {
   "metadata": {},
   "cell_type": "markdown",
   "source": "### Loading Unseen Dataset (test dataset)",
   "id": "6984ce9c85f46f3e"
  },
  {
   "metadata": {
    "ExecuteTime": {
     "end_time": "2025-01-26T18:12:09.151153Z",
     "start_time": "2025-01-26T18:12:08.591501Z"
    }
   },
   "cell_type": "code",
   "source": [
    "# Define the file path to the test dataset (unseen data)\n",
    "file_path = Path(\"data/test_dataset.csv\")\n",
    "\n",
    "# Load the dataset using Hugging Face's `load_dataset`\n",
    "dataset = load_dataset('csv', data_files = str(file_path))\n",
    "\n",
    "# Inspect the unique values in the 'labels' column\n",
    "product_classes = dataset[\"train\"].unique(\"Product\")\n",
    "\n",
    "# Convert the 'Product' column to a ClassLabel feature\n",
    "product_label = ClassLabel(names=product_classes)\n",
    "dataset = dataset.cast_column(\"Product\", product_label)\n",
    "\n",
    "# Rename the columns: \"Product\" to \"labels\", and \"Consumer complaint narrative\" to \"complaint\"\n",
    "dataset = dataset.rename_column(\"Product\", \"labels\")\n",
    "dataset = dataset.rename_column(\"Consumer complaint narrative\", \"complaint\")\n",
    "\n",
    "# Extract the features (columns) we want\n",
    "dataset = \\\n",
    "    dataset[\"train\"].select_columns(\n",
    "        [\"complaint\", \"labels\"]\n",
    "    )\n",
    "\n",
    "# View the resulting dataset\n",
    "print(dataset)"
   ],
   "id": "6056b7a03ce96527",
   "outputs": [
    {
     "name": "stdout",
     "output_type": "stream",
     "text": [
      "Dataset({\n",
      "    features: ['complaint', 'labels'],\n",
      "    num_rows: 200\n",
      "})\n"
     ]
    }
   ],
   "execution_count": 6
  },
  {
   "metadata": {
    "ExecuteTime": {
     "end_time": "2025-01-26T18:12:09.169910Z",
     "start_time": "2025-01-26T18:12:09.162206Z"
    }
   },
   "cell_type": "code",
   "source": [
    "# Inspect unique classes in the 'Product' column\n",
    "product_classes"
   ],
   "id": "2b8d05c2e94d2657",
   "outputs": [
    {
     "data": {
      "text/plain": [
       "['Mortgage', 'Credit card or prepaid card']"
      ]
     },
     "execution_count": 7,
     "metadata": {},
     "output_type": "execute_result"
    }
   ],
   "execution_count": 7
  },
  {
   "metadata": {},
   "cell_type": "markdown",
   "source": "### Tokenising dataset",
   "id": "40731509c6343269"
  },
  {
   "metadata": {},
   "cell_type": "markdown",
   "source": "#### Tokenising dataset for GPT-2",
   "id": "e513c6a556adb753"
  },
  {
   "metadata": {
    "ExecuteTime": {
     "end_time": "2025-01-26T18:12:09.670492Z",
     "start_time": "2025-01-26T18:12:09.212497Z"
    }
   },
   "cell_type": "code",
   "source": [
    "gpt2_model = \"gpt2\"\n",
    "tokenizer_gpt2 = AutoTokenizer.from_pretrained(gpt2_model)\n",
    "tokenizer_gpt2.pad_token = tokenizer_gpt2.eos_token\n",
    "\n",
    "# Let's use a lambda function to tokenize all the examples\n",
    "tokenized_dataset_gpt2 = dataset.map(\n",
    "        lambda x: tokenizer_gpt2(x[\"complaint\"],\n",
    "                            truncation=True,\n",
    "                            padding=True,\n",
    "                            return_tensors = \"pt\"\n",
    "                            ),\n",
    "\t    batched=True,\n",
    ")\n",
    "# Inspect the available columns in the dataset\n",
    "tokenized_dataset_gpt2"
   ],
   "id": "6690b606e780d0d5",
   "outputs": [
    {
     "data": {
      "text/plain": [
       "Dataset({\n",
       "    features: ['complaint', 'labels', 'input_ids', 'attention_mask'],\n",
       "    num_rows: 200\n",
       "})"
      ]
     },
     "execution_count": 8,
     "metadata": {},
     "output_type": "execute_result"
    }
   ],
   "execution_count": 8
  },
  {
   "metadata": {},
   "cell_type": "markdown",
   "source": "#### Tokenising dataset for distil-Bert",
   "id": "ba08ec1770ea6550"
  },
  {
   "metadata": {
    "ExecuteTime": {
     "end_time": "2025-01-26T18:12:09.944916Z",
     "start_time": "2025-01-26T18:12:09.716708Z"
    }
   },
   "cell_type": "code",
   "source": [
    "distilbert_model = \"distilbert-base-uncased\"\n",
    "tokenizer_dbert = AutoTokenizer.from_pretrained(distilbert_model)\n",
    "\n",
    "# Let's use a lambda function to tokenize all the examples\n",
    "tokenized_dataset_dbert = dataset.map(\n",
    "        lambda x: tokenizer_dbert(x[\"complaint\"],\n",
    "                            truncation=True,\n",
    "                            padding=True,\n",
    "                            return_tensors = \"pt\"\n",
    "                            ),\n",
    "\t    batched=True,\n",
    ")\n",
    "# Inspect the available columns in the dataset\n",
    "tokenized_dataset_dbert"
   ],
   "id": "5b303e6e5bf13e14",
   "outputs": [
    {
     "data": {
      "text/plain": [
       "Dataset({\n",
       "    features: ['complaint', 'labels', 'input_ids', 'attention_mask'],\n",
       "    num_rows: 200\n",
       "})"
      ]
     },
     "execution_count": 9,
     "metadata": {},
     "output_type": "execute_result"
    }
   ],
   "execution_count": 9
  },
  {
   "metadata": {},
   "cell_type": "markdown",
   "source": "### Paths of PEFT models",
   "id": "2b3dc2c7142afc1f"
  },
  {
   "metadata": {
    "ExecuteTime": {
     "end_time": "2025-01-26T18:12:10.006015Z",
     "start_time": "2025-01-26T18:12:10.001424Z"
    }
   },
   "cell_type": "code",
   "source": [
    "# Defining paths to import saved models\n",
    "gpt2_peft_model_path = \"./vtsoumpris/fnc-gpt2-lora\"\n",
    "\n",
    "gpt2q4_peft_model_path = \"./vtsoumpris/fnc-gpt2-q4lora\"\n",
    "\n",
    "distilbert_peft_model_path = \"./vtsoumpris/fnc-distilbert-lora\""
   ],
   "id": "caaeb510efda36b7",
   "outputs": [],
   "execution_count": 10
  },
  {
   "metadata": {},
   "cell_type": "markdown",
   "source": "### Loading and testing models",
   "id": "c74bb25cb675c39d"
  },
  {
   "metadata": {},
   "cell_type": "markdown",
   "source": "#### Loading and testing model: GPT-2",
   "id": "52a86d9e98319a"
  },
  {
   "metadata": {
    "ExecuteTime": {
     "end_time": "2025-01-26T18:12:15.623237Z",
     "start_time": "2025-01-26T18:12:10.069921Z"
    }
   },
   "cell_type": "code",
   "source": [
    "# Loading GPT-2 foundation model\n",
    "base_gpt2_model = \\\n",
    "\tAutoModelForSequenceClassification.from_pretrained(\n",
    "\t\t\"gpt2\",\n",
    "    \t num_labels = len(product_classes)\n",
    "    )\n",
    "base_gpt2_model.config.pad_token_id = tokenizer_gpt2.pad_token_id\n",
    "\n",
    "# Test GPT-2 foundation model on unseen data\n",
    "gpt2_results, gpt2_trainer = \\\n",
    "\tevaluate_model_hf(base_gpt2_model, tokenized_dataset_gpt2, tokenizer_gpt2)\n",
    "\n",
    "gpt2_results = pd.DataFrame([gpt2_results])\n",
    "gpt2_results['model'] = 'GPT-2'\n",
    "\n",
    "gpt2_results"
   ],
   "id": "80d44a40d4d59ff8",
   "outputs": [
    {
     "name": "stderr",
     "output_type": "stream",
     "text": [
      "Some weights of GPT2ForSequenceClassification were not initialized from the model checkpoint at gpt2 and are newly initialized: ['score.weight']\n",
      "You should probably TRAIN this model on a down-stream task to be able to use it for predictions and inference.\n",
      "C:\\Users\\vtsoumpris\\AppData\\Local\\Temp\\ipykernel_13936\\533718504.py:30: FutureWarning: `tokenizer` is deprecated and will be removed in version 5.0.0 for `Trainer.__init__`. Use `processing_class` instead.\n",
      "  trainer = Trainer(\n"
     ]
    },
    {
     "data": {
      "text/plain": [
       "<IPython.core.display.HTML object>"
      ],
      "text/html": []
     },
     "metadata": {},
     "output_type": "display_data"
    },
    {
     "data": {
      "text/plain": [
       "   eval_loss  eval_model_preparation_time  eval_accuracy  eval_precision  \\\n",
       "0    5.19081                        0.002            0.5             0.5   \n",
       "\n",
       "   eval_recall   eval_f1  eval_runtime  eval_samples_per_second  \\\n",
       "0          1.0  0.666667         4.478                   44.662   \n",
       "\n",
       "   eval_steps_per_second  model  \n",
       "0                 11.166  GPT-2  "
      ],
      "text/html": [
       "<div>\n",
       "<style scoped>\n",
       "    .dataframe tbody tr th:only-of-type {\n",
       "        vertical-align: middle;\n",
       "    }\n",
       "\n",
       "    .dataframe tbody tr th {\n",
       "        vertical-align: top;\n",
       "    }\n",
       "\n",
       "    .dataframe thead th {\n",
       "        text-align: right;\n",
       "    }\n",
       "</style>\n",
       "<table border=\"1\" class=\"dataframe\">\n",
       "  <thead>\n",
       "    <tr style=\"text-align: right;\">\n",
       "      <th></th>\n",
       "      <th>eval_loss</th>\n",
       "      <th>eval_model_preparation_time</th>\n",
       "      <th>eval_accuracy</th>\n",
       "      <th>eval_precision</th>\n",
       "      <th>eval_recall</th>\n",
       "      <th>eval_f1</th>\n",
       "      <th>eval_runtime</th>\n",
       "      <th>eval_samples_per_second</th>\n",
       "      <th>eval_steps_per_second</th>\n",
       "      <th>model</th>\n",
       "    </tr>\n",
       "  </thead>\n",
       "  <tbody>\n",
       "    <tr>\n",
       "      <th>0</th>\n",
       "      <td>5.19081</td>\n",
       "      <td>0.002</td>\n",
       "      <td>0.5</td>\n",
       "      <td>0.5</td>\n",
       "      <td>1.0</td>\n",
       "      <td>0.666667</td>\n",
       "      <td>4.478</td>\n",
       "      <td>44.662</td>\n",
       "      <td>11.166</td>\n",
       "      <td>GPT-2</td>\n",
       "    </tr>\n",
       "  </tbody>\n",
       "</table>\n",
       "</div>"
      ]
     },
     "execution_count": 11,
     "metadata": {},
     "output_type": "execute_result"
    }
   ],
   "execution_count": 11
  },
  {
   "metadata": {},
   "cell_type": "markdown",
   "source": "#### Confusion Matrix: GPT-2",
   "id": "dc996558740301ac"
  },
  {
   "metadata": {
    "ExecuteTime": {
     "end_time": "2025-01-26T18:12:20.019036Z",
     "start_time": "2025-01-26T18:12:15.666820Z"
    }
   },
   "cell_type": "code",
   "source": [
    "create_confusion_matrix(data = tokenized_dataset_gpt2,\n",
    "                        cl_classes= product_classes,\n",
    "                        trainer_ = gpt2_trainer,\n",
    "                        title_text = 'Confusion Matrix (GPT-2) - Test Set (unseen data)')"
   ],
   "id": "20d00865b58535f9",
   "outputs": [
    {
     "data": {
      "text/plain": [
       "<Figure size 640x480 with 2 Axes>"
      ],
      "image/png": "[encoded data removed]"
     },
     "metadata": {},
     "output_type": "display_data"
    }
   ],
   "execution_count": 12
  },
  {
   "metadata": {},
   "cell_type": "markdown",
   "source": "#### Loading and testing fine-tuned model: GPT-2-lora",
   "id": "ccb341f2bf273394"
  },
  {
   "metadata": {
    "ExecuteTime": {
     "end_time": "2025-01-26T18:12:25.586178Z",
     "start_time": "2025-01-26T18:12:20.088385Z"
    }
   },
   "cell_type": "code",
   "source": [
    "# Loading PEFT model: gpt-2-lora\n",
    "gpt2_peft_model = PeftModel.from_pretrained(base_gpt2_model, gpt2_peft_model_path)\n",
    "gpt2_peft_model.config.pad_token_id = tokenizer_gpt2.pad_token_id\n",
    "\n",
    "# Test GPT-2-Lora model on unseen data\n",
    "gpt2_lora_results, gpt2_lora_trainer = \\\n",
    "\tevaluate_model_hf(gpt2_peft_model, tokenized_dataset_gpt2, tokenizer_gpt2)\n",
    "\n",
    "gpt2_lora_results = pd.DataFrame([gpt2_lora_results])\n",
    "gpt2_lora_results['model'] = 'GPT-2-Lora'\n",
    "\n",
    "gpt2_lora_results"
   ],
   "id": "ca80db4ad94ddf9",
   "outputs": [
    {
     "name": "stderr",
     "output_type": "stream",
     "text": [
      "C:\\Users\\vtsoumpris\\AppData\\Local\\Temp\\ipykernel_13936\\533718504.py:30: FutureWarning: `tokenizer` is deprecated and will be removed in version 5.0.0 for `Trainer.__init__`. Use `processing_class` instead.\n",
      "  trainer = Trainer(\n"
     ]
    },
    {
     "data": {
      "text/plain": [
       "<IPython.core.display.HTML object>"
      ],
      "text/html": []
     },
     "metadata": {},
     "output_type": "display_data"
    },
    {
     "data": {
      "text/plain": [
       "   eval_loss  eval_model_preparation_time  eval_accuracy  eval_precision  \\\n",
       "0   0.378243                        0.005           0.83        0.923077   \n",
       "\n",
       "   eval_recall   eval_f1  eval_runtime  eval_samples_per_second  \\\n",
       "0         0.72  0.808989        5.2301                    38.24   \n",
       "\n",
       "   eval_steps_per_second       model  \n",
       "0                   9.56  GPT-2-Lora  "
      ],
      "text/html": [
       "<div>\n",
       "<style scoped>\n",
       "    .dataframe tbody tr th:only-of-type {\n",
       "        vertical-align: middle;\n",
       "    }\n",
       "\n",
       "    .dataframe tbody tr th {\n",
       "        vertical-align: top;\n",
       "    }\n",
       "\n",
       "    .dataframe thead th {\n",
       "        text-align: right;\n",
       "    }\n",
       "</style>\n",
       "<table border=\"1\" class=\"dataframe\">\n",
       "  <thead>\n",
       "    <tr style=\"text-align: right;\">\n",
       "      <th></th>\n",
       "      <th>eval_loss</th>\n",
       "      <th>eval_model_preparation_time</th>\n",
       "      <th>eval_accuracy</th>\n",
       "      <th>eval_precision</th>\n",
       "      <th>eval_recall</th>\n",
       "      <th>eval_f1</th>\n",
       "      <th>eval_runtime</th>\n",
       "      <th>eval_samples_per_second</th>\n",
       "      <th>eval_steps_per_second</th>\n",
       "      <th>model</th>\n",
       "    </tr>\n",
       "  </thead>\n",
       "  <tbody>\n",
       "    <tr>\n",
       "      <th>0</th>\n",
       "      <td>0.378243</td>\n",
       "      <td>0.005</td>\n",
       "      <td>0.83</td>\n",
       "      <td>0.923077</td>\n",
       "      <td>0.72</td>\n",
       "      <td>0.808989</td>\n",
       "      <td>5.2301</td>\n",
       "      <td>38.24</td>\n",
       "      <td>9.56</td>\n",
       "      <td>GPT-2-Lora</td>\n",
       "    </tr>\n",
       "  </tbody>\n",
       "</table>\n",
       "</div>"
      ]
     },
     "execution_count": 13,
     "metadata": {},
     "output_type": "execute_result"
    }
   ],
   "execution_count": 13
  },
  {
   "metadata": {},
   "cell_type": "markdown",
   "source": "#### Confusion Matrix: GPT-2-lora",
   "id": "2772ad58f8414a49"
  },
  {
   "metadata": {
    "ExecuteTime": {
     "end_time": "2025-01-26T18:12:31.280701Z",
     "start_time": "2025-01-26T18:12:25.632984Z"
    }
   },
   "cell_type": "code",
   "source": [
    "create_confusion_matrix(data = tokenized_dataset_gpt2,\n",
    "                        cl_classes= product_classes,\n",
    "                        trainer_ = gpt2_lora_trainer,\n",
    "                        title_text = 'Confusion Matrix (GPT-2 Lora) - Test Set (unseen data)')"
   ],
   "id": "49d615a237360f7b",
   "outputs": [
    {
     "data": {
      "text/plain": [
       "<Figure size 640x480 with 2 Axes>"
      ],
      "image/png": "[encoded data removed]"
     },
     "metadata": {},
     "output_type": "display_data"
    }
   ],
   "execution_count": 14
  },
  {
   "metadata": {},
   "cell_type": "markdown",
   "source": "#### Loading and testing fine-tuned model: GPT-2-lora (quantized)",
   "id": "d926406990eb383d"
  },
  {
   "metadata": {
    "ExecuteTime": {
     "end_time": "2025-01-26T18:12:37.081371Z",
     "start_time": "2025-01-26T18:12:31.344497Z"
    }
   },
   "cell_type": "code",
   "source": [
    "# Loading PEFT model: gpt-2-quantised+lora\n",
    "gpt2q4_peft_model = PeftModel.from_pretrained(base_gpt2_model, gpt2q4_peft_model_path)\n",
    "gpt2q4_peft_model.config.pad_token_id = tokenizer_gpt2.pad_token_id\n",
    "\n",
    "# Test GPT-2-Quantised-Lora model on unseen data\n",
    "gpt2q4_lora_results, gpt2q4_lora_trainer = \\\n",
    "\tevaluate_model_hf(gpt2q4_peft_model, tokenized_dataset_gpt2, tokenizer_gpt2)\n",
    "\n",
    "gpt2q4_lora_results = pd.DataFrame([gpt2q4_lora_results])\n",
    "gpt2q4_lora_results['model'] = 'GPT-2-q4-Lora'\n",
    "\n",
    "gpt2q4_lora_results"
   ],
   "id": "a090fecfcf46273f",
   "outputs": [
    {
     "name": "stderr",
     "output_type": "stream",
     "text": [
      "C:\\Users\\vtsoumpris\\AppData\\Local\\Temp\\ipykernel_13936\\533718504.py:30: FutureWarning: `tokenizer` is deprecated and will be removed in version 5.0.0 for `Trainer.__init__`. Use `processing_class` instead.\n",
      "  trainer = Trainer(\n"
     ]
    },
    {
     "data": {
      "text/plain": [
       "<IPython.core.display.HTML object>"
      ],
      "text/html": []
     },
     "metadata": {},
     "output_type": "display_data"
    },
    {
     "data": {
      "text/plain": [
       "   eval_loss  eval_model_preparation_time  eval_accuracy  eval_precision  \\\n",
       "0   0.436374                        0.007           0.78        0.951613   \n",
       "\n",
       "   eval_recall   eval_f1  eval_runtime  eval_samples_per_second  \\\n",
       "0         0.59  0.728395        5.5419                   36.089   \n",
       "\n",
       "   eval_steps_per_second          model  \n",
       "0                  9.022  GPT-2-q4-Lora  "
      ],
      "text/html": [
       "<div>\n",
       "<style scoped>\n",
       "    .dataframe tbody tr th:only-of-type {\n",
       "        vertical-align: middle;\n",
       "    }\n",
       "\n",
       "    .dataframe tbody tr th {\n",
       "        vertical-align: top;\n",
       "    }\n",
       "\n",
       "    .dataframe thead th {\n",
       "        text-align: right;\n",
       "    }\n",
       "</style>\n",
       "<table border=\"1\" class=\"dataframe\">\n",
       "  <thead>\n",
       "    <tr style=\"text-align: right;\">\n",
       "      <th></th>\n",
       "      <th>eval_loss</th>\n",
       "      <th>eval_model_preparation_time</th>\n",
       "      <th>eval_accuracy</th>\n",
       "      <th>eval_precision</th>\n",
       "      <th>eval_recall</th>\n",
       "      <th>eval_f1</th>\n",
       "      <th>eval_runtime</th>\n",
       "      <th>eval_samples_per_second</th>\n",
       "      <th>eval_steps_per_second</th>\n",
       "      <th>model</th>\n",
       "    </tr>\n",
       "  </thead>\n",
       "  <tbody>\n",
       "    <tr>\n",
       "      <th>0</th>\n",
       "      <td>0.436374</td>\n",
       "      <td>0.007</td>\n",
       "      <td>0.78</td>\n",
       "      <td>0.951613</td>\n",
       "      <td>0.59</td>\n",
       "      <td>0.728395</td>\n",
       "      <td>5.5419</td>\n",
       "      <td>36.089</td>\n",
       "      <td>9.022</td>\n",
       "      <td>GPT-2-q4-Lora</td>\n",
       "    </tr>\n",
       "  </tbody>\n",
       "</table>\n",
       "</div>"
      ]
     },
     "execution_count": 15,
     "metadata": {},
     "output_type": "execute_result"
    }
   ],
   "execution_count": 15
  },
  {
   "metadata": {},
   "cell_type": "markdown",
   "source": "#### Confusion Matrix: GPT-2-quantized+lora",
   "id": "53b40be300da84c5"
  },
  {
   "metadata": {
    "ExecuteTime": {
     "end_time": "2025-01-26T18:12:42.643402Z",
     "start_time": "2025-01-26T18:12:37.169452Z"
    }
   },
   "cell_type": "code",
   "source": [
    "create_confusion_matrix(data = tokenized_dataset_gpt2,\n",
    "                        cl_classes= product_classes,\n",
    "                        trainer_ = gpt2q4_lora_trainer,\n",
    "                        title_text = 'Confusion Matrix (GPT-2 Quantized Lora) - Test Set (unseen data)')"
   ],
   "id": "a458b79dc10d1dca",
   "outputs": [
    {
     "data": {
      "text/plain": [
       "<Figure size 640x480 with 2 Axes>"
      ],
      "image/png": "[encoded data removed]"
     },
     "metadata": {},
     "output_type": "display_data"
    }
   ],
   "execution_count": 16
  },
  {
   "metadata": {},
   "cell_type": "markdown",
   "source": "#### Loading and testing model: distil-Bert base",
   "id": "87e106d71e96a02b"
  },
  {
   "metadata": {
    "ExecuteTime": {
     "end_time": "2025-01-26T18:12:44.171223Z",
     "start_time": "2025-01-26T18:12:42.703365Z"
    }
   },
   "cell_type": "code",
   "source": [
    "# Load DistilBERT foundation\n",
    "base_distilbert_model = \\\n",
    "\tAutoModelForSequenceClassification.from_pretrained(\n",
    "\t\t\"distilbert-base-uncased\",\n",
    "        num_labels = len(product_classes)\n",
    "    )\n",
    "\n",
    "# Test DistilBERT model on unseen data\n",
    "dbert_results, dbert_trainer = \\\n",
    "\tevaluate_model_hf(base_distilbert_model, tokenized_dataset_dbert, tokenizer_dbert)\n",
    "\n",
    "dbert_results = pd.DataFrame([dbert_results])\n",
    "dbert_results['model'] = 'dbert'\n",
    "\n",
    "dbert_results"
   ],
   "id": "931e851cf3392b8c",
   "outputs": [
    {
     "name": "stderr",
     "output_type": "stream",
     "text": [
      "Some weights of DistilBertForSequenceClassification were not initialized from the model checkpoint at distilbert-base-uncased and are newly initialized: ['classifier.bias', 'classifier.weight', 'pre_classifier.bias', 'pre_classifier.weight']\n",
      "You should probably TRAIN this model on a down-stream task to be able to use it for predictions and inference.\n",
      "C:\\Users\\vtsoumpris\\AppData\\Local\\Temp\\ipykernel_13936\\533718504.py:30: FutureWarning: `tokenizer` is deprecated and will be removed in version 5.0.0 for `Trainer.__init__`. Use `processing_class` instead.\n",
      "  trainer = Trainer(\n"
     ]
    },
    {
     "data": {
      "text/plain": [
       "<IPython.core.display.HTML object>"
      ],
      "text/html": []
     },
     "metadata": {},
     "output_type": "display_data"
    },
    {
     "data": {
      "text/plain": [
       "   eval_loss  eval_model_preparation_time  eval_accuracy  eval_precision  \\\n",
       "0   0.696661                        0.003            0.5             0.5   \n",
       "\n",
       "   eval_recall   eval_f1  eval_runtime  eval_samples_per_second  \\\n",
       "0         0.01  0.019608         0.952                  210.092   \n",
       "\n",
       "   eval_steps_per_second  model  \n",
       "0                 52.523  dbert  "
      ],
      "text/html": [
       "<div>\n",
       "<style scoped>\n",
       "    .dataframe tbody tr th:only-of-type {\n",
       "        vertical-align: middle;\n",
       "    }\n",
       "\n",
       "    .dataframe tbody tr th {\n",
       "        vertical-align: top;\n",
       "    }\n",
       "\n",
       "    .dataframe thead th {\n",
       "        text-align: right;\n",
       "    }\n",
       "</style>\n",
       "<table border=\"1\" class=\"dataframe\">\n",
       "  <thead>\n",
       "    <tr style=\"text-align: right;\">\n",
       "      <th></th>\n",
       "      <th>eval_loss</th>\n",
       "      <th>eval_model_preparation_time</th>\n",
       "      <th>eval_accuracy</th>\n",
       "      <th>eval_precision</th>\n",
       "      <th>eval_recall</th>\n",
       "      <th>eval_f1</th>\n",
       "      <th>eval_runtime</th>\n",
       "      <th>eval_samples_per_second</th>\n",
       "      <th>eval_steps_per_second</th>\n",
       "      <th>model</th>\n",
       "    </tr>\n",
       "  </thead>\n",
       "  <tbody>\n",
       "    <tr>\n",
       "      <th>0</th>\n",
       "      <td>0.696661</td>\n",
       "      <td>0.003</td>\n",
       "      <td>0.5</td>\n",
       "      <td>0.5</td>\n",
       "      <td>0.01</td>\n",
       "      <td>0.019608</td>\n",
       "      <td>0.952</td>\n",
       "      <td>210.092</td>\n",
       "      <td>52.523</td>\n",
       "      <td>dbert</td>\n",
       "    </tr>\n",
       "  </tbody>\n",
       "</table>\n",
       "</div>"
      ]
     },
     "execution_count": 17,
     "metadata": {},
     "output_type": "execute_result"
    }
   ],
   "execution_count": 17
  },
  {
   "metadata": {},
   "cell_type": "markdown",
   "source": "#### Confusion Matrix: distilBert base",
   "id": "d3360d65fb8c2cda"
  },
  {
   "metadata": {
    "ExecuteTime": {
     "end_time": "2025-01-26T18:12:45.445063Z",
     "start_time": "2025-01-26T18:12:44.247600Z"
    }
   },
   "cell_type": "code",
   "source": [
    "create_confusion_matrix(data = tokenized_dataset_dbert,\n",
    "                        cl_classes= product_classes,\n",
    "                        trainer_ = dbert_trainer,\n",
    "                        title_text = 'Confusion Matrix (distilBert) - Test Set (unseen data)')"
   ],
   "id": "f483b59c14db7073",
   "outputs": [
    {
     "data": {
      "text/plain": [
       "<Figure size 640x480 with 2 Axes>"
      ],
      "image/png": "[encoded data removed]"
     },
     "metadata": {},
     "output_type": "display_data"
    }
   ],
   "execution_count": 18
  },
  {
   "metadata": {},
   "cell_type": "markdown",
   "source": "#### Loading and testing fine-tuned model: distil-Bert-lora",
   "id": "772e1b17415a14ef"
  },
  {
   "metadata": {
    "ExecuteTime": {
     "end_time": "2025-01-26T18:12:46.751225Z",
     "start_time": "2025-01-26T18:12:45.500661Z"
    }
   },
   "cell_type": "code",
   "source": [
    "# Loading PEFT model: DistilBERT-lora\n",
    "distilbert_peft_model = PeftModel.from_pretrained(base_distilbert_model, distilbert_peft_model_path)\n",
    "\n",
    "# Test DistilBERT-Lora model on unseen data\n",
    "dbert_lora_results, dbert_lora_trainer = \\\n",
    "\tevaluate_model_hf(distilbert_peft_model, tokenized_dataset_dbert, tokenizer_dbert)\n",
    "\n",
    "dbert_lora_results = pd.DataFrame([dbert_lora_results])\n",
    "dbert_lora_results['model'] = 'dbert-Lora'\n",
    "\n",
    "dbert_lora_results"
   ],
   "id": "dcd4ef281cfb98b7",
   "outputs": [
    {
     "name": "stderr",
     "output_type": "stream",
     "text": [
      "C:\\Users\\vtsoumpris\\AppData\\Local\\Temp\\ipykernel_13936\\533718504.py:30: FutureWarning: `tokenizer` is deprecated and will be removed in version 5.0.0 for `Trainer.__init__`. Use `processing_class` instead.\n",
      "  trainer = Trainer(\n"
     ]
    },
    {
     "data": {
      "text/plain": [
       "<IPython.core.display.HTML object>"
      ],
      "text/html": []
     },
     "metadata": {},
     "output_type": "display_data"
    },
    {
     "data": {
      "text/plain": [
       "   eval_loss  eval_model_preparation_time  eval_accuracy  eval_precision  \\\n",
       "0   0.316467                        0.005          0.945        0.900901   \n",
       "\n",
       "   eval_recall   eval_f1  eval_runtime  eval_samples_per_second  \\\n",
       "0          1.0  0.947867         1.066                  187.618   \n",
       "\n",
       "   eval_steps_per_second       model  \n",
       "0                 46.904  dbert-Lora  "
      ],
      "text/html": [
       "<div>\n",
       "<style scoped>\n",
       "    .dataframe tbody tr th:only-of-type {\n",
       "        vertical-align: middle;\n",
       "    }\n",
       "\n",
       "    .dataframe tbody tr th {\n",
       "        vertical-align: top;\n",
       "    }\n",
       "\n",
       "    .dataframe thead th {\n",
       "        text-align: right;\n",
       "    }\n",
       "</style>\n",
       "<table border=\"1\" class=\"dataframe\">\n",
       "  <thead>\n",
       "    <tr style=\"text-align: right;\">\n",
       "      <th></th>\n",
       "      <th>eval_loss</th>\n",
       "      <th>eval_model_preparation_time</th>\n",
       "      <th>eval_accuracy</th>\n",
       "      <th>eval_precision</th>\n",
       "      <th>eval_recall</th>\n",
       "      <th>eval_f1</th>\n",
       "      <th>eval_runtime</th>\n",
       "      <th>eval_samples_per_second</th>\n",
       "      <th>eval_steps_per_second</th>\n",
       "      <th>model</th>\n",
       "    </tr>\n",
       "  </thead>\n",
       "  <tbody>\n",
       "    <tr>\n",
       "      <th>0</th>\n",
       "      <td>0.316467</td>\n",
       "      <td>0.005</td>\n",
       "      <td>0.945</td>\n",
       "      <td>0.900901</td>\n",
       "      <td>1.0</td>\n",
       "      <td>0.947867</td>\n",
       "      <td>1.066</td>\n",
       "      <td>187.618</td>\n",
       "      <td>46.904</td>\n",
       "      <td>dbert-Lora</td>\n",
       "    </tr>\n",
       "  </tbody>\n",
       "</table>\n",
       "</div>"
      ]
     },
     "execution_count": 19,
     "metadata": {},
     "output_type": "execute_result"
    }
   ],
   "execution_count": 19
  },
  {
   "metadata": {},
   "cell_type": "markdown",
   "source": "#### Confusion Matrix: distilBert-lora",
   "id": "d63e1625233dc7e0"
  },
  {
   "metadata": {
    "ExecuteTime": {
     "end_time": "2025-01-26T18:12:48.154782Z",
     "start_time": "2025-01-26T18:12:46.841224Z"
    }
   },
   "cell_type": "code",
   "source": [
    "create_confusion_matrix(data = tokenized_dataset_dbert,\n",
    "                        cl_classes= product_classes,\n",
    "                        trainer_ = dbert_lora_trainer,\n",
    "                        title_text = 'Confusion Matrix (distilBert Lora) - Test Set (unseen data)')"
   ],
   "id": "ffdb396be0b76300",
   "outputs": [
    {
     "data": {
      "text/plain": [
       "<Figure size 640x480 with 2 Axes>"
      ],
      "image/png": "[encoded data removed]"
     },
     "metadata": {},
     "output_type": "display_data"
    }
   ],
   "execution_count": 20
  },
  {
   "metadata": {},
   "cell_type": "markdown",
   "source": "#### Assembling all results into one pandas dataframe",
   "id": "20022b74b8c200cf"
  },
  {
   "metadata": {
    "ExecuteTime": {
     "end_time": "2025-01-26T18:12:48.228121Z",
     "start_time": "2025-01-26T18:12:48.214397Z"
    }
   },
   "cell_type": "code",
   "source": [
    "all_results = pd.concat([gpt2_results,\n",
    "                         gpt2_lora_results,\n",
    "                         gpt2q4_lora_results,\n",
    "                         dbert_results,\n",
    "                         dbert_lora_results])\n",
    "\n",
    "all_results[['model', 'eval_accuracy','eval_precision','eval_recall','eval_f1']]"
   ],
   "id": "bd00313696e13a96",
   "outputs": [
    {
     "data": {
      "text/plain": [
       "           model  eval_accuracy  eval_precision  eval_recall   eval_f1\n",
       "0          GPT-2          0.500        0.500000         1.00  0.666667\n",
       "0     GPT-2-Lora          0.830        0.923077         0.72  0.808989\n",
       "0  GPT-2-q4-Lora          0.780        0.951613         0.59  0.728395\n",
       "0          dbert          0.500        0.500000         0.01  0.019608\n",
       "0     dbert-Lora          0.945        0.900901         1.00  0.947867"
      ],
      "text/html": [
       "<div>\n",
       "<style scoped>\n",
       "    .dataframe tbody tr th:only-of-type {\n",
       "        vertical-align: middle;\n",
       "    }\n",
       "\n",
       "    .dataframe tbody tr th {\n",
       "        vertical-align: top;\n",
       "    }\n",
       "\n",
       "    .dataframe thead th {\n",
       "        text-align: right;\n",
       "    }\n",
       "</style>\n",
       "<table border=\"1\" class=\"dataframe\">\n",
       "  <thead>\n",
       "    <tr style=\"text-align: right;\">\n",
       "      <th></th>\n",
       "      <th>model</th>\n",
       "      <th>eval_accuracy</th>\n",
       "      <th>eval_precision</th>\n",
       "      <th>eval_recall</th>\n",
       "      <th>eval_f1</th>\n",
       "    </tr>\n",
       "  </thead>\n",
       "  <tbody>\n",
       "    <tr>\n",
       "      <th>0</th>\n",
       "      <td>GPT-2</td>\n",
       "      <td>0.500</td>\n",
       "      <td>0.500000</td>\n",
       "      <td>1.00</td>\n",
       "      <td>0.666667</td>\n",
       "    </tr>\n",
       "    <tr>\n",
       "      <th>0</th>\n",
       "      <td>GPT-2-Lora</td>\n",
       "      <td>0.830</td>\n",
       "      <td>0.923077</td>\n",
       "      <td>0.72</td>\n",
       "      <td>0.808989</td>\n",
       "    </tr>\n",
       "    <tr>\n",
       "      <th>0</th>\n",
       "      <td>GPT-2-q4-Lora</td>\n",
       "      <td>0.780</td>\n",
       "      <td>0.951613</td>\n",
       "      <td>0.59</td>\n",
       "      <td>0.728395</td>\n",
       "    </tr>\n",
       "    <tr>\n",
       "      <th>0</th>\n",
       "      <td>dbert</td>\n",
       "      <td>0.500</td>\n",
       "      <td>0.500000</td>\n",
       "      <td>0.01</td>\n",
       "      <td>0.019608</td>\n",
       "    </tr>\n",
       "    <tr>\n",
       "      <th>0</th>\n",
       "      <td>dbert-Lora</td>\n",
       "      <td>0.945</td>\n",
       "      <td>0.900901</td>\n",
       "      <td>1.00</td>\n",
       "      <td>0.947867</td>\n",
       "    </tr>\n",
       "  </tbody>\n",
       "</table>\n",
       "</div>"
      ]
     },
     "execution_count": 21,
     "metadata": {},
     "output_type": "execute_result"
    }
   ],
   "execution_count": 21
  },
  {
   "metadata": {},
   "cell_type": "markdown",
   "source": "### Plotting performance metrics per model",
   "id": "b73b07600a75c581"
  },
  {
   "metadata": {
    "ExecuteTime": {
     "end_time": "2025-01-26T18:24:57.619502Z",
     "start_time": "2025-01-26T18:24:57.338585Z"
    }
   },
   "cell_type": "code",
   "source": [
    "# Add a new column for the average of eval_accuracy and eval_f1\n",
    "all_results['avg_acc_f1'] = (all_results['eval_accuracy'] + all_results['eval_f1']) / 2\n",
    "\n",
    "# Sort the DataFrame by the average column\n",
    "all_results = all_results.sort_values(by = 'avg_acc_f1', ascending = True)\n",
    "\n",
    "# Drop the average column if it's not needed for plotting\n",
    "all_results = all_results.drop(columns = ['avg_acc_f1'])\n",
    "\n",
    "# Melting the DataFrame for easier plotting with Seaborn\n",
    "melted_results = all_results.melt(id_vars = 'model',\n",
    "                                  value_vars = ['eval_accuracy', 'eval_precision', 'eval_recall', 'eval_f1'],\n",
    "                                  var_name = 'metric',\n",
    "                                  value_name = 'value'\n",
    "                                  )\n",
    "\n",
    "# Set Seaborn style and define a custom palette\n",
    "sns.set_theme(style = \"whitegrid\")\n",
    "palette = sns.color_palette([\"#8FBDD3\", \"#FF9B50\", \"#E25E3E\", \"#C63D2F\"])\n",
    "\n",
    "# Create the plot\n",
    "plt.figure(figsize = (14, 8))\n",
    "barplot = sns.barplot(data = melted_results,\n",
    "                      x = 'model',\n",
    "                      y = 'value',\n",
    "                      hue = 'metric',\n",
    "                      palette = palette\n",
    "                      )\n",
    "\n",
    "# Add metric values inside the bars\n",
    "for bar, value in zip(barplot.patches, melted_results['value']):\n",
    "\ttext_x = bar.get_x() + bar.get_width() / 2  # Center the text in the bar\n",
    "\ttext_y = bar.get_height()  # Position at the top of the bar\n",
    "\tbarplot.text(text_x, text_y - 0.05, f'{value:.2f}', ha = 'center', va = 'bottom', color = 'black', fontsize = 10)\n",
    "\n",
    "# Customizations\n",
    "plt.title('Performance Metrics Per Model', fontsize = 18)\n",
    "plt.xlabel('Model', fontsize = 14)\n",
    "plt.ylabel('Metric Value', fontsize = 14)\n",
    "plt.xticks(rotation = 30, ha = 'right', fontsize = 12)\n",
    "\n",
    "# Move the legend outside the plot\n",
    "plt.legend(title = 'Metric', fontsize = 12, bbox_to_anchor = (1.02, 1), loc = 'upper left')\n",
    "\n",
    "# Adjust the y-axis to make space for values\n",
    "plt.ylim(0, 1.005)  # Metrics range slightly above 1 for better visibility of text\n",
    "plt.tight_layout()\n",
    "\n",
    "# Show the plot\n",
    "plt.show()"
   ],
   "id": "59e24850eadf9b2c",
   "outputs": [
    {
     "data": {
      "text/plain": [
       "<Figure size 1400x800 with 1 Axes>"
      ],
      "image/png": "[encoded data removed]"
     },
     "metadata": {},
     "output_type": "display_data"
    }
   ],
   "execution_count": 26
  },
  {
   "metadata": {},
   "cell_type": "code",
   "outputs": [],
   "execution_count": null,
   "source": "",
   "id": "a200873deb8e62b7"
  }
 ],
 "metadata": {
  "kernelspec": {
   "display_name": "Python 3",
   "language": "python",
   "name": "python3"
  },
  "language_info": {
   "codemirror_mode": {
    "name": "ipython",
    "version": 2
   },
   "file_extension": ".py",
   "mimetype": "text/x-python",
   "name": "python",
   "nbconvert_exporter": "python",
   "pygments_lexer": "ipython2",
   "version": "2.7.6"
  }
 },
 "nbformat": 4,
 "nbformat_minor": 5
}
