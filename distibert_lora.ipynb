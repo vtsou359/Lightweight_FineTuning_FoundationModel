{
 "cells": [
  {
   "metadata": {},
   "cell_type": "markdown",
   "source": "### Fine Tuning distilBert",
   "id": "ab1b51ff62410a34"
  },
  {
   "metadata": {},
   "cell_type": "markdown",
   "source": "Imports",
   "id": "808c669ff0af2b0c"
  },
  {
   "cell_type": "code",
   "id": "3afc9c71868e81e1",
   "metadata": {
    "ExecuteTime": {
     "end_time": "2025-01-26T10:10:12.056513Z",
     "start_time": "2025-01-26T10:10:00.942109Z"
    }
   },
   "source": [
    "from datasets import load_dataset, ClassLabel\n",
    "from transformers import AutoTokenizer, AutoModelForSequenceClassification, DataCollatorWithPadding, Trainer, TrainingArguments\n",
    "from peft import LoraConfig, TaskType, PeftModel, get_peft_model\n",
    "from pathlib import Path\n",
    "import numpy as np\n",
    "from sklearn.metrics import accuracy_score, precision_score, recall_score, f1_score, confusion_matrix, ConfusionMatrixDisplay\n",
    "import pandas as pd\n",
    "import matplotlib.pyplot as plt\n",
    "\n",
    "#model name id in hugging face\n",
    "mdl_tok_name = \"distilbert-base-uncased\""
   ],
   "outputs": [],
   "execution_count": 1
  },
  {
   "metadata": {},
   "cell_type": "markdown",
   "source": "Test Nvidia CUDA in torch",
   "id": "a3852959fe21ee20"
  },
  {
   "metadata": {
    "ExecuteTime": {
     "end_time": "2025-01-26T10:10:12.188147Z",
     "start_time": "2025-01-26T10:10:12.069526Z"
    }
   },
   "cell_type": "code",
   "source": [
    "# Importing required function\n",
    "import torch\n",
    "\n",
    "# Check if CUDA is available\n",
    "if torch.cuda.is_available():\n",
    "\tprint(torch.cuda.is_available())\n",
    "\tprint(torch.cuda.device_count())\n",
    "\tprint(torch.cuda.get_device_name(0))\n",
    "else:\n",
    "\tprint(\"CUDA is not available on this system. Please ensure that a CUDA-capable device is properly configured.\")\n"
   ],
   "id": "32b559eb5a5b08f1",
   "outputs": [
    {
     "name": "stdout",
     "output_type": "stream",
     "text": [
      "True\n",
      "1\n",
      "NVIDIA GeForce RTX 4070 Ti\n"
     ]
    }
   ],
   "execution_count": 2
  },
  {
   "metadata": {},
   "cell_type": "markdown",
   "source": "#### Defining Evaluation Metrics as a function",
   "id": "cf120beb5d67c4be"
  },
  {
   "metadata": {
    "ExecuteTime": {
     "end_time": "2025-01-26T10:10:12.554920Z",
     "start_time": "2025-01-26T10:10:12.549541Z"
    }
   },
   "cell_type": "code",
   "source": [
    "def compute_metrics(eval_pred):\n",
    "\t\"\"\"\n",
    "\tCompute evaluation metrics from the given predictions and labels.\n",
    "\n",
    "\tThis function accepts an evaluation prediction object containing prediction\n",
    "\tscores and true labels, calculates the relevant classification metrics, and\n",
    "\treturns a dictionary containing these metrics. Metrics computed include\n",
    "\taccuracy, precision, recall, and F1 score.\n",
    "\n",
    "\t:param eval_pred: A tuple containing the predictions and true labels. The\n",
    "\t    predictions are expected as a 2D array where each row contains the\n",
    "\t    probabilistic scores for each class, and true labels are expected as\n",
    "\t    a 1D array of ground truth class indices.\n",
    "\t:return: A dictionary containing the evaluation metrics, with the following\n",
    "\t    keys: \"accuracy\", \"precision\", \"recall\", and \"f1\".\n",
    "\t:rtype: dict\n",
    "\t\"\"\"\n",
    "\t# Unpack predictions and labels\n",
    "\tpredictions, labels = eval_pred\n",
    "\t# Get the predicted class (argmax selects the class with the highest score)\n",
    "\tpredictions = np.argmax(predictions, axis = 1)\n",
    "\t# Compute metrics\n",
    "\taccuracy = accuracy_score(y_true = labels, y_pred = predictions)\n",
    "\tprecision = precision_score(y_true =labels, y_pred =predictions)\n",
    "\trecall = recall_score(y_true = labels, y_pred = predictions)\n",
    "\tf1 = f1_score(y_true = labels, y_pred = predictions)\n",
    "\t# Return all metrics\n",
    "\treturn {\"accuracy\": accuracy, \"precision\": precision, \"recall\": recall, \"f1\": f1}"
   ],
   "id": "70c1a899c9f1b258",
   "outputs": [],
   "execution_count": 3
  },
  {
   "metadata": {},
   "cell_type": "markdown",
   "source": "#### Creating a confusion matrix visualiation function",
   "id": "419966502e852532"
  },
  {
   "metadata": {
    "ExecuteTime": {
     "end_time": "2025-01-26T10:10:12.565769Z",
     "start_time": "2025-01-26T10:10:12.560931Z"
    }
   },
   "cell_type": "code",
   "source": [
    "def create_confusion_matrix(data, cl_classes, trainer_ ,title_text = 'Confusion Matrix - Validation Set'):\n",
    " \"\"\"\n",
    "\t    Constructs and displays a confusion matrix to evaluate the performance of\n",
    "\t    a classifier on a given dataset, highlighting the relationship between true\n",
    "\t    labels and predicted classifications. The confusion matrix provides insights\n",
    "\t    into label-wise classification accuracy and errors.\n",
    "\n",
    "\t    :param data: A dataset containing the validation data and their corresponding\n",
    "\t        labels in a structure suitable for evaluation.\n",
    "\t    :type data: Any\n",
    "\t    :param cl_classes: A list of possible classification labels (classes) corresponding\n",
    "\t        to the data. Each item in the list represents a unique label of the classification\n",
    "\t        task.\n",
    "\t    :type cl_classes: list\n",
    "\t    :param trainer_: An object or function used to generate predictions for the given\n",
    "\t        dataset. It must support the required interface or methods to provide predictions\n",
    "\t        or probabilities for the data.\n",
    "\t    :type trainer_: Any\n",
    "\t    :param title_text: A title for the confusion matrix visualization, used to label\n",
    "\t        the plot for clarity. Defaults to 'Confusion Matrix - Validation Set'.\n",
    "\t    :type title_text: str\n",
    "\t    :return: The generated confusion matrix after the evaluation of the data for\n",
    "\t        comparison with true labels. The matrix format assigns rows to true labels\n",
    "\t        and columns to predicted labels.\n",
    "\t    :rtype: Any\n",
    " \"\"\"\n",
    " results = trainer_.predict(data)\n",
    " # Create confusion matrix\n",
    " y_true = results.label_ids\n",
    " y_pred = results.predictions.argmax(axis=1)\n",
    " cm = confusion_matrix(y_true, y_pred, labels=[0, 1])\n",
    " # Display the confusion matrix\n",
    " disp = ConfusionMatrixDisplay(confusion_matrix=cm,display_labels=cl_classes)\n",
    " disp.plot(cmap=plt.cm.Blues)\n",
    " plt.title(title_text, pad= 12)\n",
    " plt.show()\n",
    " return None"
   ],
   "id": "9e8135c656772a18",
   "outputs": [],
   "execution_count": 4
  },
  {
   "metadata": {},
   "cell_type": "markdown",
   "source": "#### Loading the filtered dataset",
   "id": "d044bb1571cbc875"
  },
  {
   "metadata": {
    "collapsed": true,
    "ExecuteTime": {
     "end_time": "2025-01-26T10:10:13.133836Z",
     "start_time": "2025-01-26T10:10:12.577154Z"
    }
   },
   "cell_type": "code",
   "source": [
    "# Define the file path to the dataset\n",
    "file_path = Path(\"data/filtered_dataset.csv\")\n",
    "\n",
    "# Load the dataset using Hugging Face's `load_dataset`\n",
    "dataset = load_dataset('csv', data_files = str(file_path))\n",
    "\n",
    "# Inspect the unique values in the 'labels' column\n",
    "product_classes = dataset[\"train\"].unique(\"Product\")\n",
    "\n",
    "# Convert the 'Product' column to a ClassLabel feature\n",
    "product_label = ClassLabel(names=product_classes)\n",
    "dataset = dataset.cast_column(\"Product\", product_label)\n",
    "\n",
    "# Rename the columns: \"Product\" to \"labels\", and \"Consumer complaint narrative\" to \"complaint\"\n",
    "dataset = dataset.rename_column(\"Product\", \"labels\")\n",
    "dataset = dataset.rename_column(\"Consumer complaint narrative\", \"complaint\")\n",
    "\n",
    "# Extract the features (columns) we want\n",
    "dataset = \\\n",
    "    dataset[\"train\"].select_columns(\n",
    "        [\"complaint\", \"labels\"]\n",
    "    ).train_test_split(\n",
    "        test_size=0.2,\n",
    "        shuffle=True,\n",
    "        seed=23,\n",
    "        stratify_by_column=\"labels\"\n",
    "    )\n",
    "splits = [\"train\", \"test\"]\n",
    "\n",
    "# View the resulting dataset\n",
    "print(dataset)"
   ],
   "id": "initial_id",
   "outputs": [
    {
     "name": "stdout",
     "output_type": "stream",
     "text": [
      "DatasetDict({\n",
      "    train: Dataset({\n",
      "        features: ['complaint', 'labels'],\n",
      "        num_rows: 1600\n",
      "    })\n",
      "    test: Dataset({\n",
      "        features: ['complaint', 'labels'],\n",
      "        num_rows: 400\n",
      "    })\n",
      "})\n"
     ]
    }
   ],
   "execution_count": 5
  },
  {
   "metadata": {},
   "cell_type": "markdown",
   "source": [
    "#### Inspecting the labels\n",
    "\n",
    "Credit card or Prepaid Card is labeled as 0 and  Mortgage is labeled as 1"
   ],
   "id": "5515a2b1ef507acb"
  },
  {
   "metadata": {
    "ExecuteTime": {
     "end_time": "2025-01-26T10:10:13.162020Z",
     "start_time": "2025-01-26T10:10:13.150490Z"
    }
   },
   "cell_type": "code",
   "source": "product_label",
   "id": "b9040be5e710a56f",
   "outputs": [
    {
     "data": {
      "text/plain": [
       "ClassLabel(names=['Mortgage', 'Credit card or prepaid card'], id=None)"
      ]
     },
     "execution_count": 6,
     "metadata": {},
     "output_type": "execute_result"
    }
   ],
   "execution_count": 6
  },
  {
   "metadata": {},
   "cell_type": "markdown",
   "source": [
    "#### Preprocess dataset\n",
    "\n",
    "Tokenizing 'Consumer complaint narrative' feature values"
   ],
   "id": "d33a3db87bf72169"
  },
  {
   "metadata": {
    "ExecuteTime": {
     "end_time": "2025-01-26T10:10:13.813670Z",
     "start_time": "2025-01-26T10:10:13.213167Z"
    }
   },
   "cell_type": "code",
   "source": [
    "tokenizer = AutoTokenizer.from_pretrained(mdl_tok_name)\n",
    "\n",
    "# Let's use a lambda function to tokenize all the examples\n",
    "tokenized_dataset = {}\n",
    "for split in splits:\n",
    "    tokenized_dataset[split] = dataset[split].map(\n",
    "        lambda x: tokenizer(x[\"complaint\"],\n",
    "                            truncation=True,\n",
    "                            padding=True,\n",
    "                            return_tensors = \"pt\"\n",
    "                            ),\n",
    "\t    batched=True,\n",
    "\n",
    "    )\n",
    "\n",
    "\n",
    "# Inspect the available columns in the dataset\n",
    "tokenized_dataset[\"train\"]"
   ],
   "id": "4de95d07c818cebd",
   "outputs": [
    {
     "data": {
      "text/plain": [
       "Map:   0%|          | 0/400 [00:00<?, ? examples/s]"
      ],
      "application/vnd.jupyter.widget-view+json": {
       "version_major": 2,
       "version_minor": 0,
       "model_id": "92d2d295bf5c480392accafec55da58c"
      }
     },
     "metadata": {},
     "output_type": "display_data"
    },
    {
     "data": {
      "text/plain": [
       "Dataset({\n",
       "    features: ['complaint', 'labels', 'input_ids', 'attention_mask'],\n",
       "    num_rows: 1600\n",
       "})"
      ]
     },
     "execution_count": 7,
     "metadata": {},
     "output_type": "execute_result"
    }
   ],
   "execution_count": 7
  },
  {
   "metadata": {},
   "cell_type": "markdown",
   "source": "#### Loading Model",
   "id": "7edce09ded4bded4"
  },
  {
   "metadata": {
    "ExecuteTime": {
     "end_time": "2025-01-26T10:10:14.233658Z",
     "start_time": "2025-01-26T10:10:13.866760Z"
    }
   },
   "cell_type": "code",
   "source": [
    "model = AutoModelForSequenceClassification.from_pretrained(\n",
    "    mdl_tok_name,\n",
    "    num_labels=2,\n",
    "    id2label={0: \"Mortgage\", 1: \"Credit card or prepaid card\"},\n",
    "    label2id={\"Credit card or prepaid card\": 0, \"Mortgage\": 1},\n",
    ")\n",
    "print(model)"
   ],
   "id": "382a8fe8d3b4e8d0",
   "outputs": [
    {
     "name": "stderr",
     "output_type": "stream",
     "text": [
      "Some weights of DistilBertForSequenceClassification were not initialized from the model checkpoint at distilbert-base-uncased and are newly initialized: ['classifier.bias', 'classifier.weight', 'pre_classifier.bias', 'pre_classifier.weight']\n",
      "You should probably TRAIN this model on a down-stream task to be able to use it for predictions and inference.\n"
     ]
    },
    {
     "name": "stdout",
     "output_type": "stream",
     "text": [
      "DistilBertForSequenceClassification(\n",
      "  (distilbert): DistilBertModel(\n",
      "    (embeddings): Embeddings(\n",
      "      (word_embeddings): Embedding(30522, 768, padding_idx=0)\n",
      "      (position_embeddings): Embedding(512, 768)\n",
      "      (LayerNorm): LayerNorm((768,), eps=1e-12, elementwise_affine=True)\n",
      "      (dropout): Dropout(p=0.1, inplace=False)\n",
      "    )\n",
      "    (transformer): Transformer(\n",
      "      (layer): ModuleList(\n",
      "        (0-5): 6 x TransformerBlock(\n",
      "          (attention): DistilBertSdpaAttention(\n",
      "            (dropout): Dropout(p=0.1, inplace=False)\n",
      "            (q_lin): Linear(in_features=768, out_features=768, bias=True)\n",
      "            (k_lin): Linear(in_features=768, out_features=768, bias=True)\n",
      "            (v_lin): Linear(in_features=768, out_features=768, bias=True)\n",
      "            (out_lin): Linear(in_features=768, out_features=768, bias=True)\n",
      "          )\n",
      "          (sa_layer_norm): LayerNorm((768,), eps=1e-12, elementwise_affine=True)\n",
      "          (ffn): FFN(\n",
      "            (dropout): Dropout(p=0.1, inplace=False)\n",
      "            (lin1): Linear(in_features=768, out_features=3072, bias=True)\n",
      "            (lin2): Linear(in_features=3072, out_features=768, bias=True)\n",
      "            (activation): GELUActivation()\n",
      "          )\n",
      "          (output_layer_norm): LayerNorm((768,), eps=1e-12, elementwise_affine=True)\n",
      "        )\n",
      "      )\n",
      "    )\n",
      "  )\n",
      "  (pre_classifier): Linear(in_features=768, out_features=768, bias=True)\n",
      "  (classifier): Linear(in_features=768, out_features=2, bias=True)\n",
      "  (dropout): Dropout(p=0.2, inplace=False)\n",
      ")\n"
     ]
    }
   ],
   "execution_count": 8
  },
  {
   "metadata": {},
   "cell_type": "markdown",
   "source": "#### Initial Evaluation of the model",
   "id": "c910ee5540b2228a"
  },
  {
   "metadata": {
    "ExecuteTime": {
     "end_time": "2025-01-26T10:10:17.175771Z",
     "start_time": "2025-01-26T10:10:14.297038Z"
    }
   },
   "cell_type": "code",
   "source": [
    "training_args = TrainingArguments(\n",
    "\toutput_dir = \"./results\",  # Where to save results\n",
    "\tevaluation_strategy = \"epoch\",  # Evaluate at the end of every epoch\n",
    "\tper_device_eval_batch_size = 16,  # Batch size for evaluation\n",
    "\tlogging_dir = \"./logs\",  # Logging directory\n",
    "\tseed = 42\n",
    ")\n",
    "\n",
    "# Initialize Trainer to use it for evaluation of foundation model\n",
    "initial_trainer = \\\n",
    "Trainer(\n",
    "\tmodel = model,\n",
    "\targs = training_args,\n",
    "\teval_dataset = tokenized_dataset[\"test\"],\n",
    "\tcompute_metrics = compute_metrics\n",
    ")\n",
    "\n",
    "# Evaluate the foundation model\n",
    "initial_results = initial_trainer.evaluate()\n",
    "\n",
    "# Print results\n",
    "print(initial_results)"
   ],
   "id": "52e04fc52ffbf4d3",
   "outputs": [
    {
     "name": "stderr",
     "output_type": "stream",
     "text": [
      "C:\\Users\\vtsoumpris\\PycharmProjects\\Lightweight_FineTuning_FoundationModel\\venv\\Lib\\site-packages\\transformers\\training_args.py:1575: FutureWarning: `evaluation_strategy` is deprecated and will be removed in version 4.46 of 🤗 Transformers. Use `eval_strategy` instead\n",
      "  warnings.warn(\n"
     ]
    },
    {
     "data": {
      "text/plain": [
       "<IPython.core.display.HTML object>"
      ],
      "text/html": []
     },
     "metadata": {},
     "output_type": "display_data"
    },
    {
     "name": "stdout",
     "output_type": "stream",
     "text": [
      "{'eval_loss': 0.6969445943832397, 'eval_model_preparation_time': 0.001, 'eval_accuracy': 0.5, 'eval_precision': 0.0, 'eval_recall': 0.0, 'eval_f1': 0.0, 'eval_runtime': 1.701, 'eval_samples_per_second': 235.155, 'eval_steps_per_second': 14.697}\n"
     ]
    },
    {
     "name": "stderr",
     "output_type": "stream",
     "text": [
      "C:\\Users\\vtsoumpris\\PycharmProjects\\Lightweight_FineTuning_FoundationModel\\venv\\Lib\\site-packages\\sklearn\\metrics\\_classification.py:1565: UndefinedMetricWarning: Precision is ill-defined and being set to 0.0 due to no predicted samples. Use `zero_division` parameter to control this behavior.\n",
      "  _warn_prf(average, modifier, f\"{metric.capitalize()} is\", len(result))\n"
     ]
    }
   ],
   "execution_count": 9
  },
  {
   "metadata": {},
   "cell_type": "markdown",
   "source": "#### Confusion Matrix for the **non** fine-tuned model",
   "id": "576fe56d06ca742"
  },
  {
   "metadata": {
    "ExecuteTime": {
     "end_time": "2025-01-26T10:10:18.947583Z",
     "start_time": "2025-01-26T10:10:17.187781Z"
    }
   },
   "cell_type": "code",
   "source": [
    "create_confusion_matrix(data = tokenized_dataset[\"test\"],\n",
    "                        cl_classes= product_classes,\n",
    "                        trainer_ = initial_trainer,\n",
    "                        title_text = 'Confusion Matrix (Initial Model) - Validation Set')"
   ],
   "id": "eb1fa78a2daf28e",
   "outputs": [
    {
     "name": "stderr",
     "output_type": "stream",
     "text": [
      "C:\\Users\\vtsoumpris\\PycharmProjects\\Lightweight_FineTuning_FoundationModel\\venv\\Lib\\site-packages\\sklearn\\metrics\\_classification.py:1565: UndefinedMetricWarning: Precision is ill-defined and being set to 0.0 due to no predicted samples. Use `zero_division` parameter to control this behavior.\n",
      "  _warn_prf(average, modifier, f\"{metric.capitalize()} is\", len(result))\n"
     ]
    },
    {
     "data": {
      "text/plain": [
       "<Figure size 640x480 with 2 Axes>"
      ],
      "image/png": "[encoded data removed]"
     },
     "metadata": {},
     "output_type": "display_data"
    }
   ],
   "execution_count": 10
  },
  {
   "metadata": {},
   "cell_type": "markdown",
   "source": [
    "#### Lora Configuration for distilBert model\n",
    "\n",
    "1. **Target Modules is set to:**\n",
    "    - `q_lin` (query), `k_lin` (key), and `v_lin` (value): The fundamental layers in the attention mechanism crucial for capturing relationships in the inputs.\n",
    "    - `out_lin`: This layer outputs the processed attention values, making it an important target for parameter-efficient fine-tuning as well."
   ],
   "id": "780a69ac1b88f5a3"
  },
  {
   "metadata": {
    "ExecuteTime": {
     "end_time": "2025-01-26T10:10:18.995906Z",
     "start_time": "2025-01-26T10:10:18.991638Z"
    }
   },
   "cell_type": "code",
   "source": [
    "lora_config = \\\n",
    "\tLoraConfig(\n",
    "\t\tr = 8,  # Low-rank dimension: 8 for a compact model like DistilBERT\n",
    "\t\ttarget_modules = [\"q_lin\", \"k_lin\", \"v_lin\", \"out_lin\"],\n",
    "\t\ttask_type = TaskType.SEQ_CLS,  # Task type, e.g., Sequence Classification\n",
    "\t\tlora_alpha = 16,  # Scaling factor: smaller due to the lightweight architecture\n",
    "\t\tlora_dropout = 0.1  # Dropout, increase slightly to prevent overfitting on smaller models\n",
    "\t)"
   ],
   "id": "8fdfeb02484293c4",
   "outputs": [],
   "execution_count": 11
  },
  {
   "metadata": {},
   "cell_type": "markdown",
   "source": "#### Loading foundation model as PEFT model",
   "id": "5ab5a28f57985e24"
  },
  {
   "metadata": {
    "ExecuteTime": {
     "end_time": "2025-01-26T10:10:19.101997Z",
     "start_time": "2025-01-26T10:10:19.055398Z"
    }
   },
   "cell_type": "code",
   "source": [
    "peft_model = get_peft_model(model, lora_config)\n",
    "peft_model.print_trainable_parameters()"
   ],
   "id": "92bbb4de048aa7a8",
   "outputs": [
    {
     "name": "stdout",
     "output_type": "stream",
     "text": [
      "trainable params: 887,042 || all params: 67,842,052 || trainable%: 1.3075\n"
     ]
    }
   ],
   "execution_count": 12
  },
  {
   "metadata": {},
   "cell_type": "markdown",
   "source": [
    "#### Define Trainer to fine-tune the foundation model\n",
    "\n",
    "The HuggingFace Trainer class handles the training and eval loop for PyTorch.\n",
    "\n",
    "You can find more at this [link](https://huggingface.co/docs/transformers/main_classes/trainer)."
   ],
   "id": "fb730de6ffb08b74"
  },
  {
   "metadata": {
    "ExecuteTime": {
     "end_time": "2025-01-26T10:10:19.256453Z",
     "start_time": "2025-01-26T10:10:19.154011Z"
    }
   },
   "cell_type": "code",
   "source": [
    "trainer = Trainer(\n",
    "    model=model,\n",
    "    args=TrainingArguments(\n",
    "        output_dir= \"./data/creditc_mortg\",\n",
    "        # Learning rate\n",
    "        learning_rate= 2e-5,\n",
    "        # Train/Validate batch size\n",
    "        per_device_train_batch_size= 16,  # 16: Reduce batch size to avoid memory crashes if needed\n",
    "        per_device_eval_batch_size= 16, # 16: Same for evaluation\n",
    "        # Evaluate and save the model after each epoch\n",
    "        eval_strategy= \"epoch\", # Evaluate at the end of each epoch\n",
    "        save_strategy= \"epoch\", # Save model checkpoint every epoch\n",
    "\t    # Epochs and weight decay\n",
    "        num_train_epochs= 11,\n",
    "        weight_decay= 0.01,  # Standard weight decay\n",
    "\t    # Resource management\n",
    "\t\tgradient_accumulation_steps= 4,  # Simulate larger batches with accumulation\n",
    "\t    #\n",
    "        load_best_model_at_end= True,\n",
    "\t    use_cpu= False, # Ensure GPU usage\n",
    "\t    seed = 42,\n",
    "\t    data_seed = 42,\n",
    "\n",
    "\t    # Enable logging for losses\n",
    "\t    logging_dir= \".data/logs/distilbert_lora_logs\", # dir to save logs\n",
    "        logging_strategy = \"epoch\", # log at regular intervals\n",
    "\t    log_level = 'error'\n",
    "    ),\n",
    "    train_dataset= tokenized_dataset[\"train\"],\n",
    "    eval_dataset= tokenized_dataset[\"test\"],\n",
    "    tokenizer= tokenizer,\n",
    "    data_collator= DataCollatorWithPadding(tokenizer=tokenizer),\n",
    "    compute_metrics= compute_metrics,\n",
    ")"
   ],
   "id": "92839e841ad89c62",
   "outputs": [
    {
     "name": "stderr",
     "output_type": "stream",
     "text": [
      "C:\\Users\\vtsoumpris\\AppData\\Local\\Temp\\ipykernel_1048\\3967100149.py:1: FutureWarning: `tokenizer` is deprecated and will be removed in version 5.0.0 for `Trainer.__init__`. Use `processing_class` instead.\n",
      "  trainer = Trainer(\n"
     ]
    }
   ],
   "execution_count": 13
  },
  {
   "metadata": {},
   "cell_type": "markdown",
   "source": "#### Start fine-tuning",
   "id": "57b08c612fd471de"
  },
  {
   "metadata": {
    "ExecuteTime": {
     "end_time": "2025-01-26T10:13:24.731250Z",
     "start_time": "2025-01-26T10:10:19.275760Z"
    }
   },
   "cell_type": "code",
   "source": "trainer.train()",
   "id": "e3182054a5155275",
   "outputs": [
    {
     "data": {
      "text/plain": [
       "<IPython.core.display.HTML object>"
      ],
      "text/html": [
       "\n",
       "    <div>\n",
       "      \n",
       "      <progress value='275' max='275' style='width:300px; height:20px; vertical-align: middle;'></progress>\n",
       "      [275/275 03:04, Epoch 11/11]\n",
       "    </div>\n",
       "    <table border=\"1\" class=\"dataframe\">\n",
       "  <thead>\n",
       " <tr style=\"text-align: left;\">\n",
       "      <th>Epoch</th>\n",
       "      <th>Training Loss</th>\n",
       "      <th>Validation Loss</th>\n",
       "      <th>Accuracy</th>\n",
       "      <th>Precision</th>\n",
       "      <th>Recall</th>\n",
       "      <th>F1</th>\n",
       "    </tr>\n",
       "  </thead>\n",
       "  <tbody>\n",
       "    <tr>\n",
       "      <td>1</td>\n",
       "      <td>0.687300</td>\n",
       "      <td>0.676513</td>\n",
       "      <td>0.820000</td>\n",
       "      <td>0.790909</td>\n",
       "      <td>0.870000</td>\n",
       "      <td>0.828571</td>\n",
       "    </tr>\n",
       "    <tr>\n",
       "      <td>2</td>\n",
       "      <td>0.670200</td>\n",
       "      <td>0.658762</td>\n",
       "      <td>0.847500</td>\n",
       "      <td>0.897143</td>\n",
       "      <td>0.785000</td>\n",
       "      <td>0.837333</td>\n",
       "    </tr>\n",
       "    <tr>\n",
       "      <td>3</td>\n",
       "      <td>0.653300</td>\n",
       "      <td>0.636468</td>\n",
       "      <td>0.875000</td>\n",
       "      <td>0.864078</td>\n",
       "      <td>0.890000</td>\n",
       "      <td>0.876847</td>\n",
       "    </tr>\n",
       "    <tr>\n",
       "      <td>4</td>\n",
       "      <td>0.626200</td>\n",
       "      <td>0.605245</td>\n",
       "      <td>0.887500</td>\n",
       "      <td>0.860465</td>\n",
       "      <td>0.925000</td>\n",
       "      <td>0.891566</td>\n",
       "    </tr>\n",
       "    <tr>\n",
       "      <td>5</td>\n",
       "      <td>0.591200</td>\n",
       "      <td>0.562153</td>\n",
       "      <td>0.912500</td>\n",
       "      <td>0.894737</td>\n",
       "      <td>0.935000</td>\n",
       "      <td>0.914425</td>\n",
       "    </tr>\n",
       "    <tr>\n",
       "      <td>6</td>\n",
       "      <td>0.544600</td>\n",
       "      <td>0.507429</td>\n",
       "      <td>0.920000</td>\n",
       "      <td>0.896226</td>\n",
       "      <td>0.950000</td>\n",
       "      <td>0.922330</td>\n",
       "    </tr>\n",
       "    <tr>\n",
       "      <td>7</td>\n",
       "      <td>0.490800</td>\n",
       "      <td>0.448560</td>\n",
       "      <td>0.932500</td>\n",
       "      <td>0.898618</td>\n",
       "      <td>0.975000</td>\n",
       "      <td>0.935252</td>\n",
       "    </tr>\n",
       "    <tr>\n",
       "      <td>8</td>\n",
       "      <td>0.435100</td>\n",
       "      <td>0.396137</td>\n",
       "      <td>0.937500</td>\n",
       "      <td>0.906977</td>\n",
       "      <td>0.975000</td>\n",
       "      <td>0.939759</td>\n",
       "    </tr>\n",
       "    <tr>\n",
       "      <td>9</td>\n",
       "      <td>0.388800</td>\n",
       "      <td>0.358087</td>\n",
       "      <td>0.935000</td>\n",
       "      <td>0.902778</td>\n",
       "      <td>0.975000</td>\n",
       "      <td>0.937500</td>\n",
       "    </tr>\n",
       "    <tr>\n",
       "      <td>10</td>\n",
       "      <td>0.359800</td>\n",
       "      <td>0.336303</td>\n",
       "      <td>0.937500</td>\n",
       "      <td>0.903226</td>\n",
       "      <td>0.980000</td>\n",
       "      <td>0.940048</td>\n",
       "    </tr>\n",
       "    <tr>\n",
       "      <td>11</td>\n",
       "      <td>0.346300</td>\n",
       "      <td>0.329284</td>\n",
       "      <td>0.940000</td>\n",
       "      <td>0.907407</td>\n",
       "      <td>0.980000</td>\n",
       "      <td>0.942308</td>\n",
       "    </tr>\n",
       "  </tbody>\n",
       "</table><p>"
      ]
     },
     "metadata": {},
     "output_type": "display_data"
    },
    {
     "data": {
      "text/plain": [
       "TrainOutput(global_step=275, training_loss=0.526694845719771, metrics={'train_runtime': 185.2788, 'train_samples_per_second': 94.992, 'train_steps_per_second': 1.484, 'total_flos': 2379386093568000.0, 'train_loss': 0.526694845719771, 'epoch': 11.0})"
      ]
     },
     "execution_count": 14,
     "metadata": {},
     "output_type": "execute_result"
    }
   ],
   "execution_count": 14
  },
  {
   "metadata": {},
   "cell_type": "markdown",
   "source": "#### Final fine-tuned model evaluation metrics",
   "id": "316e5a584b9b71a5"
  },
  {
   "metadata": {
    "ExecuteTime": {
     "end_time": "2025-01-26T10:13:26.502914Z",
     "start_time": "2025-01-26T10:13:24.831192Z"
    }
   },
   "cell_type": "code",
   "source": "trainer.evaluate()",
   "id": "39e8497ae9c42335",
   "outputs": [
    {
     "data": {
      "text/plain": [
       "<IPython.core.display.HTML object>"
      ],
      "text/html": []
     },
     "metadata": {},
     "output_type": "display_data"
    },
    {
     "data": {
      "text/plain": [
       "{'eval_loss': 0.3292844891548157,\n",
       " 'eval_accuracy': 0.94,\n",
       " 'eval_precision': 0.9074074074074074,\n",
       " 'eval_recall': 0.98,\n",
       " 'eval_f1': 0.9423076923076923,\n",
       " 'eval_runtime': 1.6616,\n",
       " 'eval_samples_per_second': 240.731,\n",
       " 'eval_steps_per_second': 15.046,\n",
       " 'epoch': 11.0}"
      ]
     },
     "execution_count": 15,
     "metadata": {},
     "output_type": "execute_result"
    }
   ],
   "execution_count": 15
  },
  {
   "metadata": {},
   "cell_type": "markdown",
   "source": "#### Saving the model for later use",
   "id": "2c266b74491ac154"
  },
  {
   "metadata": {
    "ExecuteTime": {
     "end_time": "2025-01-26T10:13:26.924279Z",
     "start_time": "2025-01-26T10:13:26.540531Z"
    }
   },
   "cell_type": "code",
   "source": "peft_model.save_pretrained(\"./vtsoumpris/fnc-distilbert-lora\")",
   "id": "d2900e98d50d4751",
   "outputs": [],
   "execution_count": 16
  },
  {
   "metadata": {},
   "cell_type": "markdown",
   "source": "#### Printing some of the predictions and the real labels",
   "id": "3101e08f0c8bfd6d"
  },
  {
   "metadata": {
    "ExecuteTime": {
     "end_time": "2025-01-26T10:13:27.004897Z",
     "start_time": "2025-01-26T10:13:26.932297Z"
    }
   },
   "cell_type": "code",
   "source": [
    "# Make a dataframe with the predictions and the text and the labels\n",
    "items_for_manual_review = tokenized_dataset[\"test\"].select(\n",
    "    [0, 1, 22, 31, 43, 199, 150, 40]\n",
    ")\n",
    "\n",
    "results = trainer.predict(items_for_manual_review)\n",
    "df = pd.DataFrame(\n",
    "    {\n",
    "        \"complaint\": [item[\"complaint\"] for item in items_for_manual_review],\n",
    "        \"predictions\": results.predictions.argmax(axis=1),\n",
    "        \"labels\": results.label_ids,\n",
    "    }\n",
    ")\n",
    "# Show all the cell\n",
    "pd.set_option(\"display.max_colwidth\", None)\n",
    "df"
   ],
   "id": "909478a8b3b51301",
   "outputs": [
    {
     "data": {
      "text/plain": [
       "                                                                                                                                                                                                                                                                                                                                                                                                                                                                                                                                                                                                                                                                                                                                                                                                                                                                                                                                                                                                                                                                                                                                                                                                                                                                                                                                                                                                                                                                                                                                                                                                                                                                                                                                                                                                                                                                                                                                                                                                                                                                                                                                                                                                                                                                                                                                                                                                                                                                                                                                                                                                                                                                                                                                                                                                                                                                                                                                                                                                                                                                                                                                                                                                                                                                                                                                                                                                                                                                                                                                                                                                                                                                                                                                                                                                                                                                                                                                       complaint  \\\n",
       "0                                                                                                                                                                                                                                                                                                                                                                                                                                                                                                                                                                                                                                                                                                                                                                                                                                                                                                                                                                                                                                                                                                                                                                                                                                                                                                                                                                                                                                                                                                                                                                                                                                                                                                                                                                                                                                                                                                                                                                                                                                                                                                                                                                                                                                                                                                                                                                                                                                                                                                                                                                                                                                                                                                                                                                                                                                                                                                                                                                                                                                                                                                                                                                                                                                                                                                                                          I was offered a secured line of credit with Bank of America. I was asked to pay a deposit of {$200.00}, was told that after a few months, usually 6 months of good payment history, I would get an increase on my credit limit, and that after 12 months, I would get my deposit back. Neither of these promises took place, instead, Bank of America closed my credit line without any previous notice and has never returned my {$200.00} deposit and my payment history is/was excellent. The line of credit has been closed for a few months now and I have yet to received my {$200.00} deposit.   \n",
       "1  Bank of America started servicing my Mortgage in XXXX. I had a conventional loan. I received a permanent home modification in XXXX. My loan has always been in good standing and was never deliquent. I modified the loan to get a lower interest rate. Apparently Bank of America made some mistakes during this process of the modification and I had to do the Modification over again. In XXXX Bank of Americaa sold my loan to a Dept Collection Agency named XXXX. This company has unscrupolus business practices that has caused emotional and financial harm to me. In XXXX, XXXX, I began to make my contractual mortgage payments to XXXX as my new servicer in the amount of {$620.00}. XXXX immediately claimed I missed a payment to Bank of Americia on XXXX XXXX and begin to harrass me on my cell phone demanding that I pay them. I told them I had never missed a payment with Bank of America and why would they concern themselfs with my Morgage with Bank of America 2 year prior to them taking over my loan? XXXX claimed they paid Bank of America the missing funds on XXXX XXXX, XXXX and begin to charge me late fees and evenutlly cause my loan to go into Foreclosure. XXXX also increased my Mortgage amount from {$620.00} to {$790.00} stating I had a shortage in Escorws without properly notifying me of the large increase. When I paid the amount I was contracted to pay, XXXX put my mortgage payment in a suspense account stating they do not take partial payments. XXXX begain to add late fees, unauthorized inspection fees and demanded full payment and threatend to start legal procedures of foreclosure. I contacted XXXX representatives in XXXX week trying to resolve this proplem. XXXX did XXXX escrow analysis from XXXX XXXX to XXXX, XXXX and each time my escow shortage changed with each representative. I contacted Bank of America and aske them if they have any knowledge of a missed payment and they said no. I asked Bank of America to fax over my payment history which they did and there was no record of a missed payment. XXXX continued to harrass me as a collection agency does. I was confused about how my mortgage having been serviced by a professional and reputable company such as Bank of America could go from excellent payment history to Foreclosure in a matter of 4 months. I was so distraught I reached out to my brother for support that perhaps I was somehow making a mistake. He looked at my banking records from XXXX XXXX Bank and Bank of America 's record and he too found no missing payments and he wrote the CEO of the Company and filed a complaint that XXXX was falsesifying records to delibertly cause my loan to be in default, however, XXXX 's investigation found no errors and reported my loan deliquent to the credit bureau and I was disqulified from receiving my {$5000.00} inscentive payment for keeping my loan in good standing. After much grief dealing with a Criminal company, I reached out to the XXXX office to file a complaint against XXXX and discovered XXXX is not a bank at all they are a fly by night collection company. Bank of America has no documentation of XXXX ever sending them funds on XXXX XXXX and there is no missing payment. XXXX is running scams on their customers and there is plenty documentatiion as such. My loan should have never went to a collection agency and XXXX uses off shore agents to handle mortgages and unauthorized escrow agents who are not trained and who has made many mistakes on my account. In XXXX, XXXX blessed me to receive the hardest hit fund in the amount of {$20000.00} to be applied to the principal balance but Nationstar didnt apply the funds until XXXX, XXXX. I had made several extra payments to my principal balance but XXXX refused to apply these funds as I alocated .Why was my loan turned over to collection   \n",
       "2                                                                                                                                                                                                                                                                                                                                                                                                                                                                                                                                                                                                                                                                                                                                                                                                                                                                                                                                                                                                                                                                                                                                                                                                                                                                                                                                                                                                                                                                                                                                                                                                                                                                                                                                                                                                                                                                                                                                                                                                                                                                                                                                                                                                                                                                                                                                                                                                                                                                                                                                                                                                                                                                                                                                                                                                                                                                                                                                                                                  I was told I could not get modification ok.so I was read on XXXX XXXX XXXX web hardest hit funds programs and XXXX XXXX XXXX home equity assistance or and repayment plans of up to 12 months to help catch up on a past due payments and I was not told about this forbearance I can do that all so I did not no they had all these programs I only no about the modification program I found this on XXXX XXXX XXXX web I do n't need my payment to be reduce i can pay that and all so and extra {$500.00} a month to caught up I 'm out of work because I was XXXX by a lady and she was very XXXX and that why I 'm out of work these last four year I ben having not such good luck first I had XXXX XXXX and I beat that thank to XXXX and now XXXX XXXX XXXX XXXX and both of my XXXX XXXX XXXX XXXX XXXX XXXX XXXX and I have XXXX XXXX XXXX XXXX I did not ask for this. all I 'm ask for to be able to pay a full note and {$500.00} extra thank u   \n",
       "3                                                                                                                                                                                                                                                                                                                                                                                                                                                                                                                                                                                                                                                                                                                                                                                                                                                                                                                                                                                                                                                                                                                                                                                                                                                                                                                                                                                                                                                                                                                                                                                                                                                                                                                                                                                                                                                                                                                                                                                                                                                                                                                                                                                                                                                                                                                                                                                                                                                                                                                                                                                                                                                                                                                                                                                                                                                                                                                                                                                                                                                                                                                                                                                                                                                                                                                                                                                                                                                                        Date : XX/XX/2021 Amount : {$4500.00} I tried calling the issuer of the XXXX  Unemployment Card ( Bank of America XXXX about why they get my unemployment card closed which they have no positive responds. I tried sending out my unemployment money in the unemployment card to an authorized third party and the Bank of America got my card closed. After several callings and provision of all required information they still can not uplift the lock on my card.   \n",
       "4                                                                                                                                                                                                                                                                                                                                                                                                                                                                                                                                                                                                                                                                                                                                                                                                                                                                                                                                                                                                                                                                                                                                                                                                                                                                                                                                                                                                                                                                                                                                                                                                                                                                                                                                                                                                                                                                                                                                                                                                                                                                                                                                                                                                                                                                                                                                                                                                                                                                                                                                                                                                                                                                                                                                                                                 I have started refinance process with Bank of America in XX/XX/2017 whereas the sales agent promised me best rates and smooth process. As part of the process, they told me that they will carry out appraisal of my house and I need to pay upfront for it. I was not shared the amount that I need to pay for appraisal and was told that I will be refunded at the end when appraisal closes. I agreed to it as I didn't expect any issues in my loan process. During appraisal, an incorrect report came out which talks about an issue that I don't have in my home. I tried to explain to bank and appraisal company but they are not ready to correct the report resulting in my mortgage process going on hold. Bank has charged me for my appraisal fees but they didn't worked with appraisal company to correct the report even after I provided the reason for incorrectness of the report. My home ( in exactly same condition ) has gone through 3-4 appraisals before this appraisal but never such issue happened. I can provide more specifics when asked. \\n\\nI have also reached out to XXXX, CA to help me with issue in appraisal report.   \n",
       "5                                                                                                                                                                                                                                                                                                                                                                                                                                                                                                                                                                                                                                                                                                                                                                                                                                                                                                                                                                                                                                                                                                                                                                                                                                                                                                                                                                                                                                                                                                                                                                                                                                                                                                                                                                                                                                                                                                                                                                                                                                                                                                                                                                                                                                                                                                                                                                                                                  I have been working with XXXX for the past two years to get a home loan with Bank of America. My closing was schedule for XX/XX/XXXX. On XX/XX/XXXX my file to updated and showed, \" XXXX pending compliance and verbal verification of employment. '' Two days later, underwriting was suspended and additional conditions was placed on my file. All additional information was provided and closing was then extended to XX/XX/XXXX. My XXXX counselor and closing attorney has tried with no success since XX/XX/XXXX to contact someone in the underwriting department of BOA and no one is responding. I have already wired my closing funds to the attorney. Due to the explainable delay, I was forced to give up my apartment and place my belongings in storage.My son and I am now living in car just to achieve the American Dream. I have XXXX and my health is being seriously impacted by this as well. Moving my stuff to the storage unit cost me {$820.00}, which means I will be charged another {$820.00} to move my stuff from there. I was told by another agent that works with XXXX that she has clients that were cleared to closed since XX/XX/2019 and Bank of America still has no sent the paperwork to the closing attorney. \\nI would really hope that Bank of America is not intentionally stall the XXXX loans. I just want to close on this house and get on with my life. I am afraid that the seller might terminate the contact and walk away with my earnest money. PLEASE HELP ME!!!!!   \n",
       "6                                                                                                                                                                                                                                                                                                                                                                                                                                                                                                                                                                                                                                                                                                                                                                                                                                                                                                                                                                                                                                                                                                                                                                                                                                                                                                                                                                                                                                                                                                                                                                                                                                                                                                                                                                                                                                                                                                                                                                                                                                                                                                                                                                                                                                                                                                                                                                                                                                                                                                                                                                                                                                                                                                                                                                                                                                                                                                                                                                                                                                                                                                                                                                                                                                                                                                                                                                                                       This is a \" qualified written request '' under Sec tion 6 of  the Real Estate Settlement Procedures Act ( RESPA ).     I am writing you today as I disagree with the past due payments you are reporting on my credit reports. They do not line up with my records and I believe that my payments  may have  been misapplied. The particular lates referred to are : Late Payments Being Reported : 60 days past due as of  XXXX   XXXX  30 days past due as of  XXXX   XXXX ,  XXXX   XXXX ,  XXXX   XXXX ,  XXXX   XXXX ,  XXXX   XXXX   \n",
       "7                                                                                                                                                                                                                                                                                                                                                                                                                                                                                                                                                                                                                                                                                                                                                                                                                                                                                                                                                                                                                                                                                                                                                                                                                                                                                                                                                                                                                                                                                                                                                                                                                                                                                                                                                                                                                                                                                                                                                                                                                                                                                                                                                                                                                                                                                                                                                                                                                                                                                                                                                                                                                                                                                                                                                                                                                                                                                                                                                                                                                                                                                                                                                                                                                                                                                                              I am working with Bank of America on a home loan. The closing is scheduled for today ie XXXX XXXX, 2015. But even after repeated requests I was not provided the closing disclosure documents. They just sent it to me and its not what we had discussed initially. They pushed out my closing several times stating they had not received some documents from the closing attorney etc. I dont understand how they can be so lax in their approach. Why cant they track progress and raise a red flag if something is not happening on time..This has caused tremendous discomfort and heartache to my family and me. Pls help..   \n",
       "\n",
       "   predictions  labels  \n",
       "0            1       1  \n",
       "1            0       0  \n",
       "2            0       0  \n",
       "3            1       1  \n",
       "4            0       0  \n",
       "5            0       0  \n",
       "6            0       0  \n",
       "7            0       0  "
      ],
      "text/html": [
       "<div>\n",
       "<style scoped>\n",
       "    .dataframe tbody tr th:only-of-type {\n",
       "        vertical-align: middle;\n",
       "    }\n",
       "\n",
       "    .dataframe tbody tr th {\n",
       "        vertical-align: top;\n",
       "    }\n",
       "\n",
       "    .dataframe thead th {\n",
       "        text-align: right;\n",
       "    }\n",
       "</style>\n",
       "<table border=\"1\" class=\"dataframe\">\n",
       "  <thead>\n",
       "    <tr style=\"text-align: right;\">\n",
       "      <th></th>\n",
       "      <th>complaint</th>\n",
       "      <th>predictions</th>\n",
       "      <th>labels</th>\n",
       "    </tr>\n",
       "  </thead>\n",
       "  <tbody>\n",
       "    <tr>\n",
       "      <th>0</th>\n",
       "      <td>I was offered a secured line of credit with Bank of America. I was asked to pay a deposit of {$200.00}, was told that after a few months, usually 6 months of good payment history, I would get an increase on my credit limit, and that after 12 months, I would get my deposit back. Neither of these promises took place, instead, Bank of America closed my credit line without any previous notice and has never returned my {$200.00} deposit and my payment history is/was excellent. The line of credit has been closed for a few months now and I have yet to received my {$200.00} deposit.</td>\n",
       "      <td>1</td>\n",
       "      <td>1</td>\n",
       "    </tr>\n",
       "    <tr>\n",
       "      <th>1</th>\n",
       "      <td>Bank of America started servicing my Mortgage in XXXX. I had a conventional loan. I received a permanent home modification in XXXX. My loan has always been in good standing and was never deliquent. I modified the loan to get a lower interest rate. Apparently Bank of America made some mistakes during this process of the modification and I had to do the Modification over again. In XXXX Bank of Americaa sold my loan to a Dept Collection Agency named XXXX. This company has unscrupolus business practices that has caused emotional and financial harm to me. In XXXX, XXXX, I began to make my contractual mortgage payments to XXXX as my new servicer in the amount of {$620.00}. XXXX immediately claimed I missed a payment to Bank of Americia on XXXX XXXX and begin to harrass me on my cell phone demanding that I pay them. I told them I had never missed a payment with Bank of America and why would they concern themselfs with my Morgage with Bank of America 2 year prior to them taking over my loan? XXXX claimed they paid Bank of America the missing funds on XXXX XXXX, XXXX and begin to charge me late fees and evenutlly cause my loan to go into Foreclosure. XXXX also increased my Mortgage amount from {$620.00} to {$790.00} stating I had a shortage in Escorws without properly notifying me of the large increase. When I paid the amount I was contracted to pay, XXXX put my mortgage payment in a suspense account stating they do not take partial payments. XXXX begain to add late fees, unauthorized inspection fees and demanded full payment and threatend to start legal procedures of foreclosure. I contacted XXXX representatives in XXXX week trying to resolve this proplem. XXXX did XXXX escrow analysis from XXXX XXXX to XXXX, XXXX and each time my escow shortage changed with each representative. I contacted Bank of America and aske them if they have any knowledge of a missed payment and they said no. I asked Bank of America to fax over my payment history which they did and there was no record of a missed payment. XXXX continued to harrass me as a collection agency does. I was confused about how my mortgage having been serviced by a professional and reputable company such as Bank of America could go from excellent payment history to Foreclosure in a matter of 4 months. I was so distraught I reached out to my brother for support that perhaps I was somehow making a mistake. He looked at my banking records from XXXX XXXX Bank and Bank of America 's record and he too found no missing payments and he wrote the CEO of the Company and filed a complaint that XXXX was falsesifying records to delibertly cause my loan to be in default, however, XXXX 's investigation found no errors and reported my loan deliquent to the credit bureau and I was disqulified from receiving my {$5000.00} inscentive payment for keeping my loan in good standing. After much grief dealing with a Criminal company, I reached out to the XXXX office to file a complaint against XXXX and discovered XXXX is not a bank at all they are a fly by night collection company. Bank of America has no documentation of XXXX ever sending them funds on XXXX XXXX and there is no missing payment. XXXX is running scams on their customers and there is plenty documentatiion as such. My loan should have never went to a collection agency and XXXX uses off shore agents to handle mortgages and unauthorized escrow agents who are not trained and who has made many mistakes on my account. In XXXX, XXXX blessed me to receive the hardest hit fund in the amount of {$20000.00} to be applied to the principal balance but Nationstar didnt apply the funds until XXXX, XXXX. I had made several extra payments to my principal balance but XXXX refused to apply these funds as I alocated .Why was my loan turned over to collection</td>\n",
       "      <td>0</td>\n",
       "      <td>0</td>\n",
       "    </tr>\n",
       "    <tr>\n",
       "      <th>2</th>\n",
       "      <td>I was told I could not get modification ok.so I was read on XXXX XXXX XXXX web hardest hit funds programs and XXXX XXXX XXXX home equity assistance or and repayment plans of up to 12 months to help catch up on a past due payments and I was not told about this forbearance I can do that all so I did not no they had all these programs I only no about the modification program I found this on XXXX XXXX XXXX web I do n't need my payment to be reduce i can pay that and all so and extra {$500.00} a month to caught up I 'm out of work because I was XXXX by a lady and she was very XXXX and that why I 'm out of work these last four year I ben having not such good luck first I had XXXX XXXX and I beat that thank to XXXX and now XXXX XXXX XXXX XXXX and both of my XXXX XXXX XXXX XXXX XXXX XXXX XXXX and I have XXXX XXXX XXXX XXXX I did not ask for this. all I 'm ask for to be able to pay a full note and {$500.00} extra thank u</td>\n",
       "      <td>0</td>\n",
       "      <td>0</td>\n",
       "    </tr>\n",
       "    <tr>\n",
       "      <th>3</th>\n",
       "      <td>Date : XX/XX/2021 Amount : {$4500.00} I tried calling the issuer of the XXXX  Unemployment Card ( Bank of America XXXX about why they get my unemployment card closed which they have no positive responds. I tried sending out my unemployment money in the unemployment card to an authorized third party and the Bank of America got my card closed. After several callings and provision of all required information they still can not uplift the lock on my card.</td>\n",
       "      <td>1</td>\n",
       "      <td>1</td>\n",
       "    </tr>\n",
       "    <tr>\n",
       "      <th>4</th>\n",
       "      <td>I have started refinance process with Bank of America in XX/XX/2017 whereas the sales agent promised me best rates and smooth process. As part of the process, they told me that they will carry out appraisal of my house and I need to pay upfront for it. I was not shared the amount that I need to pay for appraisal and was told that I will be refunded at the end when appraisal closes. I agreed to it as I didn't expect any issues in my loan process. During appraisal, an incorrect report came out which talks about an issue that I don't have in my home. I tried to explain to bank and appraisal company but they are not ready to correct the report resulting in my mortgage process going on hold. Bank has charged me for my appraisal fees but they didn't worked with appraisal company to correct the report even after I provided the reason for incorrectness of the report. My home ( in exactly same condition ) has gone through 3-4 appraisals before this appraisal but never such issue happened. I can provide more specifics when asked. \\n\\nI have also reached out to XXXX, CA to help me with issue in appraisal report.</td>\n",
       "      <td>0</td>\n",
       "      <td>0</td>\n",
       "    </tr>\n",
       "    <tr>\n",
       "      <th>5</th>\n",
       "      <td>I have been working with XXXX for the past two years to get a home loan with Bank of America. My closing was schedule for XX/XX/XXXX. On XX/XX/XXXX my file to updated and showed, \" XXXX pending compliance and verbal verification of employment. '' Two days later, underwriting was suspended and additional conditions was placed on my file. All additional information was provided and closing was then extended to XX/XX/XXXX. My XXXX counselor and closing attorney has tried with no success since XX/XX/XXXX to contact someone in the underwriting department of BOA and no one is responding. I have already wired my closing funds to the attorney. Due to the explainable delay, I was forced to give up my apartment and place my belongings in storage.My son and I am now living in car just to achieve the American Dream. I have XXXX and my health is being seriously impacted by this as well. Moving my stuff to the storage unit cost me {$820.00}, which means I will be charged another {$820.00} to move my stuff from there. I was told by another agent that works with XXXX that she has clients that were cleared to closed since XX/XX/2019 and Bank of America still has no sent the paperwork to the closing attorney. \\nI would really hope that Bank of America is not intentionally stall the XXXX loans. I just want to close on this house and get on with my life. I am afraid that the seller might terminate the contact and walk away with my earnest money. PLEASE HELP ME!!!!!</td>\n",
       "      <td>0</td>\n",
       "      <td>0</td>\n",
       "    </tr>\n",
       "    <tr>\n",
       "      <th>6</th>\n",
       "      <td>This is a \" qualified written request '' under Sec tion 6 of  the Real Estate Settlement Procedures Act ( RESPA ).     I am writing you today as I disagree with the past due payments you are reporting on my credit reports. They do not line up with my records and I believe that my payments  may have  been misapplied. The particular lates referred to are : Late Payments Being Reported : 60 days past due as of  XXXX   XXXX  30 days past due as of  XXXX   XXXX ,  XXXX   XXXX ,  XXXX   XXXX ,  XXXX   XXXX ,  XXXX   XXXX</td>\n",
       "      <td>0</td>\n",
       "      <td>0</td>\n",
       "    </tr>\n",
       "    <tr>\n",
       "      <th>7</th>\n",
       "      <td>I am working with Bank of America on a home loan. The closing is scheduled for today ie XXXX XXXX, 2015. But even after repeated requests I was not provided the closing disclosure documents. They just sent it to me and its not what we had discussed initially. They pushed out my closing several times stating they had not received some documents from the closing attorney etc. I dont understand how they can be so lax in their approach. Why cant they track progress and raise a red flag if something is not happening on time..This has caused tremendous discomfort and heartache to my family and me. Pls help..</td>\n",
       "      <td>0</td>\n",
       "      <td>0</td>\n",
       "    </tr>\n",
       "  </tbody>\n",
       "</table>\n",
       "</div>"
      ]
     },
     "execution_count": 17,
     "metadata": {},
     "output_type": "execute_result"
    }
   ],
   "execution_count": 17
  },
  {
   "metadata": {},
   "cell_type": "markdown",
   "source": "#### Creating the confusion matrix of the fine-tuned model",
   "id": "7640b083b18837fa"
  },
  {
   "metadata": {
    "ExecuteTime": {
     "end_time": "2025-01-26T10:13:28.885035Z",
     "start_time": "2025-01-26T10:13:27.070695Z"
    }
   },
   "cell_type": "code",
   "source": [
    "create_confusion_matrix(data = tokenized_dataset[\"test\"],\n",
    "                        cl_classes= product_classes,\n",
    "                        trainer_ = trainer,\n",
    "                        title_text = 'Confusion Matrix (distilBert Lora) - Validation Set')"
   ],
   "id": "a3d5665409a82154",
   "outputs": [
    {
     "data": {
      "text/plain": [
       "<IPython.core.display.HTML object>"
      ],
      "text/html": []
     },
     "metadata": {},
     "output_type": "display_data"
    },
    {
     "data": {
      "text/plain": [
       "<Figure size 640x480 with 2 Axes>"
      ],
      "image/png": "[encoded data removed]"
     },
     "metadata": {},
     "output_type": "display_data"
    }
   ],
   "execution_count": 18
  },
  {
   "metadata": {
    "ExecuteTime": {
     "end_time": "2025-01-26T10:13:28.935756Z",
     "start_time": "2025-01-26T10:13:28.928844Z"
    }
   },
   "cell_type": "code",
   "source": "print(torch.cuda.memory_summary(device = None, abbreviated = False))",
   "id": "5a1eb7a39b72292f",
   "outputs": [
    {
     "name": "stdout",
     "output_type": "stream",
     "text": [
      "|===========================================================================|\n",
      "|                  PyTorch CUDA memory summary, device ID 0                 |\n",
      "|---------------------------------------------------------------------------|\n",
      "|            CUDA OOMs: 0            |        cudaMalloc retries: 0         |\n",
      "|===========================================================================|\n",
      "|        Metric         | Cur Usage  | Peak Usage | Tot Alloc  | Tot Freed  |\n",
      "|---------------------------------------------------------------------------|\n",
      "| Allocated memory      | 289690 KiB |   2676 MiB |  12328 GiB |  12328 GiB |\n",
      "|       from large pool | 285952 KiB |   2662 MiB |  12248 GiB |  12248 GiB |\n",
      "|       from small pool |   3738 KiB |     15 MiB |     80 GiB |     80 GiB |\n",
      "|---------------------------------------------------------------------------|\n",
      "| Active memory         | 289690 KiB |   2676 MiB |  12328 GiB |  12328 GiB |\n",
      "|       from large pool | 285952 KiB |   2662 MiB |  12248 GiB |  12248 GiB |\n",
      "|       from small pool |   3738 KiB |     15 MiB |     80 GiB |     80 GiB |\n",
      "|---------------------------------------------------------------------------|\n",
      "| Requested memory      | 288582 KiB |   2674 MiB |  12328 GiB |  12327 GiB |\n",
      "|       from large pool | 284846 KiB |   2660 MiB |  12247 GiB |  12247 GiB |\n",
      "|       from small pool |   3736 KiB |     15 MiB |     80 GiB |     80 GiB |\n",
      "|---------------------------------------------------------------------------|\n",
      "| GPU reserved memory   |   2770 MiB |   2770 MiB |   3130 MiB | 368640 KiB |\n",
      "|       from large pool |   2754 MiB |   2754 MiB |   3114 MiB | 368640 KiB |\n",
      "|       from small pool |     16 MiB |     16 MiB |     16 MiB |      0 KiB |\n",
      "|---------------------------------------------------------------------------|\n",
      "| Non-releasable memory | 111718 KiB | 235499 KiB |   3210 GiB |   3210 GiB |\n",
      "|       from large pool | 109312 KiB | 234496 KiB |   3119 GiB |   3119 GiB |\n",
      "|       from small pool |   2406 KiB |   9196 KiB |     90 GiB |     90 GiB |\n",
      "|---------------------------------------------------------------------------|\n",
      "| Allocations           |     263    |     489    |     759 K  |     759 K  |\n",
      "|       from large pool |      44    |     144    |     460 K  |     460 K  |\n",
      "|       from small pool |     219    |     349    |     298 K  |     298 K  |\n",
      "|---------------------------------------------------------------------------|\n",
      "| Active allocs         |     263    |     489    |     759 K  |     759 K  |\n",
      "|       from large pool |      44    |     144    |     460 K  |     460 K  |\n",
      "|       from small pool |     219    |     349    |     298 K  |     298 K  |\n",
      "|---------------------------------------------------------------------------|\n",
      "| GPU reserved segments |      83    |      83    |      92    |       9    |\n",
      "|       from large pool |      75    |      75    |      84    |       9    |\n",
      "|       from small pool |       8    |       8    |       8    |       0    |\n",
      "|---------------------------------------------------------------------------|\n",
      "| Non-releasable allocs |      21    |      43    |  211215    |  211194    |\n",
      "|       from large pool |      11    |      19    |   89895    |   89884    |\n",
      "|       from small pool |      10    |      31    |  121320    |  121310    |\n",
      "|---------------------------------------------------------------------------|\n",
      "| Oversize allocations  |       0    |       0    |       0    |       0    |\n",
      "|---------------------------------------------------------------------------|\n",
      "| Oversize GPU segments |       0    |       0    |       0    |       0    |\n",
      "|===========================================================================|\n",
      "\n"
     ]
    }
   ],
   "execution_count": 19
  },
  {
   "metadata": {
    "ExecuteTime": {
     "end_time": "2025-01-26T10:13:28.976754Z",
     "start_time": "2025-01-26T10:13:28.973804Z"
    }
   },
   "cell_type": "code",
   "source": "",
   "id": "5bf3dd5cafb6755e",
   "outputs": [],
   "execution_count": null
  }
 ],
 "metadata": {
  "kernelspec": {
   "display_name": "Python 3",
   "language": "python",
   "name": "python3"
  },
  "language_info": {
   "codemirror_mode": {
    "name": "ipython",
    "version": 2
   },
   "file_extension": ".py",
   "mimetype": "text/x-python",
   "name": "python",
   "nbconvert_exporter": "python",
   "pygments_lexer": "ipython2",
   "version": "2.7.6"
  }
 },
 "nbformat": 4,
 "nbformat_minor": 5
}
