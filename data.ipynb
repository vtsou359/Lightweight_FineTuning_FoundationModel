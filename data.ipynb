{
 "cells": [
  {
   "metadata": {
    "ExecuteTime": {
     "end_time": "2025-01-18T22:53:53.458214Z",
     "start_time": "2025-01-18T22:53:53.454814Z"
    }
   },
   "cell_type": "code",
   "source": [
    "from datasets import load_dataset, ClassLabel\n",
    "import pandas as pd\n",
    "from pathlib import Path"
   ],
   "id": "ba6d8a5bebba34c",
   "outputs": [],
   "execution_count": 36
  },
  {
   "cell_type": "code",
   "id": "initial_id",
   "metadata": {
    "collapsed": true,
    "ExecuteTime": {
     "end_time": "2025-01-18T22:45:10.403356Z",
     "start_time": "2025-01-18T22:45:07.862838Z"
    }
   },
   "source": [
    "# Load the dataset from hugging face\n",
    "# See: https://huggingface.co/datasets/BEE-spoke-data/consumer-finance-complaints\n",
    "\n",
    "# The consumer-finance-complaints dataset only has a train split,\n",
    "# so we use the train_test_split method to split it into train and test\n",
    "dataset = load_dataset(\"BEE-spoke-data/consumer-finance-complaints\",\n",
    "                       split=\"train\") #.train_test_split(test_size= 0.2,shuffle= True, seed= 23)\n",
    "#splits = [\"train\", \"test\"]"
   ],
   "outputs": [],
   "execution_count": 24
  },
  {
   "metadata": {
    "ExecuteTime": {
     "end_time": "2025-01-18T22:47:44.701505Z",
     "start_time": "2025-01-18T22:45:32.933064Z"
    }
   },
   "cell_type": "code",
   "source": [
    "# Filter rows based on multiple column values\n",
    "filtered_dataset = dataset.filter(\n",
    "    lambda row: row[\"Company\"] == \"CITIBANK, N.A.\"\n",
    "    and row[\"Product\"] in [\"Credit card\", \"Mortgage\"]\n",
    "    and row[\"Consumer complaint narrative\"] is not None\n",
    ")"
   ],
   "id": "d3aa71bb2c1298c2",
   "outputs": [
    {
     "name": "stderr",
     "output_type": "stream",
     "text": [
      "Filter: 100%|██████████| 4707579/4707579 [02:11<00:00, 35729.26 examples/s]\n"
     ]
    }
   ],
   "execution_count": 26
  },
  {
   "metadata": {
    "ExecuteTime": {
     "end_time": "2025-01-18T22:47:44.768970Z",
     "start_time": "2025-01-18T22:47:44.726273Z"
    }
   },
   "cell_type": "code",
   "source": [
    "filtered_columns_dataset = filtered_dataset.remove_columns(\n",
    "    [col for col in filtered_dataset.column_names\n",
    "     if col not in [\"Consumer complaint narrative\", \"Product\"]]\n",
    ")\n",
    "# Limit to 1000 rows\n",
    "#filtered_dataset_1000 = filtered_columns_dataset.select(range(min(len(filtered_columns_dataset), 1000)))\n",
    "filtered_columns_dataset"
   ],
   "id": "a23cb6348cb1389",
   "outputs": [
    {
     "data": {
      "text/plain": [
       "Dataset({\n",
       "    features: ['Product', 'Consumer complaint narrative'],\n",
       "    num_rows: 6640\n",
       "})"
      ]
     },
     "execution_count": 27,
     "metadata": {},
     "output_type": "execute_result"
    }
   ],
   "execution_count": 27
  },
  {
   "metadata": {
    "ExecuteTime": {
     "end_time": "2025-01-18T22:47:45.110328Z",
     "start_time": "2025-01-18T22:47:44.829447Z"
    }
   },
   "cell_type": "code",
   "source": [
    "# Convert the dataset to a pandas DataFrame\n",
    "df = filtered_columns_dataset.to_pandas()\n",
    "\n",
    "# Define the data folder and CSV file path\n",
    "data_folder = Path(\"data\")\n",
    "\n",
    "# Use pathlib to define a file path\n",
    "output_path = data_folder / \"filtered_dataset.csv\"\n",
    "\n",
    "# Export the DataFrame to CSV\n",
    "df.to_csv(output_path, index=False)\n",
    "\n",
    "print(f\"Filtered dataset successfully saved to {output_path}\")"
   ],
   "id": "28fc4ab815a1309d",
   "outputs": [
    {
     "name": "stdout",
     "output_type": "stream",
     "text": [
      "Filtered dataset successfully saved to data/filtered_dataset.csv\n"
     ]
    }
   ],
   "execution_count": 28
  },
  {
   "metadata": {
    "ExecuteTime": {
     "end_time": "2025-01-18T22:47:45.314670Z",
     "start_time": "2025-01-18T22:47:45.182277Z"
    }
   },
   "cell_type": "code",
   "source": [
    "# Checking dataset:\n",
    "# Define the file path\n",
    "file_path = Path(\"data/filtered_dataset.csv\")\n",
    "\n",
    "# Load the CSV file into a pandas DataFrame\n",
    "loaded_data = pd.read_csv(file_path)\n",
    "\n",
    "# Display the first few rows of the DataFrame\n",
    "df = loaded_data[[\"Consumer complaint narrative\",\n",
    "             \"Product\"]]\n",
    "df"
   ],
   "id": "a129f149167e4b7",
   "outputs": [
    {
     "data": {
      "text/plain": [
       "                           Consumer complaint narrative      Product\n",
       "0     We applied for the Citi Advantage card for a p...  Credit card\n",
       "1     On XX/XX/XXXX, I made an online payment to Cos...  Credit card\n",
       "2     I am appointed by Probate Court as administrat...  Credit card\n",
       "3     In early XXXX, maybe around the XXXX or XXXX, ...  Credit card\n",
       "4     On or around XX/XX/XXXX, I reached out to Citi...  Credit card\n",
       "...                                                 ...          ...\n",
       "6635  I have worked on this problem with Citimortgag...     Mortgage\n",
       "6636  I have a Citibank mastercard credit card, whic...  Credit card\n",
       "6637  I purchased an Ipod from BestBuy XX/XX/XXXX an...  Credit card\n",
       "6638  In short, I am stuck in this re-fi application...     Mortgage\n",
       "6639  I signed up for Citi CC offer promoted and rec...  Credit card\n",
       "\n",
       "[6640 rows x 2 columns]"
      ],
      "text/html": [
       "<div>\n",
       "<style scoped>\n",
       "    .dataframe tbody tr th:only-of-type {\n",
       "        vertical-align: middle;\n",
       "    }\n",
       "\n",
       "    .dataframe tbody tr th {\n",
       "        vertical-align: top;\n",
       "    }\n",
       "\n",
       "    .dataframe thead th {\n",
       "        text-align: right;\n",
       "    }\n",
       "</style>\n",
       "<table border=\"1\" class=\"dataframe\">\n",
       "  <thead>\n",
       "    <tr style=\"text-align: right;\">\n",
       "      <th></th>\n",
       "      <th>Consumer complaint narrative</th>\n",
       "      <th>Product</th>\n",
       "    </tr>\n",
       "  </thead>\n",
       "  <tbody>\n",
       "    <tr>\n",
       "      <th>0</th>\n",
       "      <td>We applied for the Citi Advantage card for a p...</td>\n",
       "      <td>Credit card</td>\n",
       "    </tr>\n",
       "    <tr>\n",
       "      <th>1</th>\n",
       "      <td>On XX/XX/XXXX, I made an online payment to Cos...</td>\n",
       "      <td>Credit card</td>\n",
       "    </tr>\n",
       "    <tr>\n",
       "      <th>2</th>\n",
       "      <td>I am appointed by Probate Court as administrat...</td>\n",
       "      <td>Credit card</td>\n",
       "    </tr>\n",
       "    <tr>\n",
       "      <th>3</th>\n",
       "      <td>In early XXXX, maybe around the XXXX or XXXX, ...</td>\n",
       "      <td>Credit card</td>\n",
       "    </tr>\n",
       "    <tr>\n",
       "      <th>4</th>\n",
       "      <td>On or around XX/XX/XXXX, I reached out to Citi...</td>\n",
       "      <td>Credit card</td>\n",
       "    </tr>\n",
       "    <tr>\n",
       "      <th>...</th>\n",
       "      <td>...</td>\n",
       "      <td>...</td>\n",
       "    </tr>\n",
       "    <tr>\n",
       "      <th>6635</th>\n",
       "      <td>I have worked on this problem with Citimortgag...</td>\n",
       "      <td>Mortgage</td>\n",
       "    </tr>\n",
       "    <tr>\n",
       "      <th>6636</th>\n",
       "      <td>I have a Citibank mastercard credit card, whic...</td>\n",
       "      <td>Credit card</td>\n",
       "    </tr>\n",
       "    <tr>\n",
       "      <th>6637</th>\n",
       "      <td>I purchased an Ipod from BestBuy XX/XX/XXXX an...</td>\n",
       "      <td>Credit card</td>\n",
       "    </tr>\n",
       "    <tr>\n",
       "      <th>6638</th>\n",
       "      <td>In short, I am stuck in this re-fi application...</td>\n",
       "      <td>Mortgage</td>\n",
       "    </tr>\n",
       "    <tr>\n",
       "      <th>6639</th>\n",
       "      <td>I signed up for Citi CC offer promoted and rec...</td>\n",
       "      <td>Credit card</td>\n",
       "    </tr>\n",
       "  </tbody>\n",
       "</table>\n",
       "<p>6640 rows × 2 columns</p>\n",
       "</div>"
      ]
     },
     "execution_count": 29,
     "metadata": {},
     "output_type": "execute_result"
    }
   ],
   "execution_count": 29
  },
  {
   "metadata": {
    "ExecuteTime": {
     "end_time": "2025-01-18T22:47:45.523147Z",
     "start_time": "2025-01-18T22:47:45.359561Z"
    }
   },
   "cell_type": "code",
   "source": [
    "import matplotlib.pyplot as plt\n",
    "\n",
    "# Count occurrences of each Product value\n",
    "product_counts = df[\"Product\"].value_counts()\n",
    "\n",
    "# Plot the counts as a bar chart\n",
    "plt.figure(figsize=(10, 6))\n",
    "product_counts.plot(kind=\"bar\", color=\"skyblue\", edgecolor=\"black\")\n",
    "\n",
    "# Add labels and title\n",
    "plt.title(\"Count of Product Values\", fontsize=16)\n",
    "plt.xlabel(\"Product\", fontsize=12)\n",
    "plt.ylabel(\"Count\", fontsize=12)\n",
    "plt.xticks(rotation=45)\n",
    "plt.tight_layout()\n",
    "\n",
    "# Show the plot\n",
    "plt.show()"
   ],
   "id": "ebc9aee12189ba15",
   "outputs": [
    {
     "data": {
      "text/plain": [
       "<Figure size 1000x600 with 1 Axes>"
      ],
      "image/png": "[encoded data removed]"
     },
     "metadata": {},
     "output_type": "display_data"
    }
   ],
   "execution_count": 30
  },
  {
   "metadata": {
    "ExecuteTime": {
     "end_time": "2025-01-18T22:55:35.117915Z",
     "start_time": "2025-01-18T22:55:34.656373Z"
    }
   },
   "cell_type": "code",
   "source": [
    "dataset = load_dataset(\"csv\", data_files=\"data/filtered_dataset.csv\")\n",
    "\n",
    "# Inspect the unique values in the 'Product' column\n",
    "product_classes = dataset[\"train\"].unique(\"Product\")\n",
    "\n",
    "# Convert the 'Product' column to a ClassLabel feature\n",
    "product_label = ClassLabel(names=product_classes)\n",
    "dataset = dataset.cast_column(\"Product\", product_label)\n",
    "\n",
    "# Perform the train-test split with stratification\n",
    "dataset = dataset[\"train\"].train_test_split(test_size= 0.2,\n",
    "                                            shuffle= True,\n",
    "                                            seed= 23,\n",
    "                                            stratify_by_column='Product'\n",
    "                                            )\n",
    "\n",
    "# Verify the train and test splits\n",
    "splits = [\"train\", \"test\"]"
   ],
   "id": "10418227a0c5ecf9",
   "outputs": [],
   "execution_count": 41
  },
  {
   "metadata": {
    "ExecuteTime": {
     "end_time": "2025-01-18T22:55:29.436090Z",
     "start_time": "2025-01-18T22:55:29.431220Z"
    }
   },
   "cell_type": "code",
   "source": "dataset",
   "id": "e2337669a26762ae",
   "outputs": [
    {
     "data": {
      "text/plain": [
       "DatasetDict({\n",
       "    train: Dataset({\n",
       "        features: ['Product', 'Consumer complaint narrative'],\n",
       "        num_rows: 5312\n",
       "    })\n",
       "    test: Dataset({\n",
       "        features: ['Product', 'Consumer complaint narrative'],\n",
       "        num_rows: 1328\n",
       "    })\n",
       "})"
      ]
     },
     "execution_count": 40,
     "metadata": {},
     "output_type": "execute_result"
    }
   ],
   "execution_count": 40
  },
  {
   "metadata": {},
   "cell_type": "code",
   "outputs": [],
   "execution_count": null,
   "source": "",
   "id": "f8e55f4140c36ce4"
  }
 ],
 "metadata": {
  "kernelspec": {
   "display_name": "Python 3",
   "language": "python",
   "name": "python3"
  },
  "language_info": {
   "codemirror_mode": {
    "name": "ipython",
    "version": 2
   },
   "file_extension": ".py",
   "mimetype": "text/x-python",
   "name": "python",
   "nbconvert_exporter": "python",
   "pygments_lexer": "ipython2",
   "version": "2.7.6"
  }
 },
 "nbformat": 4,
 "nbformat_minor": 5
}
