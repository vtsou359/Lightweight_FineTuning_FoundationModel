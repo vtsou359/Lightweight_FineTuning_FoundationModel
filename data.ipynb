{
 "cells": [
  {
   "metadata": {},
   "cell_type": "markdown",
   "source": [
    "## Data Loading and Preprocessing Notebook\n",
    "\n",
    "### Data and approach explanation\n",
    "\n",
    "#### Dataset Source:\n",
    "The dataset utilized for this project is the **Consumer Financial Complaints** dataset, available on Hugging Face under the repository `BEE-spoke-data/consumer-finance-complaints`. This dataset contains customer complaints filed with the Consumer Financial Protection Bureau (CFPB) regarding various financial products.\n",
    "\n",
    "#### Data Filtering:\n",
    "To streamline the model fine-tuning process within computational constraints, the dataset was filtered to focus on specific criteria:\n",
    "- **Company**: Only complaints related to **Bank of America, National Association** were selected.\n",
    "- **Product**: Complaints were filtered to include two specific financial product categories:\n",
    "  - Credit Card or Prepaid Card\n",
    "  - Mortgage\n",
    "- **Complaint Availability**: Rows where the \"Consumer Complaint Narrative\" is **not null** were retained.\n",
    "\n",
    "After applying these filters, the dataset was balanced by sampling:\n",
    "- 1,000 complaints for the **Credit Card or Prepaid Card** product category.\n",
    "- 1,000 complaints for the **Mortgage** product category.\n",
    "\n",
    "This resulted in a total of **2,000 samples**, representing an equal number of complaints from each category.\n",
    "This balance ensures that the dataset is suitable for binary classification tasks without introducing class imbalance issues.\n",
    "\n",
    "#### Dataset Features:\n",
    "The following two fields were retained from the original dataset:\n",
    "1. **Consumer Complaint Narrative**: The textual complaint details provided by consumers.\n",
    "2. **Product**: The target label representing the financial product category (either **Credit card or prepaid card** or **Mortgage**).\n",
    "\n",
    "All additional columns not relevant to the model training were removed.\n",
    "\n",
    "#### Last notes:\n",
    "The filtered dataset was exported to a CSV file named `filtered_dataset.csv`, stored in the `data` folder.\n"
   ],
   "id": "733924e66c010c1b"
  },
  {
   "metadata": {},
   "cell_type": "markdown",
   "source": "#### Imports",
   "id": "1a6fb577d6c5cbcf"
  },
  {
   "metadata": {
    "ExecuteTime": {
     "end_time": "2025-01-26T09:58:27.620081Z",
     "start_time": "2025-01-26T09:58:21.339836Z"
    }
   },
   "cell_type": "code",
   "source": [
    "from datasets import load_dataset, ClassLabel, concatenate_datasets\n",
    "import pandas as pd\n",
    "import matplotlib.pyplot as plt\n",
    "from pathlib import Path"
   ],
   "id": "ba6d8a5bebba34c",
   "outputs": [],
   "execution_count": 1
  },
  {
   "metadata": {},
   "cell_type": "markdown",
   "source": "#### Data Loading",
   "id": "6a2a86eaf45ffc2d"
  },
  {
   "cell_type": "code",
   "id": "initial_id",
   "metadata": {
    "collapsed": true,
    "ExecuteTime": {
     "end_time": "2025-01-26T09:58:38.905765Z",
     "start_time": "2025-01-26T09:58:27.632124Z"
    }
   },
   "source": [
    "# Load the dataset from hugging face\n",
    "# See: https://huggingface.co/datasets/BEE-spoke-data/consumer-finance-complaints\n",
    "\n",
    "# The consumer-finance-complaints dataset only has a train split\n",
    "dataset = load_dataset(\"BEE-spoke-data/consumer-finance-complaints\",split=\"train\")"
   ],
   "outputs": [],
   "execution_count": 2
  },
  {
   "metadata": {},
   "cell_type": "markdown",
   "source": [
    "#### Data Filtering\n",
    "\n",
    "Due to computational constraints (local gpu+cpu) I decided to extract 2000 consumer complaint narratives from Bank of America, National Association.\n",
    "In addition, two target classes (financial products) decided to be extracted from the whole dataset: **Credit card or prepaid card** and **Mortgage**.\n",
    "In other words, the newly filtered dataset consists of 2000 instances, 1000 complaints about credit/prepaid cards and 1000 complaints about Mortgages."
   ],
   "id": "5d1a59f9d6e5145b"
  },
  {
   "metadata": {
    "ExecuteTime": {
     "end_time": "2025-01-26T09:58:39.686546Z",
     "start_time": "2025-01-26T09:58:39.333890Z"
    }
   },
   "cell_type": "code",
   "source": [
    "# Filter rows based on multiple column values\n",
    "filtered_dataset = dataset.filter(\n",
    "    lambda row: row[\"Company\"] == \"BANK OF AMERICA, NATIONAL ASSOCIATION\"\n",
    "    and row[\"Product\"] in [\"Credit card or prepaid card\", \"Mortgage\"]\n",
    "    and row[\"Consumer complaint narrative\"] is not None\n",
    ")\n",
    "\n",
    "# Separate the two classes\n",
    "mortgage_dataset = filtered_dataset.filter(\n",
    "\tlambda row: row[\"Product\"] == \"Mortgage\"\n",
    ")\n",
    "credit_card_dataset = filtered_dataset.filter(\n",
    "\tlambda row: row[\"Product\"] == \"Credit card or prepaid card\"\n",
    ")\n",
    "\n",
    "# Sample 1000 rows from each class (seed 42 to produce the same results)\n",
    "mortgage_sample = mortgage_dataset.shuffle(seed = 42).select(range(1000))\n",
    "credit_card_sample = credit_card_dataset.shuffle(seed = 42).select(range(1000))\n",
    "\n",
    "# Combine the two samples\n",
    "balanced_dataset = concatenate_datasets([mortgage_sample, credit_card_sample])"
   ],
   "id": "d3aa71bb2c1298c2",
   "outputs": [],
   "execution_count": 3
  },
  {
   "metadata": {},
   "cell_type": "markdown",
   "source": "#### Removing additional columns that may exist in dataset.",
   "id": "f037028b71bbba51"
  },
  {
   "metadata": {
    "ExecuteTime": {
     "end_time": "2025-01-26T09:58:39.769902Z",
     "start_time": "2025-01-26T09:58:39.698710Z"
    }
   },
   "cell_type": "code",
   "source": [
    "# keeping only [\"Consumer complaint narrative\", \"Product\"] features.\n",
    "filtered_columns_dataset = balanced_dataset.remove_columns(\n",
    "    [col for col in filtered_dataset.column_names\n",
    "     if col not in [\"Consumer complaint narrative\", \"Product\"]]\n",
    ")\n",
    "\n",
    "filtered_columns_dataset"
   ],
   "id": "a23cb6348cb1389",
   "outputs": [
    {
     "data": {
      "text/plain": [
       "Dataset({\n",
       "    features: ['Product', 'Consumer complaint narrative'],\n",
       "    num_rows: 2000\n",
       "})"
      ]
     },
     "execution_count": 4,
     "metadata": {},
     "output_type": "execute_result"
    }
   ],
   "execution_count": 4
  },
  {
   "metadata": {},
   "cell_type": "markdown",
   "source": "#### Convert dataset to a pandas Dataframe.",
   "id": "d1ddb8712c4e8b19"
  },
  {
   "metadata": {
    "ExecuteTime": {
     "end_time": "2025-01-26T09:58:39.870174Z",
     "start_time": "2025-01-26T09:58:39.785041Z"
    }
   },
   "cell_type": "code",
   "source": [
    "# Convert the dataset to a pandas DataFrame\n",
    "df = filtered_columns_dataset.to_pandas()"
   ],
   "id": "9829e4d5680246da",
   "outputs": [],
   "execution_count": 5
  },
  {
   "metadata": {},
   "cell_type": "markdown",
   "source": "#### Plotting the results",
   "id": "2591540497e31686"
  },
  {
   "metadata": {
    "ExecuteTime": {
     "end_time": "2025-01-26T10:00:52.405583Z",
     "start_time": "2025-01-26T10:00:52.233255Z"
    }
   },
   "cell_type": "code",
   "source": [
    "# Counting occurrences of each Product value\n",
    "product_counts = df[\"Product\"].value_counts()\n",
    "\n",
    "# Plotting the counts as a bar chart\n",
    "plt.figure(figsize = (10, 6))\n",
    "bars = product_counts.plot(kind = \"bar\", color = \"skyblue\", edgecolor = \"black\")\n",
    "\n",
    "# Annotating each bar with the corresponding count\n",
    "for index, value in enumerate(product_counts):\n",
    "\tplt.text(index, value - (value * 0.05),  # Position slightly below the top\n",
    "\t         str(value), color = \"black\", ha = \"center\", fontsize = 10\n",
    "\t         )\n",
    "\n",
    "# Add labels and title\n",
    "plt.title(\"Count of Financial Product Values in sample dataset\", fontsize = 16)\n",
    "plt.xlabel(\"Product\", fontsize = 12)\n",
    "plt.ylabel(\"Count\", fontsize = 12)\n",
    "plt.xticks(rotation = 45)\n",
    "plt.tight_layout()\n",
    "\n",
    "# Show the plot\n",
    "plt.show()\n",
    "\n"
   ],
   "id": "9b6af04d4a06b858",
   "outputs": [
    {
     "data": {
      "text/plain": [
       "<Figure size 1000x600 with 1 Axes>"
      ],
      "image/png": "[encoded data removed]"
     },
     "metadata": {},
     "output_type": "display_data"
    }
   ],
   "execution_count": 9
  },
  {
   "metadata": {},
   "cell_type": "markdown",
   "source": "#### Output the dataset that will be used for fine-tuning as a csv file for later use",
   "id": "db9c411292095f18"
  },
  {
   "metadata": {
    "ExecuteTime": {
     "end_time": "2025-01-26T10:01:06.934012Z",
     "start_time": "2025-01-26T10:01:06.866191Z"
    }
   },
   "cell_type": "code",
   "source": [
    "# Define the data folder and CSV file path\n",
    "data_folder = Path(\"data\")\n",
    "\n",
    "# Use pathlib to define a file path\n",
    "output_path = data_folder / \"filtered_dataset.csv\"\n",
    "\n",
    "# Export the DataFrame to CSV\n",
    "df.to_csv(output_path, index=False)\n",
    "\n",
    "print(f\"Filtered dataset successfully saved to {output_path}\")"
   ],
   "id": "28fc4ab815a1309d",
   "outputs": [
    {
     "name": "stdout",
     "output_type": "stream",
     "text": [
      "Filtered dataset successfully saved to data\\filtered_dataset.csv\n"
     ]
    }
   ],
   "execution_count": 10
  },
  {
   "metadata": {},
   "cell_type": "code",
   "outputs": [],
   "execution_count": null,
   "source": "",
   "id": "f8e55f4140c36ce4"
  }
 ],
 "metadata": {
  "kernelspec": {
   "display_name": "Python 3",
   "language": "python",
   "name": "python3"
  },
  "language_info": {
   "codemirror_mode": {
    "name": "ipython",
    "version": 2
   },
   "file_extension": ".py",
   "mimetype": "text/x-python",
   "name": "python",
   "nbconvert_exporter": "python",
   "pygments_lexer": "ipython2",
   "version": "2.7.6"
  }
 },
 "nbformat": 4,
 "nbformat_minor": 5
}
