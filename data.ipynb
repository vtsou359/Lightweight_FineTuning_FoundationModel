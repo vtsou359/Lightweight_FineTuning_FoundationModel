{
 "cells": [
  {
   "metadata": {
    "ExecuteTime": {
     "end_time": "2025-01-20T17:45:50.209008Z",
     "start_time": "2025-01-20T17:45:50.203818Z"
    }
   },
   "cell_type": "code",
   "source": [
    "from datasets import load_dataset, ClassLabel, concatenate_datasets\n",
    "import pandas as pd\n",
    "from pathlib import Path"
   ],
   "id": "ba6d8a5bebba34c",
   "outputs": [],
   "execution_count": 7
  },
  {
   "cell_type": "code",
   "id": "initial_id",
   "metadata": {
    "collapsed": true,
    "ExecuteTime": {
     "end_time": "2025-01-20T17:42:33.821134Z",
     "start_time": "2025-01-20T17:42:31.167968Z"
    }
   },
   "source": [
    "# Load the dataset from hugging face\n",
    "# See: https://huggingface.co/datasets/BEE-spoke-data/consumer-finance-complaints\n",
    "\n",
    "# The consumer-finance-complaints dataset only has a train split,\n",
    "# so we use the train_test_split method to split it into train and test\n",
    "dataset = load_dataset(\"BEE-spoke-data/consumer-finance-complaints\",\n",
    "                       split=\"train\")\n",
    "#splits = [\"train\", \"test\"]"
   ],
   "outputs": [],
   "execution_count": 5
  },
  {
   "metadata": {
    "ExecuteTime": {
     "end_time": "2025-01-20T17:45:53.634695Z",
     "start_time": "2025-01-20T17:45:53.246016Z"
    }
   },
   "cell_type": "code",
   "source": [
    "# Filter rows based on multiple column values\n",
    "filtered_dataset = dataset.filter(\n",
    "    lambda row: row[\"Company\"] == \"BANK OF AMERICA, NATIONAL ASSOCIATION\"\n",
    "    and row[\"Product\"] in [\"Credit card or prepaid card\", \"Mortgage\"]\n",
    "    and row[\"Consumer complaint narrative\"] is not None\n",
    ")\n",
    "\n",
    "# Separate the two classes\n",
    "mortgage_dataset = filtered_dataset.filter(\n",
    "\tlambda row: row[\"Product\"] == \"Mortgage\"\n",
    ")\n",
    "credit_card_dataset = filtered_dataset.filter(\n",
    "\tlambda row: row[\"Product\"] == \"Credit card or prepaid card\"\n",
    ")\n",
    "\n",
    "# Sample 500 rows from each class\n",
    "mortgage_sample = mortgage_dataset.shuffle(seed = 42).select(range(500))\n",
    "credit_card_sample = credit_card_dataset.shuffle(seed = 42).select(range(500))\n",
    "\n",
    "# Combine the two samples\n",
    "balanced_dataset = concatenate_datasets([mortgage_sample, credit_card_sample])"
   ],
   "id": "d3aa71bb2c1298c2",
   "outputs": [],
   "execution_count": 8
  },
  {
   "metadata": {
    "ExecuteTime": {
     "end_time": "2025-01-20T17:45:59.280383Z",
     "start_time": "2025-01-20T17:45:59.208575Z"
    }
   },
   "cell_type": "code",
   "source": [
    "filtered_columns_dataset = balanced_dataset.remove_columns(\n",
    "    [col for col in filtered_dataset.column_names\n",
    "     if col not in [\"Consumer complaint narrative\", \"Product\"]]\n",
    ")\n",
    "\n",
    "filtered_columns_dataset"
   ],
   "id": "a23cb6348cb1389",
   "outputs": [
    {
     "data": {
      "text/plain": [
       "Dataset({\n",
       "    features: ['Product', 'Consumer complaint narrative'],\n",
       "    num_rows: 1000\n",
       "})"
      ]
     },
     "execution_count": 9,
     "metadata": {},
     "output_type": "execute_result"
    }
   ],
   "execution_count": 9
  },
  {
   "metadata": {},
   "cell_type": "markdown",
   "source": "Convert dataset to a pandas Dataframe.",
   "id": "d1ddb8712c4e8b19"
  },
  {
   "metadata": {
    "ExecuteTime": {
     "end_time": "2025-01-20T17:46:04.708187Z",
     "start_time": "2025-01-20T17:46:04.694545Z"
    }
   },
   "cell_type": "code",
   "source": [
    "# Convert the dataset to a pandas DataFrame\n",
    "df = filtered_columns_dataset.to_pandas()"
   ],
   "id": "9829e4d5680246da",
   "outputs": [],
   "execution_count": 10
  },
  {
   "metadata": {
    "ExecuteTime": {
     "end_time": "2025-01-20T17:46:07.234907Z",
     "start_time": "2025-01-20T17:46:05.736882Z"
    }
   },
   "cell_type": "code",
   "source": [
    "import matplotlib.pyplot as plt\n",
    "\n",
    "# Count occurrences of each Product value\n",
    "product_counts = df[\"Product\"].value_counts()\n",
    "\n",
    "# Plot the counts as a bar chart\n",
    "plt.figure(figsize=(10, 6))\n",
    "product_counts.plot(kind=\"bar\", color=\"skyblue\", edgecolor=\"black\")\n",
    "\n",
    "# Add labels and title\n",
    "plt.title(\"Count of Product Values\", fontsize=16)\n",
    "plt.xlabel(\"Product\", fontsize=12)\n",
    "plt.ylabel(\"Count\", fontsize=12)\n",
    "plt.xticks(rotation=45)\n",
    "plt.tight_layout()\n",
    "\n",
    "# Show the plot\n",
    "plt.show()"
   ],
   "id": "aa9cd8551b1cc274",
   "outputs": [
    {
     "data": {
      "text/plain": [
       "<Figure size 1000x600 with 1 Axes>"
      ],
      "image/png": "[encoded data removed]"
     },
     "metadata": {},
     "output_type": "display_data"
    }
   ],
   "execution_count": 11
  },
  {
   "metadata": {},
   "cell_type": "markdown",
   "source": "Output the dataset that will be used for fine-tuning as a csv file for later use",
   "id": "db9c411292095f18"
  },
  {
   "metadata": {
    "ExecuteTime": {
     "end_time": "2025-01-20T17:46:24.481953Z",
     "start_time": "2025-01-20T17:46:24.436884Z"
    }
   },
   "cell_type": "code",
   "source": [
    "# Define the data folder and CSV file path\n",
    "data_folder = Path(\"data\")\n",
    "\n",
    "# Use pathlib to define a file path\n",
    "output_path = data_folder / \"filtered_dataset.csv\"\n",
    "\n",
    "# Export the DataFrame to CSV\n",
    "df.to_csv(output_path, index=False)\n",
    "\n",
    "print(f\"Filtered dataset successfully saved to {output_path}\")"
   ],
   "id": "28fc4ab815a1309d",
   "outputs": [
    {
     "name": "stdout",
     "output_type": "stream",
     "text": [
      "Filtered dataset successfully saved to data\\filtered_dataset.csv\n"
     ]
    }
   ],
   "execution_count": 12
  },
  {
   "metadata": {},
   "cell_type": "code",
   "outputs": [],
   "execution_count": null,
   "source": "",
   "id": "f8e55f4140c36ce4"
  }
 ],
 "metadata": {
  "kernelspec": {
   "display_name": "Python 3",
   "language": "python",
   "name": "python3"
  },
  "language_info": {
   "codemirror_mode": {
    "name": "ipython",
    "version": 2
   },
   "file_extension": ".py",
   "mimetype": "text/x-python",
   "name": "python",
   "nbconvert_exporter": "python",
   "pygments_lexer": "ipython2",
   "version": "2.7.6"
  }
 },
 "nbformat": 4,
 "nbformat_minor": 5
}
